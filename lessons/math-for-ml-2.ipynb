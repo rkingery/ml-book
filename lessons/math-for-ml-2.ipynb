{
 "cells": [
  {
   "cell_type": "markdown",
   "id": "535a9dce",
   "metadata": {},
   "source": [
    "# Math for ML (Part 2): Basic Calculus\n",
    "\n",
    "In Part 2 of this series of Math for ML I'll focus just on the basic calculus needed to understand machine learning algorithms. It turns out that we don't need to go into a huge amount of depth into either of these subjects to get what we really need to know out of them. For calculus, just understanding the concepts of differentiation and integration is pretty much sufficient. Calculational details aren't really that important.\n",
    "\n",
    "Calculus is essentially the study of the continuum. Important things that calculus seeks to understand are:\n",
    "- Limits: What happens when numbers get arbitrarily close to each other.\n",
    "- Infinitesimals: How to manipulate numbers that are \"infinitely\" small or large. \n",
    "- Differentiation: How one variable changes continuously in response to one or more other variables. \n",
    "- Integration: How to add up infinitely many numbers to get a finite number."
   ]
  },
  {
   "cell_type": "markdown",
   "id": "809c63dd",
   "metadata": {},
   "source": [
    "## Infinitesimals and Differential Calculus\n",
    "\n",
    "### Infinitesimals\n",
    "\n",
    "Fundamental to the understanding of calculus is the idea of an \"infinitely small\" number. A number that's not 0 but so close to being 0 that you can't really tell it isn't 0. These small numbers are often written in math with letters like $\\varepsilon$ or $\\delta$. Think of them as *very very* tiny numbers, so tiny their square is basically 0:\n",
    "$$\\varepsilon > 0, \\quad \\varepsilon^2 \\approx 0.$$\n",
    "\n",
    "But what does this even mean? Here it might be helpful to recall our discussion of floating point numbers. Recall that we can't get infinite precision. In double precision, we only have 11 bits for an exponent and 52 bits for the mantissa. If we pick a number that uses 11 bits of binary exponent (a really small number), then if we square it its exponent would require more than 11 bits to represent, so it *literally* would have a square of zero.\n",
    "\n",
    "Just for fun let's look at the *really* tiny number $10^{-300}$, or `1e-300`. That's 300 zeros of decimal places before the 1 even shows up. Python thinks `1e-300` is just fine. But what happens if we square it? We'd then get $10^{-600}$, or 600 zeros of decimal places followed by a 1. Python does not like that number. It thinks it's 0."
   ]
  },
  {
   "cell_type": "code",
   "execution_count": 1,
   "id": "39a7b0a4",
   "metadata": {},
   "outputs": [
    {
     "data": {
      "text/plain": [
       "(1e-300, 0.0)"
      ]
     },
     "execution_count": 1,
     "metadata": {},
     "output_type": "execute_result"
    }
   ],
   "source": [
    "epsilon = 1e-300\n",
    "epsilon, epsilon ** 2"
   ]
  },
  {
   "cell_type": "markdown",
   "id": "603d742e",
   "metadata": {},
   "source": [
    "Of course, you could argue that we could just go to a higher precision then. Use more bits. But eventually, if we keep making `epsilon` small enough we'll hit a point where `epsilon ** 2 = 0.0`. Thus, if it makes you feel better, when you see an infinitesimal just think \"$10^{-300}$ in double precision\".\n",
    "\n",
    "In practice, when using infinitesimals on a computer we're more likely to use an `epsilon` like `1e-3` or `1e-5`. Yes, in those cases their square is non-zero, but they turn out to be much more numerical friendly to work with. Remember the whole weirdness involved with numerical roundoff when doing floating point arithmetic. While a larger number like `1e-5` will leave an error in the calculation, it's much nicer to add or multiply with another float than say `1e-300`. We have other ways of dealing with the errors arising from the fact that these numbers aren't small enough.\n",
    "\n",
    "Infinitesimals are especially interesting when added to regular numbers. For example, consider some number $x$. It could be 2 or -100 or whatever you want. Suppose now we add to it an infinitesimal number $\\varepsilon$. What's the square of this new number? We'd have\n",
    "$$(x + \\varepsilon)^2 = x^2 + 2x\\varepsilon + \\varepsilon^2.$$\n",
    "But since $\\varepsilon^2 \\approx 0$,\n",
    "$$(x + \\varepsilon)^2 \\approx x^2 + 2x\\varepsilon.$$\n",
    "\n",
    "Okay, but what does this mean? Well, I can reformulate the question as follows: \"If I change $x$ by a little bit, how much does the function $y=x^2$ change\"? If $x$ is nudged to a value close by of $x+\\varepsilon$, then $y$ necessarily gets nudged to a new value $(x+\\varepsilon)^2$. \n",
    "\n",
    "So how much does $y$ change? Evidently it's just\n",
    "$$(x+\\varepsilon)^2 - x^2 \\approx 2x\\varepsilon.$$\n",
    "That is, if we change $x$ by a small amount $\\varepsilon$, then $y$ itself changes by an amount $2x\\varepsilon$. Interestingly, how much $y$ changes actually depends on which $x$ we pick. If $x=1$ then $y$ changes by $2\\varepsilon$, just twice how much $x$ is nudged. If $x=1000$ though, then $y$ changes by $2000\\varepsilon$, a much bigger change.\n",
    "\n",
    "### Derivatives\n",
    "\n",
    "When talking about things like \"if we change $x$ a little bit, how much does $y$ change\", we typically use a special notation to make it clear what is a small change of what. Instead of writing $\\varepsilon$ we just write $dx$ to indicate \"a little bit of $x$\". For \"a little bit of $y$\" we'd write $dy$. Note that both $dx$ and $dy$ are always infinitesimals, but their *ratio* is not as we'll see in a second. When using this $d$ notation, the values $dx$ and $dy$ are sometimes called **differentials**.\n",
    "\n",
    "In this notation, we'd say \"if $x$ changes to $x+dx$, then $y$ changes to $y+dy$\". The small change we're solving for is then just $dy$, the amount $y$ changes if $x$ is changed by $dx$:\n",
    "$$y + dy = f(x+dx) = (x + dx)^2 = x^2 + 2xdx + dx^2 \\approx 2xdx.$$\n",
    "So $dy \\approx 2xdx$, or (re-writing just because I can),\n",
    "$$\\frac{dy}{dx} = 2x.$$\n",
    "\n",
    "This ratio of differentials $\\frac{dy}{dx}$ is called the **derivative** of the function $y=x^2$. Notice there's no infinitesimal ($dy$ or $dx$) on the right-hand side, hence the derivative is not a small number. In fact it's on the scale of $x$ in this case.\n",
    "\n",
    "We can talk about any function $f(x)$ having a derivative like this (provided it's reasonably well behaved). If $y=f(x)$ and we nudge $x$ to a close by value $x+dx$, then $y$ gets nudged by $y+dy=f(x+dx)$. The amount $y=f(x)$ changes *per amount* $dx$ is then the derivative\n",
    "$$\\frac{dy}{dx} = \\frac{f(x+dx)-f(x)}{dx}.$$\n",
    "Note this definition is only exact when $dx$ is infinitesimal. For finite values of $dx$ like what we'd code up on a computer this equality is only approximately true.\n",
    "\n",
    "The derivative has an interesting and useful geometric interpretation as the **slope** of the curve $y=f(x)$ at the point $x$. To see this, imagine a right triangle with length $dx$ and height $dy$. The slope of its hypotenuse is just the rise over over the run, i.e. the ratio $\\frac{dy}{dx}$. Since $dy$ is a function of $x$, the shape of the triangle will change for each $x$, hence so will the slope.\n",
    "\n",
    "Conceptually, the derivative captures the rate at which changing an input changes the output. If the derivative is small, changing the input doesn't change the output much. If it's high, changing the input a little will change the output a lot. A positive derivative will make the output larger if the input increases. A negative derivative will make the output smaller if the input increases. If the derivative is zero, the output won't respond at all to changes in the input.\n",
    "\n",
    "Here's an example to help you visualize what derivatives are. I'll plot the function $y=x^2$ and its *tangent* at a point $x_0=2$ on the x-axis. The corresponding $y$ value at $x_0$ is just $y_0=x_0^2=4$. The tangent is then the line of slope $\\frac{dy}{dx}$ centered at the point of interest $(x_0,y_0)$, i.e. the line given by\n",
    "$$y = y_0 + \\frac{dy}{dx}\\bigg|_{x=x_0}(x - x_0).$$\n",
    "The notation with the vertical line with $x=x_0$ at the bottom is just a way of saying \"pick out the value of the derivative specifically when $x=x_0$\". Again, pay no attention yet to the plot function, as we'll cover that stuff more later. The tangent line calculation in the code below is \n",
    "```\n",
    "y_tangent = y0 + dydx0 * (x - x0).\n",
    "```\n",
    "\n",
    "Feel free to adjust the value of `x0` though and observe how the slope changes with the value you pick. In all cases, the line should hug the curve of the function and stay tangent to it. If you're used to numpy already you can play around with the function itself as well by changing the line `y = x ** 2` to any other function you want."
   ]
  },
  {
   "cell_type": "code",
   "execution_count": 2,
   "id": "59fcb928",
   "metadata": {},
   "outputs": [],
   "source": [
    "import numpy as np\n",
    "import matplotlib.pyplot as plt\n",
    "from utils import *"
   ]
  },
  {
   "cell_type": "code",
   "execution_count": 3,
   "id": "1264ebf6",
   "metadata": {},
   "outputs": [
    {
     "data": {
      "image/png": "[encoded data removed]",
      "text/plain": [
       "<Figure size 400x300 with 1 Axes>"
      ]
     },
     "metadata": {},
     "output_type": "display_data"
    }
   ],
   "source": [
    "x0 = 2 # the point we want the tangent at\n",
    "\n",
    "x = np.arange(-10, 10, 0.1)\n",
    "y = x ** 2\n",
    "\n",
    "dx = 1e-5\n",
    "x_nudged = x + dx\n",
    "y_nudged = x_nudged ** 2\n",
    "dy = y_nudged - y\n",
    "\n",
    "idx_x_eq_x0 = np.where(np.abs(x - x0) < dx)[0].item()\n",
    "y0, dydx0 = y[idx_x_eq_x0], (dy / dx)[idx_x_eq_x0].flatten()\n",
    "\n",
    "y_tangent = y0 + dydx0 * (x - x0)\n",
    "\n",
    "plot_function(x, (y, y_tangent), (-5, 5), (0, 10), title=f'Tangent of $y=x^2$ at $x={x0}$')"
   ]
  },
  {
   "cell_type": "markdown",
   "id": "cb0650ed",
   "metadata": {},
   "source": [
    "Derivatives obey several laws that you can easily derive from our infinitesimal definition above. For example, here's a derivation of the additive law of derivatives, which states that if $u=g(x)$ and $v=h(x)$ are two different functions, then the derivative of their *sum* $y = f(x) = g(x)+h(x)$ is the sum of their individual derivatives:\n",
    "$$\\frac{d(u+v)}{dx} = \\frac{du}{dx} + \\frac{dv}{dx}.$$\n",
    "\n",
    "Let $y=u+v$. Using the rule $y + dy = f(x+dx)$, we have\n",
    "$$\n",
    "\\begin{align}\n",
    "dy &= f(x+dx)-f(x) \\\\\n",
    "&= \\big(g(x+dx)+h(x+dx)\\big)-\\big(g(x)+h(x)\\big) \\\\\n",
    "&= \\big(g(x+dx)-g(x)\\big)+\\big(h(x+dx)-h(x)\\big) \\\\\n",
    "&= du + dv.\n",
    "\\end{align}\n",
    "$$\n",
    "Dividing both sides through by $dx$ gives the additive law for derivatives. Q.E.D.\n",
    "\n",
    "Here are some other laws. For machine learning you don't really need to memorize any of these except *maybe* the chain rule, which is the backbone of the backpropagation algorithm we'll see later. To save space I'll state them in differential form, i.e. not dividing through by $dx$.\n",
    "\n",
    "Derivative Laws:\n",
    "- Additive Rule: $d(u + v) = du + dv$ for any two functions $u=f(x)$ and $v=g(x)$,\n",
    "- Constant Rule: $d(cy) = c dy$ for any constant $c$,\n",
    "- Product Rule: $d(uv)=udv + vdu$ for any two functions $u=f(x)$ and $v=g(x)$,\n",
    "- Quotient Rule: $v^2 d(\\frac{u}{v}) = vdu-udv$ for any two functions $u=f(x)$ and $v=g(x)$,\n",
    "- Chain Rule: $dy = \\frac{dy}{dz} dz$ for any compositional function $y=f(z)$ and $z=g(x)$, i.e. $y=f(g(x))$.\n",
    "\n",
    "For the sake of completeness I'll list the derivatives of a few common classes of functions as well. You don't need to memorize these either. I'll again type them in differential form to save space. It's completely equivalent.\n",
    "\n",
    "Common Derivatives:\n",
    "- $d(c) = 0$ for any constant $c$,\n",
    "- $d(x^n) = nx^{n-1}dx$ for any real number $n \\neq 0$\n",
    "- $d(e^x) = e^xdx$,\n",
    "- $d(\\log(x)) = \\frac{1}{x}dx$,\n",
    "- $d(\\sin(x)) = \\cos(x)dx$,\n",
    "- $d(\\cos(x)) = -\\sin(x)dx$,\n",
    "- $d(\\text{sigmoid}(x)) = \\text{sigmoid}(x)\\big(1-\\text{sigmoid}(x)\\big)dx$,\n",
    "- $d(\\tanh(x)) = \\big(1 - \\tanh^2(x)\\big)dx$.\n",
    "\n",
    "**Aside:** Annoyingly there are many different notations for the derivative. I find the ratio of differentials notation the most intuitive since it tells you exactly what it is. Other notations for the derivative of a function $y=f(x)$ are $f'(x)$, $y'$, $\\dot y$, $\\nabla y$, and $D f(x)$. I'll try to avoid these in this book for the most part.\n",
    "\n",
    "Note that you don't need to memorize any of these rules in practice. It's more important to have a conceptual understanding of them than a rigorous understanding. A couple reasons for this.\n",
    "- Modern day ML uses a trick called autodifferentiation to get around having to actually calculate derivatives. \n",
    "- There are tools that will automatically calculate derivatives for you when you need them. \n",
    "\n",
    "**Tangent:** One of my favorite tools for calculating derivatives symbolically is [WolframAlpha](https://www.wolframalpha.com/). You can just type what you want to take the derivative of in more or less natural language and it'll usually figure out what you mean and instantly give you the right answer. It's usually easier to go to their website and type your query in the search bar. But it turns out you can use WolframAlpha as an API too. This neat trick lets me show a couple of examples without having to leave the notebook. Note that WolframAlpha can do *far* more than just calculate derivatives. See their documentation for more info.\n",
    "\n",
    "Here are the derivatives of a couple of functions I typed in.\n",
    "\n",
    "**Note:** If you want to play with WolframAlpha it's probably easier to just go to their webpage via the above link. If you want to keep things in the notebook too you'll need to create an account and register for a free API key [here](https://products.wolframalpha.com/api). You'll also need to `pip install wolframalpha` in your environment and be connected to the internet."
   ]
  },
  {
   "cell_type": "code",
   "execution_count": 4,
   "id": "c6166294",
   "metadata": {},
   "outputs": [
    {
     "data": {
      "text/plain": [
       "'d/dx(e^x + x^2 - log(x)) = 2 x + e^x - 1/x'"
      ]
     },
     "execution_count": 4,
     "metadata": {},
     "output_type": "execute_result"
    }
   ],
   "source": [
    "query_wolfram_alpha('d/dx e^x + x^2 - log(x)')"
   ]
  },
  {
   "cell_type": "code",
   "execution_count": 5,
   "id": "212b706a",
   "metadata": {},
   "outputs": [
    {
     "data": {
      "text/plain": [
       "'d/dx((x^5 - 5 sin(x))/(e^x + log(x))) = (5 (e^x + log(x)) (x^4 - cos(x)) - (e^x + 1/x) (x^5 - 5 sin(x)))/(e^x + log(x))^2'"
      ]
     },
     "execution_count": 5,
     "metadata": {},
     "output_type": "execute_result"
    }
   ],
   "source": [
    "query_wolfram_alpha('d/dx (x^5 - 5*sin(x)) / (e^x + log(x))')"
   ]
  },
  {
   "cell_type": "markdown",
   "id": "6611b177",
   "metadata": {},
   "source": [
    "## Integration\n",
    "\n",
    "The other half of calculus is essentially about summing up small things to get big things. By small things of course we again mean infinitesimals. Suppose we have a bunch of infinitesimals $\\varepsilon_1, \\varepsilon_2, \\cdots, \\varepsilon_n$. Like any other number we can add them together to get a new infinitesimal\n",
    "$$\\varepsilon = \\varepsilon_1 + \\varepsilon_2 + \\cdots + \\varepsilon_n.$$\n",
    "\n",
    "If we add up only a *finite* number of infinitesimals we'll again get an infinitesimal, so in the case above $\\varepsilon$ is again an infinitesimal assuming $n$ is finite. But, surprisingly, if we add up *infinitely* many infinitesimals we'll get something finite. This is the idea behind integration.\n",
    "\n",
    "Suppose we have again a function $y=f(x)$. For example, $y=\\sqrt{x}$."
   ]
  },
  {
   "cell_type": "code",
   "execution_count": 6,
   "id": "bb798fce",
   "metadata": {},
   "outputs": [
    {
     "data": {
      "image/png": "[encoded data removed]",
      "text/plain": [
       "<Figure size 400x300 with 1 Axes>"
      ]
     },
     "metadata": {},
     "output_type": "display_data"
    }
   ],
   "source": [
    "x = np.arange(0, 10, 0.1)\n",
    "y = np.sqrt(x)\n",
    "plot_function(x, y, (0, 10), (0, 4), title='$y=\\sqrt{x}$')"
   ]
  },
  {
   "cell_type": "markdown",
   "id": "678d3fe2",
   "metadata": {},
   "source": [
    "Suppose for whatever reason we're interested in the area bounded by the curve $y=\\sqrt{x}$ and the $x$ axis, say from $x=0$ to $x=10$. How would we calculate this? One idea might be to approximate the function with rectangles of width $dx=1$ and height $f(x)$, where $x$ is taken at each integer value $x=1,2,3,\\cdots,10$. Then approximately speaking the area would just be the sum of all these rectangles:\n",
    "\n",
    "$$\n",
    "\\begin{align}\n",
    "\\text{area} &\\approx f(1)dx + f(2)dx + f(3)dx + \\cdots + f(10)dx \\\\\n",
    "&= f(1) + f(2) + f(3) + \\cdots + f(10) \\\\\n",
    "&= \\sqrt{1} + \\sqrt{2} + \\sqrt{3} + \\cdots + \\sqrt{10} \\\\\n",
    "&\\approx 22.468\n",
    "\\end{align}\n",
    "$$\n",
    "\n",
    "Unfortunately there's an error in this answer. These rectangles tend to *overestimate* the area. The exact answer turns out to be $\\frac{20}{3}\\sqrt{10} \\approx 21.082$. How can we improve this estimate? Use more rectangles! Our problem was that the rectangles we used were too coarse. What we need to do is make $dx$ smaller and the number of rectangles used bigger.\n",
    "\n",
    "Suppose $N$ is the number or rectangles. We'll take the heights of the function at each equal length point $x_1,x_2,\\cdots,x_N$, each of width $dx$. Then\n",
    "$$\\text{area} \\approx f(x_1)dx + f(x_2)dx + f(x_3)dx + \\cdots + f(x_N)dx.$$\n",
    "It's annoying to write out these sums like this, so we have a shorthand for it using the capital sigma, $\\sum$:\n",
    "$$ \\text{area} \\approx \\sum_{n=1}^{N} f(x_n) dx.$$\n",
    "Read the righthand side of this expression as \"the **sum** of $f(x_n)dx$ from $n=1$ to $n=N$\" (in integer steps). It means exactly the same thing as the longhand form $f(x_1)dx + \\cdots + f(x_N)dx$, except it's more compact. The number $n$ being summed over is called a **dummy index**. It can be whatever we want since it never appears on the left hand side.\n",
    "\n",
    "If we keep making these rectangles smaller and smaller until $dx$ is infinitesimal and the number or rectangles is infinite, we'll get the *exact* area. In this situation we use a different symbol, $\\int$, a long S that looks like the S in \"sum\". It basically means the same thing that $\\Sigma$ does above, except it's understood that we're summing over infinitely many infinitesimal terms $f(x)dx$:\n",
    "$$\\text{area} = \\int_0^{10} f(x) dx.$$\n",
    "The right-hand side is called the (definite) **integral** of $y=\\sqrt{x}$ from $x=0$ to $x=10$.\n",
    "\n",
    "Let's try to calculate these areas using smaller and smaller rectangles and see how close we can get to the exact answer."
   ]
  },
  {
   "cell_type": "code",
   "execution_count": 7,
   "id": "120aad2b",
   "metadata": {},
   "outputs": [
    {
     "name": "stdout",
     "output_type": "stream",
     "text": [
      "N =     10 \t dx =   1.0000 \t area = 22.468278\n",
      "N =    100 \t dx =   0.1000 \t area = 21.233523\n",
      "N =   1000 \t dx =   0.0100 \t area = 21.097456\n",
      "N =  10000 \t dx =   0.0010 \t area = 21.083426\n",
      "N = 100000 \t dx =   0.0001 \t area = 21.082009\n"
     ]
    }
   ],
   "source": [
    "f = lambda x: np.sqrt(x)\n",
    "\n",
    "for dx in [1, 0.1, 0.01, 0.001, 0.0001]:\n",
    "    N = int(10 / dx)\n",
    "    xs = np.cumsum(dx * np.ones(N))\n",
    "    area = np.sum([f(x)*dx for x in xs])\n",
    "    print(f'N = {N:6d} \\t dx = {dx:8.4f} \\t area = {area:4f}')"
   ]
  },
  {
   "cell_type": "markdown",
   "id": "28e9336e",
   "metadata": {},
   "source": [
    "It looks like if we want to get the correct answer $21.082$ to 3 decimal places we'd need to use $N=100,000$ rectangles of width $dx=10^{-4}$. In practice, that's pretty horrible. There are better ways to calculate these integrals numerically on a computer than just using the above definition (look up [Simpson's Rule](https://en.wikipedia.org/wiki/Simpson%27s_rule) for example).\n",
    "\n",
    "For an arbitrary function $y=f(x)$, the integral from a left-hand point $x=a$ to a right-hand point $x=b$ is given similarly by\n",
    "$$\\int_a^b y dx = \\int_a^b f(x) dx = \\sum_{n=1}^{N} f(x_n) dx,$$\n",
    "where $dx$ is taken to be infinitesimal and $N$ to be infinitely large in proportion, so that $x_n-x_{n-1}=dx$ for each $n=1,\\cdots,N$. That is, the integral is defined as the sum of infinitely small non-overlapping rectangles under the curve $f(x)$, each of width $dx$ and height $f(x_n)$.\n",
    "\n",
    "It's not at all clear from this definition how we'd get the *exact* answer $\\frac{20}{3}\\sqrt{10}$ shown above. We can get to it approximately by summing rectangles, but to actually be able to *calculate* the exact value we'd need a few integral laws. I'll state them, but again, you don't need to know them for machine learning. \n",
    "\n",
    "Before doing so I'll define the *indefinite* integral, which is the *function* $F(x)$ such that\n",
    "$$F(b) - F(a) = \\int_a^b f(x) dx$$\n",
    "for all possible choices of $a$ and $b$. \n",
    "\n",
    "Equivalently, $F(x)$ is the function whose derivative is just $f(x)$ (up to an additive constant). This rule is called the Fundamental Theorem of Calculus, which I won't prove. It essentially states that integrals and derivatives are inverses of each other, an interesting and non-intuitive fact, and probably the most important result of calculus.\n",
    "\n",
    "Typically, the indefinite integral is written as an integral without the limits at the end, i.e.\n",
    "$$F(x) = \\int f(x) dx.$$ \n",
    "\n",
    "Here are the main integral laws. Notice that the laws below look a lot like the derivative laws defined above. That's not a coincidence. It all has to do with the fundamental theorem.\n",
    "\n",
    "Integral Laws:\n",
    "- Additive Rule: $\\int (u + v)dx = \\int udx + \\int vdx$ for any two functions $u=f(x)$ and $v=g(x)$,\n",
    "- Constant Rule: $\\int cy dx = c \\int y dx$ for any constant $c$,\n",
    "- Integration By Parts: $\\int u dv = uv - \\int v du$ for any two functions $u=f(x)$ and $v=g(x)$,\n",
    "- Change of Variables: $\\int f(u) du = \\int f(g(x)) \\frac{du}{dx} dx$ for any compositional function $y=f(u)$, $u=g(x)$, so $y=f(g(x))$.\n",
    "\n",
    "Here are some indefinite integrals of common functions:\n",
    "- $\\int c dx = cx$ for any constant $c$,\n",
    "- $\\int x^n dx = \\frac{x^{n+1}}{n+1}$ for any real number $n \\neq -1$\n",
    "- $\\int e^x dx = e^x$,\n",
    "- $\\int \\frac{1}{x}dx = \\log(x)$,\n",
    "- $\\int \\sin(x)dx = -\\cos(x)$,\n",
    "- $\\int \\cos(x)dx = \\sin(x)$,\n",
    "- $\\int \\text{sigmoid}(x)dx = \\log(1+e^x)$,\n",
    "- $\\int\\tanh(x)dx = \\log(\\cosh(x))$.\n",
    "\n",
    "\n",
    "Again, don't worry too much about this stuff. In practice it mainly suffices to know what an integral *is*, which is a the area under the curve $y=f(x)$ (at least for univariate functions). The calculational details aren't that important. WolframAlpha can handle those too. Here's an example, using it to calculate our definite integral above."
   ]
  },
  {
   "cell_type": "code",
   "execution_count": 8,
   "id": "b7b19a96",
   "metadata": {},
   "outputs": [
    {
     "data": {
      "text/plain": [
       "'integral_0^10 sqrt(x)dx = (20 sqrt(10))/3≈21.082'"
      ]
     },
     "execution_count": 8,
     "metadata": {},
     "output_type": "execute_result"
    }
   ],
   "source": [
    "query_wolfram_alpha('integral sqrt(x) dx from 0 to 10')"
   ]
  },
  {
   "cell_type": "markdown",
   "id": "5bc8f3c7",
   "metadata": {},
   "source": [
    "**Aside:** Despite appearing to be just like derivatives, integrals turn out to be *much* harder to calculate exactly. Not all functions even have an indefinite integral form. A famous example that we'll work with over and over is the Gaussian function or bell curve $y=e^{-x^2}$. There is no $F(x)$ such that $f(x)=e^{-x^2}$. This turns out to be true of all but the simplest functions. This isn't a real barrier in practice however, since we can always calculate definite integrals approximately by summing rectangles up just like we did above."
   ]
  },
  {
   "cell_type": "code",
   "execution_count": null,
   "id": "39d61c51",
   "metadata": {},
   "outputs": [],
   "source": []
  },
  {
   "cell_type": "code",
   "execution_count": null,
   "id": "9e5b7a56",
   "metadata": {},
   "outputs": [],
   "source": []
  },
  {
   "cell_type": "code",
   "execution_count": 9,
   "id": "759a5ea6",
   "metadata": {},
   "outputs": [],
   "source": [
    "# give a numerical derivative example like you did with integrals, with different dx choices"
   ]
  },
  {
   "cell_type": "code",
   "execution_count": null,
   "id": "08cb02b4",
   "metadata": {},
   "outputs": [],
   "source": []
  },
  {
   "cell_type": "code",
   "execution_count": null,
   "id": "7a5c2b4b",
   "metadata": {},
   "outputs": [],
   "source": []
  },
  {
   "cell_type": "code",
   "execution_count": null,
   "id": "e5aa60c3",
   "metadata": {},
   "outputs": [],
   "source": []
  }
 ],
 "metadata": {
  "kernelspec": {
   "display_name": "Python 3 (ipykernel)",
   "language": "python",
   "name": "python3"
  },
  "language_info": {
   "codemirror_mode": {
    "name": "ipython",
    "version": 3
   },
   "file_extension": ".py",
   "mimetype": "text/x-python",
   "name": "python",
   "nbconvert_exporter": "python",
   "pygments_lexer": "ipython3",
   "version": "3.10.4"
  }
 },
 "nbformat": 4,
 "nbformat_minor": 5
}
