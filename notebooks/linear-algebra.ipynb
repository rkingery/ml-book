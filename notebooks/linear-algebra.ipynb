{
 "cells": [
  {
   "cell_type": "markdown",
   "id": "f929c8d1",
   "metadata": {},
   "source": [
    "# Math for ML: Linear Algebra\n",
    "\n",
    "In part 3 of this series on Math for ML I'll introduce the important topic of linear algebra. A basic understanding of linear algebra is absolutely fundamental to machine learning. In some sense ML basically *is* an application of linear algebra. We'll cover vectors, matrices, tensors, and important operations between them.\n",
    "\n",
    "Let's get started."
   ]
  },
  {
   "cell_type": "code",
   "execution_count": 1,
   "id": "9bb16ae0",
   "metadata": {},
   "outputs": [],
   "source": [
    "import numpy as np\n",
    "import matplotlib.pyplot as plt\n",
    "from utils.math_ml import *"
   ]
  },
  {
   "cell_type": "code",
   "execution_count": 2,
   "id": "475dbc4d",
   "metadata": {},
   "outputs": [],
   "source": [
    "# this makes every line of a cell print instead of just the last line\n",
    "from IPython.core.interactiveshell import InteractiveShell\n",
    "InteractiveShell.ast_node_interactivity = \"all\"\n",
    "plt.rcParams[\"figure.figsize\"] = (4, 3)"
   ]
  },
  {
   "cell_type": "markdown",
   "id": "1addce3b",
   "metadata": {},
   "source": [
    "## Vectors\n",
    "\n",
    "### Vector Definition\n",
    "\n",
    "The most fundamental object of linear algebra is the **vector**. In mathematical terms, a (real-valued) vector is a rank-1 array $\\mathbf{x}$ containing $n$ real numbers (called **elements**) $x_0,x_1,x_2,\\cdots,x_{n-1}$,\n",
    "$$\\mathbf{x} = (x_0,x_1,x_2,\\cdots,x_{n-1}).$$\n",
    "\n",
    "We typically use the use of the bold-face $\\mathbf{x}$ to represent the entire vector symbolically, and we use unbolded italic characters $x_i$ to denote the elements of that vector. This is a common convention. When writing vectors by hand it's common to instead write the vector with an arrow over it instead, like $\\vec{x}$.\n",
    "\n",
    "Note my choice to use 0-indexing. The $n$ elements go from $x_0,x_1,x_2,\\cdots,x_{n-1}$. This differs from the usual 1-indexing convention used in math, but agrees with the python indexing convention. I chose it so it's easier to go back and forth between math and code in this book.\n",
    "\n",
    "**Notation:** Math folks like to call the space in which these vectors live the **vector space**, denoted $\\mathbb{R}^n$ for a vector space of size $n$. To say a vector $\\mathbf{x}$ is in the vector space we'd write $\\mathbf{x} \\in \\mathbb{R}^n$.\n",
    "\n",
    "To be valid vectors, they must have well-defined operations of vector addition and scalar multiplication.\n",
    "- If $\\mathbf{x}=(x_0,\\cdots,x_{n-1})$ and $\\mathbf{y}=(y_0,\\cdots,y_{n-1})$ are two vectors in the vector space $\\mathbb{R}^n$, then so is their sum defined by\n",
    "$$\\mathbf{x} + \\mathbf{y} = (x_0+y_0, x_1+y_1, \\cdots, x_{n-1}+y_{n-1}).$$\n",
    "- If $\\mathbf{x}=(x_0,\\cdots,x_{n-1})$ is a vector in the vector space $\\mathbb{R}^n$ and $c \\in \\mathbb{R}$ is a scalar, then their product is also a vector in $\\mathbb{R}^n$ defined by\n",
    "$$c\\mathbf{x} = (cx_0,cx_1,\\cdots,cx_{n-1}).$$\n",
    "\n",
    "Here's an example where we add to vectors, and scalar multiply another. Things happen exactly as you'd expect."
   ]
  },
  {
   "cell_type": "code",
   "execution_count": 3,
   "id": "137ff34d",
   "metadata": {},
   "outputs": [
    {
     "data": {
      "text/plain": [
       "array([2, 2, 2, 2, 2])"
      ]
     },
     "execution_count": 3,
     "metadata": {},
     "output_type": "execute_result"
    },
    {
     "data": {
      "text/plain": [
       "array([0, 0, 0, 0, 0])"
      ]
     },
     "execution_count": 3,
     "metadata": {},
     "output_type": "execute_result"
    }
   ],
   "source": [
    "x = np.array([1, 1, 1, 1, 1])\n",
    "y = np.array([1, 1, 1, 1, 1])\n",
    "x + y\n",
    "x - y"
   ]
  },
  {
   "cell_type": "code",
   "execution_count": 4,
   "id": "1c9cc9f6",
   "metadata": {},
   "outputs": [
    {
     "data": {
      "text/plain": [
       "array([10, 10, 10, 10, 10])"
      ]
     },
     "execution_count": 4,
     "metadata": {},
     "output_type": "execute_result"
    }
   ],
   "source": [
    "x = np.array([1, 1, 1, 1, 1])\n",
    "c = 10\n",
    "c * x"
   ]
  },
  {
   "cell_type": "markdown",
   "id": "48bce0c1",
   "metadata": {},
   "source": [
    "### Visualizing Vectors\n",
    "\n",
    "Though we obviously can't mentally visualize an arbitrary $n$ dimensional space, in the simple case when vectors only have two elements we can easily visualize a vector as an arrow pointing in the x-y plane.\n",
    "\n",
    "Below I'll plot the vector $\\mathbf{v} = (1, 2)$ using the helper function `plot_vectors`, identifying the components with the axes as $x=1$ and $y=2$. Notice how the arrow begins at the origin and terminates at the point $(1,2)$. The vector *points* in the direction of $(1,2)$.\n",
    "\n",
    "Feel free to play around with different vectors and plot them. Just make sure they're 2D. Note you may need to adjust the scales of the plot for some choices of `v`, which you can do with the `xlim` and `ylim` keywords."
   ]
  },
  {
   "cell_type": "code",
   "execution_count": 5,
   "id": "23defed8",
   "metadata": {},
   "outputs": [
    {
     "data": {
      "image/png": "[encoded data removed]",
      "text/plain": [
       "<Figure size 400x300 with 1 Axes>"
      ]
     },
     "metadata": {},
     "output_type": "display_data"
    }
   ],
   "source": [
    "v = np.array([1, 2])\n",
    "plot_vectors(v, xlim=(0, 2.5), ylim=(0, 2.5), title=f'$v={v[0],v[1]}$')"
   ]
  },
  {
   "cell_type": "markdown",
   "id": "d92ef279",
   "metadata": {},
   "source": [
    "What about $n$ dimensions? Perhaps the best thing to do there is to just imagine you have an arrow just like above, but instead of pointing in a 2D plane, it's pointing in an $n$ dimensional space. For example, you could imagine an arrow pointing in 3D space just fine, right?\n",
    "\n",
    "We can also visualize what the operations of vector addition and scalar multiplication look like in this simple case of 2D vectors. For vector addition, imagine you have two vectors $\\mathbf{v}$ and $\\mathbf{w}$. Plot them just like above, but imagine the vector $\\mathbf{w}$ starts at the *head* of $\\mathbf{v}$ instead of at the origin. Now, draw a vector from the origin to the head of $\\mathbf{w}$. *That* vector will then be the sum of the two, $\\mathbf{v}+\\mathbf{w}$.\n",
    "\n",
    "Here's an example. I'll use a helper function to plot the sum of two vectors $\\mathbf{v}=(1,1)$ and $\\mathbf{w}=(1,3)$. Their sum should be the vector $\\mathbf{v}+\\mathbf{w}=(2,4)$, which should exactly touch the tail of the two vectors stacked on top of each other. Again, feel free to play around with this function for different choices of $\\mathbf{v}$ and $\\mathbf{w}$ to get a sense for what's going on."
   ]
  },
  {
   "cell_type": "code",
   "execution_count": 6,
   "id": "a34e5ffe",
   "metadata": {},
   "outputs": [
    {
     "data": {
      "image/png": "[encoded data removed]",
      "text/plain": [
       "<Figure size 400x300 with 1 Axes>"
      ]
     },
     "metadata": {},
     "output_type": "display_data"
    }
   ],
   "source": [
    "v = np.array([1, 1])\n",
    "w = np.array([1, 3])\n",
    "plot_vector_add(v, w, xlim=(0, 4.5), ylim=(0, 4.5))"
   ]
  },
  {
   "cell_type": "markdown",
   "id": "d97e8530",
   "metadata": {},
   "source": [
    "To visualize scalar multiplication we can just plot a vector along with its scaled vector to get an idea what's going on. Let's do that below for a vector $\\mathbf{v}=(1,1)$ with a scalar $c=2$. The original vector is the black arrow and the scaled one is the orange one. Notice that what's going on is the vector just gets *scaled* in length by the factor of $c=2$. That's why a scalar is called a scalar. It scales the length of a vector!\n",
    "\n",
    "I'll also plot the same vector scaled by $c=-1$ to show what scaling by a negative number does. It just flips the vector in the opposite direction. Again, feel free to play with this function by using different choices for `c`. If you don't want to plot the negative scaling, set `include_neg=False`."
   ]
  },
  {
   "cell_type": "code",
   "execution_count": 7,
   "id": "a62fd88d",
   "metadata": {},
   "outputs": [
    {
     "data": {
      "image/png": "[encoded data removed]",
      "text/plain": [
       "<Figure size 400x300 with 1 Axes>"
      ]
     },
     "metadata": {},
     "output_type": "display_data"
    }
   ],
   "source": [
    "v = np.array([1, 1])\n",
    "c = 2\n",
    "plot_scalar_mult(v, c, xlim=(-2, 3), ylim=(-2, 3), include_neg=True)"
   ]
  },
  {
   "cell_type": "markdown",
   "id": "6d3dfa21",
   "metadata": {},
   "source": [
    "### Dot Products\n",
    "\n",
    "Another fundamental operation we can do with vectors is take their **dot product**, also called the **inner product**. The dot product is a way of taking two *vectors* and getting a *scalar* out of them. Why would we want to do this? It turns out that the dot product provides information about *both* the length (or magnitude) of the vector and its angle (or direction). In essence, the dot product captures the *geometry* of vectors.\n",
    "\n",
    "The dot product between two vectors can be defined as the sum of their element-wise multiplication. That is, if\n",
    "$\\mathbf{x}=x_0,x_1,\\cdots,x_{n-1}$ and $\\mathbf{y}=y_0,y_1,\\cdots,y_{n-1}$ are two vectors, then their dot product $\\mathbf{x} \\cdot \\mathbf{y}$ (pronounced \"x dot y\") is given by\n",
    "$$\\mathbf{x} \\cdot \\mathbf{y} = \\sum_{i=0}^{n-1} x_i y_i = x_0 y_0 + x_1 y_1 + \\cdots + x_{n-1} y_{n-1}.$$\n",
    "\n",
    "**Notation:** Note the appearance of the capital sigma symbol $\\sum_{i=0}^{n-1}$. This means $\\text{\"sum over each integer } i \\text{ from } 0 \\text{ to } n-1 \\text{ of each product } x_i y_i \\text{\"}$. It's just a short-hand way of writing out the full sum $x_0 y_0 + \\cdots + x_{n-1} y_{n-1}$. The integer $i$ is called a *dummy index*. It can be called whatever we like, so long as it sums over the same numbers. We'll use this summation notation a lot in future lessons. It's nothing to worry about. Just a way to write that we're summing up some numbers. If you like, think of it as the math way to write `np.sum`.\n",
    "\n",
    "Let's do an example of how to calculate the dot product. Consider two vectors $\\mathbf{x}=(2, 0.5)$ and $\\mathbf{y}=(1, 3)$.\n",
    "\n",
    "We can calculate their dot product a few different ways. \n",
    "- Element-wise multiply the vectors together with `x * y`. This gives a new vector $(2\\cdot 1,0.5\\cdot 3)$, which we can then *sum* to get the dot product `np.sum(x * y)`.\n",
    "- Use the function `np.dot(x, y)`, which calculates the dot product directly.\n",
    "- Use the `@` symbol and the transpose method `T`, which I'll define shortly when we get to matrix multiplication: `x.T @ y`.\n",
    "\n",
    "Observe the output to each of these 3 methods is exactly the same, as it should be: $\\mathbf{x} \\cdot \\mathbf{y} = 3.5$."
   ]
  },
  {
   "cell_type": "code",
   "execution_count": 8,
   "id": "627171a5",
   "metadata": {},
   "outputs": [],
   "source": [
    "x = np.array([2, 0.5])\n",
    "y = np.array([1, 3])"
   ]
  },
  {
   "cell_type": "code",
   "execution_count": 9,
   "id": "a1b0d846",
   "metadata": {},
   "outputs": [
    {
     "data": {
      "text/plain": [
       "3.5"
      ]
     },
     "execution_count": 9,
     "metadata": {},
     "output_type": "execute_result"
    },
    {
     "data": {
      "text/plain": [
       "3.5"
      ]
     },
     "execution_count": 9,
     "metadata": {},
     "output_type": "execute_result"
    },
    {
     "data": {
      "text/plain": [
       "3.5"
      ]
     },
     "execution_count": 9,
     "metadata": {},
     "output_type": "execute_result"
    }
   ],
   "source": [
    "np.sum(x * y)\n",
    "np.dot(x, y)\n",
    "x.T @ y"
   ]
  },
  {
   "cell_type": "markdown",
   "id": "64b9561e",
   "metadata": {},
   "source": [
    "### Norms and Cosine Similarity\n",
    "\n",
    "Great, so we just introduced 3 ways to calculate the number 3.5. What of it? It turns out this number says something about the *angle* between these two vectors.\n",
    "\n",
    "Before discussing how to calculate the angle between two vectors, let's discuss the simpler idea of how to calculate the *length* of a vector. It's just the square root of the vector's dot product with itself. For technical reasons, this is usually called the **2-norm** in machine learning instead of the length, and written\n",
    "\n",
    "$$||\\mathbf{x}||_2 = \\sqrt{\\mathbf{x} \\cdot \\mathbf{x}} = \\sqrt{\\sum_{i=0}^{n-1} x_i^2}.$$\n",
    "\n",
    "The 2-norm corresponds to the Euclidean length you learn about in geometry, which is essentially just the Pythagorean Theorem. If $\\mathbf{v}=(x, y)$ for example, then its length would be the 2-norm \n",
    "\n",
    "$$||\\mathbf{v}||_2 = \\sqrt{\\mathbf{v} \\cdot \\mathbf{v}} = \\sqrt{x^2+y^2}.$$\n",
    "\n",
    "That is, $||\\mathbf{v}||_2$ is just the hypotenuse of a right triangle with base $x$ and height $y$.\n",
    "\n",
    "**Aside:** There are other ways of defining norms as well that don't correspond to length. Two notable examples are\n",
    "- The **1-norm** $$||\\mathbf{x}||_1 = \\sum_{i=0}^{n-1} |x_i|.$$\n",
    "- The **infinity-norm** $$||\\mathbf{x}||_\\infty = \\max (|x_0|,|x_2|,\\cdots,|x_{n-1}|).$$\n",
    "\n",
    "Both of these norms are sometimes used in machine learning since they have subtly different properties than the 2-norm.\n",
    "\n",
    "Here's a calculation of the 2-norm of the same two vectors $\\mathbf{x}, \\mathbf{y}$ defined above. I'll define a function `two_norm`, which will calculate the dot product of a vector with itself using `np.dot`, then take its square root with `np.sqrt`, returning the result."
   ]
  },
  {
   "cell_type": "code",
   "execution_count": 10,
   "id": "535a060d",
   "metadata": {},
   "outputs": [
    {
     "data": {
      "text/plain": [
       "2.0615528128088303"
      ]
     },
     "execution_count": 10,
     "metadata": {},
     "output_type": "execute_result"
    },
    {
     "data": {
      "text/plain": [
       "3.1622776601683795"
      ]
     },
     "execution_count": 10,
     "metadata": {},
     "output_type": "execute_result"
    }
   ],
   "source": [
    "def two_norm(x):\n",
    "    return np.sqrt(np.dot(x, x))\n",
    "\n",
    "two_norm(x)\n",
    "two_norm(y)"
   ]
  },
  {
   "cell_type": "markdown",
   "id": "e1ae9de2",
   "metadata": {},
   "source": [
    "Observe that the length of $\\mathbf{w}$ is larger than the length of $\\mathbf{v}$. We can see this by plotting these two vectors next to each other."
   ]
  },
  {
   "cell_type": "code",
   "execution_count": 11,
   "id": "f731c81d",
   "metadata": {},
   "outputs": [
    {
     "data": {
      "image/png": "[encoded data removed]",
      "text/plain": [
       "<Figure size 400x300 with 1 Axes>"
      ]
     },
     "metadata": {},
     "output_type": "display_data"
    }
   ],
   "source": [
    "plot_vectors([x, y], xlim=(0, 3.5), ylim=(0, 3.5), labels=['v', 'w'])"
   ]
  },
  {
   "cell_type": "markdown",
   "id": "2e9c80a0",
   "metadata": {},
   "source": [
    "In this plot we can also estimate the angle between these two vectors, call it $\\theta$. It looks like $\\theta \\approx 45^{\\circ}$ or so. To calculate $\\theta$ exactly we can use the following formula,\n",
    "$$\\cos\\theta = \\frac{\\mathbf{x} \\cdot \\mathbf{y}}{||\\mathbf{x}||_2 ||\\mathbf{y}||_2}.$$\n",
    "\n",
    "That is, the cosine of the angle between two vectors is their dot product divided by both their lengths. \n",
    "\n",
    "**Aside:** If you want a proof of this formula, convince yourself that the following formula is true: $||\\textbf{x}||_2^2 + ||\\textbf{y}||_2^2 = (\\textbf{x} \\cdot \\textbf{y})^2$.\n",
    "Then, use the Pythagorean Theorem and the the trig definition of $\\cos\\theta$ on a right triangle with side lengths $||\\textbf{x}||_2$ and $||\\textbf{y}||_2$.\n",
    "\n",
    "Using this formula we can identify two special cases in particular. \n",
    "1. If $\\theta = 0^\\circ$, then $\\cos\\theta = 1$. This means $\\mathbf{x} \\cdot \\mathbf{y} = ||\\mathbf{x}||_2 ||\\mathbf{y}||_2$. The two vectors $\\mathbf{x}$ and $\\mathbf{y}$ are *parallel* to each other.\n",
    "2. If $\\theta = 90^\\circ$, then $\\cos\\theta = 0$. This means $\\mathbf{x} \\cdot \\mathbf{y} = 0$. The two vectors are *perpendicular* to each other. In this case they're said to be **orthogonal**.\n",
    "\n",
    "In machine learning this formula for $\\cos\\theta$ is called the **cosine similarity** between two vectors. It gives a length-invariant measure of how much two vectors \"agree\" with each other. We'll see it show up again when we want a length-invariant way to measure how similar two samples of data are to each other.\n",
    "\n",
    "Let's calculate the cosine similarity for our two vectors. I'll define a function `cosine_similarity` to do this. It seems like the two vectors above should agree reasonably, but not perfectly. If their angle is about 45&deg;, then their cosine similarity should be something like 0.5, which is about what we get."
   ]
  },
  {
   "cell_type": "code",
   "execution_count": 12,
   "id": "153eed7a",
   "metadata": {},
   "outputs": [
    {
     "data": {
      "text/plain": [
       "0.5368754921931592"
      ]
     },
     "execution_count": 12,
     "metadata": {},
     "output_type": "execute_result"
    }
   ],
   "source": [
    "def cosine_similarity(x, y):\n",
    "    return np.dot(x, y) / (two_norm(x) * two_norm(y))\n",
    "\n",
    "cosine_similarity(x, y)"
   ]
  },
  {
   "cell_type": "markdown",
   "id": "25c928de",
   "metadata": {},
   "source": [
    "## Matrices\n",
    "\n",
    "### Matrix Definition\n",
    "\n",
    "The next step up from rank-1 arrays are the rank-2 arrays, called matrices. A **matrix** is a rank-2 array of real numbers. That is, a matrix $\\mathbf{A}$ contains $m$ rows and $n$ columns of real numbers $A_{i,j}$. Note there are then $n\\cdot m$ total elements in $\\mathbf{A}$. In mathematical notation we'd express $\\mathbf{A}$ in a grid like this,\n",
    "$$\n",
    "\\mathbf{A} = \n",
    "\\begin{pmatrix}\n",
    "    A_{0,0} & A_{0,1} & \\dots & A_{0,n-1} \\\\\n",
    "    A_{1,0} & A_{1,1} & \\dots & A_{1,n-1} \\\\\n",
    "    \\vdots & \\vdots & \\ddots & \\vdots \\\\\n",
    "    A_{m-1,0} & A_{m-1,1} & \\dots & A_{m-1,n-1}\n",
    "\\end{pmatrix}.\n",
    "$$\n",
    "\n",
    "I'll sometimes write the elements of an array using subscripts like $A_{i,j}$ as above, and sometimes using the usual array notation $A[i,j]$. The choice will depend on the situation. I'm using the subscript convention here because it's most common when covering math topics like linear algebra.\n",
    "\n",
    "**Notation:** Just as we'd might write $\\mathbf{x} \\in \\mathbb{R}^n$ to say a vector is an array of $n$ real numbers, we'd similarly write $\\mathbf{A} \\in \\mathbb{R}^{m \\times n}$ to say that a matrix is a real-valued array of shape $(m,n)$. The notation $m \\times n$ means the same thing as $(m,n)$ in specifying the shape of the matrix. \n",
    "\n",
    "When $m=n$ we say the matrix is a **square matrix**. If it's not square it's sometimes called a rectangular matrix.\n",
    "\n",
    "Just like with vectors, we can always add matrices and multiply them by scalars and they'll still be valid matrices.\n",
    "\n",
    "A simple example of a matrix might be the $3 \\times 3$ matrix\n",
    "$$\n",
    "\\mathbf{A} = \n",
    "\\begin{pmatrix}\n",
    "    1 & 2 & 3 \\\\\n",
    "    4 & 5 & 6 \\\\\n",
    "    7 & 8 & 9 \\\\\n",
    "\\end{pmatrix}.\n",
    "$$"
   ]
  },
  {
   "cell_type": "code",
   "execution_count": 13,
   "id": "af541748",
   "metadata": {},
   "outputs": [
    {
     "data": {
      "text/plain": [
       "array([[1, 2, 3],\n",
       "       [4, 5, 6],\n",
       "       [7, 8, 9]])"
      ]
     },
     "execution_count": 13,
     "metadata": {},
     "output_type": "execute_result"
    }
   ],
   "source": [
    "A = np.array([[1, 2, 3], [4, 5, 6], [7, 8, 9]]); A"
   ]
  },
  {
   "cell_type": "markdown",
   "id": "a49bb4e7",
   "metadata": {},
   "source": [
    "### Column and Row Vectors\n",
    "\n",
    "Vectors can also be represented as matrices. We can think of a size $n$ vector as a matrix with only a column, called a column vector. A **column vector** $\\mathbf{x}$ is a matrix of shape $(n,1)$ written as,\n",
    "$$\n",
    "\\mathbf{x} = \n",
    "\\begin{pmatrix}\n",
    "    x_0 \\\\ x_1 \\\\ x_2 \\\\ \\vdots \\\\ x_{n-1} \\\\\n",
    "\\end{pmatrix}.\n",
    "$$\n",
    "\n",
    "We can also think of a size $n$ vector as a matrix with only a single row, called a row vector. A **row vector** $\\mathbf{x}^\\top$ is a matrix of shape $(1,n)$ written as (note the lack of commas between elements),\n",
    "\n",
    "$$\n",
    "\\mathbf{x}^\\top = \n",
    "\\begin{pmatrix}\n",
    "    x_0 & x_1 & x_2 & \\cdots & x_{n-1} \\\\\n",
    "\\end{pmatrix}.\n",
    "$$\n",
    "\n",
    "By convention, column vectors are treated as the \"standard\" way to deal with vectors. For this reason they're usually just written $\\mathbf{x}$ without any special symbols. Row vectors are relegated to second-class status. They're usually represented by $\\mathbf{x}^\\top$ to indicate they're just \"transposed\" column vectors. The $\\top$ symbol means \"transpose\". I'll define the transpose operation more generally in a bit.\n",
    "\n",
    "Despite what look like three different definitions, a vector can be equally treated as a regular \"flat\" vector, a row vector, or a column vector depending on what we want to do with it. No matter how we represent the vector it's still the exact same object with elements $(x_0,x_1,\\cdots,x_{n-1})$. The elements don't change. Just the shape.\n",
    "\n",
    "In numpy we can easily go back and forth between flat vectors, row vectors, and column vectors using the `reshape` and `flatten` methods.\n",
    "\n",
    "We can get a column vector out of `x` a couple different ways:\n",
    "- Define the vector from scratch, e.g. `np.array([[1], [2], [3], [4], [5]])`. Each element needs to go in its own list.\n",
    "- Use `reshape`, passing in a shape of `(-1, 1)`: `x.reshape(-1, 1)`. The `-1` is a shorthand for \"however many elements need to go here to reshape this object\". It keeps you from having to pass a number in explicitly.\n",
    "- Use the numpy trick of adding a `None` column, which creates a dimension of size 1 in that slot: `x[:, None]`.\n",
    "\n",
    "Row vectors can be created similarly. For example, using `x.reshape(1, -1)` or `x[None, :]`. We can also get a row vector by just transposing a column vector, e.g. using `x.reshape(-1, 1).T`.\n",
    "\n",
    "If we have a row or column vector and want to go *back* to a flat vector we can just call `x.flatten()`, which collapses all elements into a single dimension.\n",
    "\n",
    "Here's an example. I'll define a flat vector `x` of size 5, and show a couple ways to create column and row vectors out of `x`, as well as how to go backwards to `x` again."
   ]
  },
  {
   "cell_type": "code",
   "execution_count": 14,
   "id": "6bf77b1d",
   "metadata": {},
   "outputs": [
    {
     "data": {
      "text/plain": [
       "(5,)"
      ]
     },
     "execution_count": 14,
     "metadata": {},
     "output_type": "execute_result"
    },
    {
     "data": {
      "text/plain": [
       "array([1, 2, 3, 4, 5])"
      ]
     },
     "execution_count": 14,
     "metadata": {},
     "output_type": "execute_result"
    }
   ],
   "source": [
    "x = np.array([1, 2, 3, 4, 5])\n",
    "x.shape\n",
    "x"
   ]
  },
  {
   "cell_type": "code",
   "execution_count": 15,
   "id": "60c0a73b",
   "metadata": {},
   "outputs": [
    {
     "data": {
      "text/plain": [
       "(5, 1)"
      ]
     },
     "execution_count": 15,
     "metadata": {},
     "output_type": "execute_result"
    },
    {
     "data": {
      "text/plain": [
       "array([[1],\n",
       "       [2],\n",
       "       [3],\n",
       "       [4],\n",
       "       [5]])"
      ]
     },
     "execution_count": 15,
     "metadata": {},
     "output_type": "execute_result"
    }
   ],
   "source": [
    "x_col = np.array([[1], [2], [3], [4], [5]]) # define a column vector from scratch\n",
    "x_col = x.reshape(-1, 1) # define a column vector using reshape\n",
    "x_col = x[:, None] # define a column vector by adding a None column\n",
    "x_col.shape \n",
    "x_col"
   ]
  },
  {
   "cell_type": "code",
   "execution_count": 16,
   "id": "7a5f9f16",
   "metadata": {},
   "outputs": [
    {
     "data": {
      "text/plain": [
       "array([[1, 2, 3, 4, 5]])"
      ]
     },
     "execution_count": 16,
     "metadata": {},
     "output_type": "execute_result"
    },
    {
     "data": {
      "text/plain": [
       "(1, 5)"
      ]
     },
     "execution_count": 16,
     "metadata": {},
     "output_type": "execute_result"
    }
   ],
   "source": [
    "x_row = np.array([[1, 2, 3, 4, 5]]) # define a row xector from scratch\n",
    "x_row = x.reshape(1, -1) # define a row xector using reshape\n",
    "x_row = x_col.T # define a row xector by transposing a column xector\n",
    "x_row = x[None, :] # define a row xector by adding a None row\n",
    "x_row\n",
    "x_row.shape"
   ]
  },
  {
   "cell_type": "code",
   "execution_count": 17,
   "id": "a05b82a0",
   "metadata": {},
   "outputs": [
    {
     "data": {
      "text/plain": [
       "array([1, 2, 3, 4, 5])"
      ]
     },
     "execution_count": 17,
     "metadata": {},
     "output_type": "execute_result"
    },
    {
     "data": {
      "text/plain": [
       "array([1, 2, 3, 4, 5])"
      ]
     },
     "execution_count": 17,
     "metadata": {},
     "output_type": "execute_result"
    }
   ],
   "source": [
    "x_row.flatten() # flatten a row vector into a flat vector\n",
    "x_col.flatten() # flatten a column vector into a flat vector"
   ]
  },
  {
   "cell_type": "markdown",
   "id": "d1308cf0",
   "metadata": {},
   "source": [
    "### Matrix Multiplication\n",
    "\n",
    "On top of the usual element-wise operations that any array obeys, matrices also have *another* special kind of multiplication. You probably have seen this version of matrix multiplication before in school, taught as the \"standard\" way to multiply matrices. It's no exaggeration to say that matrix multiplication is the single most important operation in machine learning. It's the bread and butter operation of the most important machine learning algorithms.\n",
    "\n",
    "Let $\\mathbf{A}$ and $\\mathbf{B}$ be two matrices, where $\\mathbf{A}$ has shape $(m,n)$ and $\\mathbf{B}$ has shape $(n,p)$. Then we can define a new operation called **matrix multiplication** on these two matrices to get a new matrix $\\mathbf{C}$ of shape $(m,p)$ whose elements are\n",
    "\n",
    "$$C_{i,k} = \\sum_{j=1}^n A_{i,j}B_{j,k} = A_{i,0}B_{0,k} + A_{i,1}B_{1,k} + \\cdots + A_{i,n-1}B_{n-1,k}.$$\n",
    "\n",
    "In mathematical language we usually just write matrix multiplication symbolically as $\\mathbf{C} = \\mathbf{A}\\mathbf{B}$ without any special symbols.\n",
    "\n",
    "All of this may be a little hard to understand at first, so let's do an example. We'll multiply the two matrices\n",
    "\n",
    "$$\n",
    "\\mathbf{A} = \n",
    "\\begin{pmatrix}\n",
    "    1 & 2 & 3 \\\\\n",
    "    4 & 5 & 6 \\\\\n",
    "    7 & 8 & 9 \\\\\n",
    "\\end{pmatrix}, \\qquad\n",
    "\\mathbf{B} = \n",
    "\\begin{pmatrix}\n",
    "    6 & 5 \\\\\n",
    "    4 & 3 \\\\\n",
    "    2 & 1 \\\\\n",
    "\\end{pmatrix}.\n",
    "$$\n",
    "\n",
    "Since $\\mathbf{A}$ has shape $(3,3)$ and $\\mathbf{B}$ has shape $(3,2)$, then $\\mathbf{C} = \\mathbf{A}\\mathbf{B}$ should have shape $(3,2)$.\n",
    "\n",
    "The trick to do this easily by hand is to notice that each element $C_{i,k}$ is just the dot product of the $i$<sup>th</sup> *row* of $\\mathbf{A}$ with the $k$<sup>th</sup> *column* of $\\mathbf{B}$,\n",
    "\n",
    "$$\n",
    "\\mathbf{C} = \n",
    "\\begin{pmatrix}\n",
    "    A_{0,:} \\bullet B_{:,0} & A_{0,:} \\bullet B_{:,1} \\\\\n",
    "    A_{1,:} \\bullet B_{:,0} & A_{1,:} \\bullet B_{:,1} \\\\\n",
    "    A_{2,:} \\bullet B_{:,0} & A_{2,:} \\bullet B_{:,1} \\\\\n",
    "\\end{pmatrix} = \n",
    "\\begin{pmatrix}\n",
    "   1\\cdot 6+2\\cdot 4+3\\cdot 2 & 1\\cdot 5+2\\cdot 3+3\\cdot 1 \\\\\n",
    "   4\\cdot 6+5\\cdot 4+6\\cdot 2 & 4\\cdot 5+5\\cdot 3+6\\cdot 1 \\\\\n",
    "   7\\cdot 6+8\\cdot 4+9\\cdot 2 & 7\\cdot 5+8\\cdot 3+9\\cdot 1 \\\\\n",
    "\\end{pmatrix} = \n",
    "\\begin{pmatrix}\n",
    "   20 & 14 \\\\\n",
    "   56 & 41 \\\\\n",
    "   92 & 68 \\\\\n",
    "\\end{pmatrix}.\n",
    "$$\n",
    "\n",
    "**Aside:** If you're having a hard time understanding what matrix multiplication is doing, [here](http://matrixmultiplication.xyz/) is an online interactive tool you may find helpful.\n",
    "\n",
    "Of course, why multiply matrices by hand when can write code to do it for us? I'll write a function `matmul` that takes in two matrices `A` and `B` and multiplies them if they're compatible. This can be done by looping over all the rows of `A` and all the columns of `B`. At each step of the loop we're calculating some <br> `C[i, j]`, which as we showed above is just the dot product of the rows `A[i, :]` with the columns `B[:, j]`. That's it."
   ]
  },
  {
   "cell_type": "code",
   "execution_count": 18,
   "id": "3fea6290",
   "metadata": {},
   "outputs": [
    {
     "data": {
      "text/plain": [
       "array([[1, 2, 3],\n",
       "       [4, 5, 6],\n",
       "       [7, 8, 9]])"
      ]
     },
     "execution_count": 18,
     "metadata": {},
     "output_type": "execute_result"
    },
    {
     "data": {
      "text/plain": [
       "array([[6, 5],\n",
       "       [4, 3],\n",
       "       [2, 1]])"
      ]
     },
     "execution_count": 18,
     "metadata": {},
     "output_type": "execute_result"
    }
   ],
   "source": [
    "A = np.array([[1, 2, 3], [4, 5, 6], [7, 8, 9]]); A\n",
    "B = np.array([[6, 5], [4, 3], [2, 1]]); B"
   ]
  },
  {
   "cell_type": "code",
   "execution_count": 19,
   "id": "4930b295",
   "metadata": {},
   "outputs": [
    {
     "data": {
      "text/plain": [
       "array([[20, 14],\n",
       "       [56, 41],\n",
       "       [92, 68]])"
      ]
     },
     "execution_count": 19,
     "metadata": {},
     "output_type": "execute_result"
    }
   ],
   "source": [
    "def matmul(A, B):\n",
    "    assert A.shape[1] == B.shape[0], '# columns of A must equal # rows of B'\n",
    "    m, n, p = A.shape[0], A.shape[1], B.shape[1]\n",
    "    C = np.zeros((m, p))\n",
    "    for i in range(m):\n",
    "        for j in range(p):\n",
    "            C[i, j] = np.dot(A[i, :], B[:, j])\n",
    "    return C.astype(A.dtype)\n",
    "\n",
    "C = matmul(A, B); C"
   ]
  },
  {
   "cell_type": "markdown",
   "id": "8ca47c5b",
   "metadata": {},
   "source": [
    "To matrix multiply in numpy we have at least three ways we can do it:\n",
    "- Use the `np.matmul` function: `C = np.matmul(A, B)`,\n",
    "- Use the `np.dot` function: `C = np.dot(A, B)`,\n",
    "- Use the `@` operator: `C = A @ B`.\n",
    "I'll use the `@` operator approach since it's the easiest to read and write. It looks kind of like a multiplication symbol."
   ]
  },
  {
   "cell_type": "code",
   "execution_count": 20,
   "id": "c7cb7807",
   "metadata": {},
   "outputs": [
    {
     "data": {
      "text/plain": [
       "array([[20, 14],\n",
       "       [56, 41],\n",
       "       [92, 68]])"
      ]
     },
     "execution_count": 20,
     "metadata": {},
     "output_type": "execute_result"
    }
   ],
   "source": [
    "C = A @ B; C"
   ]
  },
  {
   "cell_type": "markdown",
   "id": "080f1c76",
   "metadata": {},
   "source": [
    "It's important that the number of *columns* of $\\mathbf{A}$ equal the number of *rows* of $\\mathbf{B}$. If not, matrix multiplication between the two is not defined.\n",
    "\n",
    "Also, unlike ordinary multiplication or element-wise multiplication, $\\mathbf{A}\\mathbf{B} \\neq \\mathbf{B} \\mathbf{A}$. Another way of saying this is that matrix multiplication does not *commute*.\n",
    "\n",
    "Why is matrix multiplication so important in machine learning? Perhaps one reason is that it turns out to be the equivalent of composing two functions. The linear algebra equivalent of the function composition $y=f(g(x))$ is the matrix multiplication $\\mathbf{C}=\\mathbf{A}\\mathbf{B}$. Function composition is at the heart of the definition of neural networks. Neural networks are basically just chains of matrix multiplications and non-linear functions."
   ]
  },
  {
   "cell_type": "markdown",
   "id": "5e1eb9f7",
   "metadata": {},
   "source": [
    "### Matrix Multiplication vs Element-Wise Multiplication\n",
    "\n",
    "It's important to mind the difference between matrix multiplication and *element-wise multiplication of matrices*. They do two different things. To distinguish the two, it's sometimes common to denote the element-wise multiplication of matrices with the symbol $\\mathbf{A} \\odot \\mathbf{B}$ and call it the **Hadamard product**.\n",
    "\n",
    "The elements of the element-wise product is given by $A_{i,j} \\cdot B_{i,j}$, and *not* $\\sum_j A_{i,j}B_{j,k}$. This means that in general\n",
    "\n",
    "$$\\mathbf{A} \\odot \\mathbf{B} \\neq \\mathbf{A} \\mathbf{B}.$$\n",
    "\n",
    "Element-wise multiplication is only defined when the shapes of $\\mathbf{A}$ and $\\mathbf{B}$ are *equal* (or can be broadcast to be equal).\n",
    "\n",
    "Of course, in python we instead use `A * B` for element-wise multiplication and `A @ B` for matrix multiplication. Unfortunately code notation and math notation can't always agree.\n",
    "\n",
    "To make it clear the two kinds of multiplication aren't the same thing here's an example."
   ]
  },
  {
   "cell_type": "code",
   "execution_count": 21,
   "id": "22398c7b",
   "metadata": {},
   "outputs": [
    {
     "data": {
      "text/plain": [
       "array([[1, 0],\n",
       "       [0, 4]])"
      ]
     },
     "execution_count": 21,
     "metadata": {},
     "output_type": "execute_result"
    },
    {
     "data": {
      "text/plain": [
       "array([[1, 2],\n",
       "       [3, 4]])"
      ]
     },
     "execution_count": 21,
     "metadata": {},
     "output_type": "execute_result"
    }
   ],
   "source": [
    "A = np.array([[1, 2], [3, 4]])\n",
    "B = np.array([[1, 0], [0, 1]])\n",
    "A * B\n",
    "A @ B"
   ]
  },
  {
   "cell_type": "markdown",
   "id": "efe6e825",
   "metadata": {},
   "source": [
    "### Transposition\n",
    "\n",
    "An important operation that we can do to a matrix is take its transpose. The **transpose** of a matrix is just the same matrix, but with the row and column indexes swapped. Equivalently, it's the matrix whose elements are flipped about its diagonal. More formally, if a matrix $\\textbf{A}$ has shape $(m,n)$ and its elements are written $A_{i,j}$, then the transpose of $\\textbf{A}$ is defined as a new matrix $\\textbf{A}^\\top$ of shape $(n,m)$ whose elements are given by\n",
    "\n",
    "$$A^{\\top}_{i,j}=A_{j,i}.$$\n",
    "\n",
    "The matrix $\\textbf{A}^\\top$ is usually pronounced \"A transpose\".\n",
    "\n",
    "In our running example, we'd have\n",
    "$$\n",
    "\\textbf{A} = \n",
    "\\begin{pmatrix}\n",
    "    1 & 2 & 3 \\\\\n",
    "    4 & 5 & 6 \\\\\n",
    "    7 & 8 & 9 \\\\\n",
    "\\end{pmatrix} \\quad \\Longrightarrow \\quad\n",
    "\\textbf{A}^\\top = \n",
    "\\begin{pmatrix}\n",
    "    1 & 4 & 7 \\\\\n",
    "    2 & 5 & 8 \\\\\n",
    "    3 & 6 & 9 \\\\\n",
    "\\end{pmatrix}.\n",
    "$$\n",
    "\n",
    "You can easily convince yourself that transposing a matrix twice gives the same matrix back: $(\\textbf{A}^\\top)^\\top=\\textbf{A}$.\n",
    "\n",
    "Transposition reverses the order of matrix multiplication. If $\\mathbf{C} = \\mathbf{A}\\mathbf{B}$, then\n",
    "\n",
    "$$\\mathbf{C}^\\top = \\big(\\mathbf{A}\\mathbf{B}\\big)^\\top = \\mathbf{B}^\\top\\mathbf{A}^\\top.$$\n",
    "\n",
    "Why would we care about the transpose? It's in some sense equivalent, or *dual* to $\\textbf{A}$. It provides the same information as $\\textbf{A}$ in every meaningful way except its shape is flipped. We'll see several examples below where the transpose shows up.\n",
    "\n",
    "Here's an example of the transpose operation in numpy on a $3 \\times 2$ matrix. The output should be a $2 \\times 3$ matrix with rows and columns swapped. To transpose a matrix `A` we can use `A.T`, or alternatively `np.transpose`."
   ]
  },
  {
   "cell_type": "code",
   "execution_count": 22,
   "id": "6a8c3e47",
   "metadata": {},
   "outputs": [
    {
     "data": {
      "text/plain": [
       "array([[1, 2],\n",
       "       [3, 4],\n",
       "       [5, 6]])"
      ]
     },
     "execution_count": 22,
     "metadata": {},
     "output_type": "execute_result"
    },
    {
     "data": {
      "text/plain": [
       "array([[1, 3, 5],\n",
       "       [2, 4, 6]])"
      ]
     },
     "execution_count": 22,
     "metadata": {},
     "output_type": "execute_result"
    },
    {
     "data": {
      "text/plain": [
       "((3, 2), (2, 3))"
      ]
     },
     "execution_count": 22,
     "metadata": {},
     "output_type": "execute_result"
    }
   ],
   "source": [
    "A = np.array([[1, 2], [3, 4], [5, 6]]); A\n",
    "A_transpose = A.T; A_transpose\n",
    "A.shape, A_transpose.shape"
   ]
  },
  {
   "cell_type": "markdown",
   "id": "25e384e7",
   "metadata": {},
   "source": [
    "The transpose operation gives us yet another way to express the dot product between two vectors $\\mathbf{x}$ and $\\mathbf{y}$. Treating them as column vectors, if we transpose one of them we get a row vector. If we put the row vector on the left and matrix multiply it with the column vector on the right we just get\n",
    "\n",
    "$$\\mathbf{x}^\\top \\mathbf{y} = \\mathbf{y}^\\top \\mathbf{x} = \\sum_{i=1}^n x_i y_i = \\mathbf{x} \\cdot \\mathbf{y}.$$\n",
    "\n",
    "This means we can also write the dot product as $\\mathbf{x}^\\top \\mathbf{y}$. You'll often see this notation in the machine learning literature, more than the $\\mathbf{x} \\cdot \\mathbf{y}$ notation in fact.\n",
    "\n",
    "It's also fair to ask what happens if we put the row vector on the right instead and write $\\mathbf{x} \\mathbf{y}^\\top$. It's still a valid operation. But instead of a scalar we get an $n \\times n$ matrix whose elements are just $A_{i,j} = x_i y_j$. This is called the **outer product** or **tensor product**. The outer product is an example of a \"rank-1\" matrix. These matrices by and large can't be inverted.\n",
    "\n",
    "Here's an example, where I'll calculate the dot product for a simple vector of size $4$ using matrix multiplication. I'll also show the outer product. Notice the outer product here is a $4 \\times 4$ matrix."
   ]
  },
  {
   "cell_type": "code",
   "execution_count": 23,
   "id": "48231e1b",
   "metadata": {},
   "outputs": [
    {
     "data": {
      "text/plain": [
       "4"
      ]
     },
     "execution_count": 23,
     "metadata": {},
     "output_type": "execute_result"
    }
   ],
   "source": [
    "x = np.array([1, 1, 1, 1]).reshape(-1, 1)\n",
    "dot = x.T @ x\n",
    "dot.item()"
   ]
  },
  {
   "cell_type": "code",
   "execution_count": 24,
   "id": "c5a2fe4f",
   "metadata": {},
   "outputs": [
    {
     "data": {
      "text/plain": [
       "array([[1, 1, 1, 1],\n",
       "       [1, 1, 1, 1],\n",
       "       [1, 1, 1, 1],\n",
       "       [1, 1, 1, 1]])"
      ]
     },
     "execution_count": 24,
     "metadata": {},
     "output_type": "execute_result"
    }
   ],
   "source": [
    "outer = x @ x.T\n",
    "outer"
   ]
  },
  {
   "cell_type": "markdown",
   "id": "f896fe6a",
   "metadata": {},
   "source": [
    "### Inversion\n",
    "\n",
    "An important matrix to be aware of is the **identity matrix**. It's a matrix whose values are 1 on the diagonal and 0 everywhere else. It's usually denoted $\\mathbf{I}$ or $\\mathbf{1}$. \n",
    "\n",
    "The identity matrix is important because it functions like a 1 for matrices. Just like multiplying any number $x \\cdot 1$ gives back $x$, when the identity matrix is matrix multiplied with any other matrix $\\mathbf{A}$ it gives that matrix back, $\\mathbf{A} = \\mathbf{I}\\mathbf{A} = \\mathbf{A}\\mathbf{I}$.\n",
    "\n",
    "To create a identity matrix in numpy use `np.eye`."
   ]
  },
  {
   "cell_type": "code",
   "execution_count": 25,
   "id": "2b1daad0",
   "metadata": {},
   "outputs": [
    {
     "data": {
      "text/plain": [
       "array([[1., 0., 0.],\n",
       "       [0., 1., 0.],\n",
       "       [0., 0., 1.]])"
      ]
     },
     "execution_count": 25,
     "metadata": {},
     "output_type": "execute_result"
    }
   ],
   "source": [
    "I = np.eye(3); I"
   ]
  },
  {
   "cell_type": "markdown",
   "id": "512593d8",
   "metadata": {},
   "source": [
    "The identity matrix features most importantly when discussing inverses. Suppose we have a square matrix $\\mathbf{A}$. We can ask, is there some other matrix $\\mathbf{B}$ that \"undoes\" $\\mathbf{A}$ in the sense that $\\mathbf{A}\\mathbf{B} = \\mathbf{I}$? When there is such a matrix, we write it as $\\mathbf{A}^{-1}$ and call it the **inverse** of $\\mathbf{A}$,\n",
    "\n",
    "$$\\mathbf{A}\\mathbf{A}^{-1} = \\mathbf{A}\\mathbf{A}^{-1} = \\mathbf{I}.$$\n",
    "\n",
    "Inverses need not always exist, but they do for *almost all* square matrices in some sense. If you want to calculate the inverse of a matrix numerically you can use the command `np.linalg.inv`. Here's an example. Notice the roundoff errors in the off-diagonals, which aren't exactly zero like they should be."
   ]
  },
  {
   "cell_type": "code",
   "execution_count": 26,
   "id": "7782db66",
   "metadata": {},
   "outputs": [
    {
     "data": {
      "text/plain": [
       "array([[1, 2],\n",
       "       [3, 4]])"
      ]
     },
     "execution_count": 26,
     "metadata": {},
     "output_type": "execute_result"
    },
    {
     "data": {
      "text/plain": [
       "array([[-2. ,  1. ],\n",
       "       [ 1.5, -0.5]])"
      ]
     },
     "execution_count": 26,
     "metadata": {},
     "output_type": "execute_result"
    },
    {
     "data": {
      "text/plain": [
       "array([[1.0000000e+00, 0.0000000e+00],\n",
       "       [8.8817842e-16, 1.0000000e+00]])"
      ]
     },
     "execution_count": 26,
     "metadata": {},
     "output_type": "execute_result"
    }
   ],
   "source": [
    "A = np.array([[1, 2], [3, 4]]); A\n",
    "A_inv = np.linalg.inv(A); A_inv\n",
    "A @ A_inv"
   ]
  },
  {
   "cell_type": "markdown",
   "id": "031c4078",
   "metadata": {},
   "source": [
    "In practice you usually don't want to calculate inverses numerically like this, since the calculations are heavily prone to roundoff errors, especially if the matrix is ill-conditioned.\n",
    "\n",
    "**Aside:** What if $\\mathbf{A}$ is not square? Can we get an inverse out of it? In fact we can, usually. The generalization of the matrix inverse to non-square matrices is called the [pseudoinverse](https://en.wikipedia.org/wiki/Generalized_inverse), sometimes denoted by $\\mathbf{A}^+$. Pseudoinverses can sometimes be useful for certain machine learning algorithms like least squares regression, which involves inverting non-square matrices of data. In numpy you can get the pseudoinverse with the function `np.linalg.pinv`."
   ]
  },
  {
   "cell_type": "markdown",
   "id": "e2da9d15",
   "metadata": {},
   "source": [
    "### Matrix-Vector Multiplication\n",
    "\n",
    "Just like vectors, matrices can of course be thought of as arrays that store data. Things that can be operated on. But on top of that idea, matrices are also useful as objects that *operate* on vectors. A matrix can map vectors to other vectors via matrix-vector multiplication. This is called a linear map.\n",
    "\n",
    "Let's define matrix-vector multiplication simply as the *matrix multiplication* of a matrix with a column (or row) vector. By the rules of matrix multiplication, the output will always be another column (or row) vector.\n",
    "\n",
    "For a matrix $\\mathbf{A}$ of shape $(m,n)$ and a column vector $\\mathbf{x}$ of shape $(n,1)$, their matrix-vector product is a new vector $\\mathbf{y}$ of shape $(m,1)$ given by the matrix multiplication \n",
    "$$\\mathbf{y} = \\mathbf{A}\\mathbf{x}.$$\n",
    "\n",
    "We can also define matrix multiplication using row vectors in a similar way, except they multiply in the opposite order. If $\\mathbf{\\tilde x}^\\top$ is a row vector of shape $(1,m)$, then when multiplied on the left by $\\mathbf{A}$ we get a new row vector $\\mathbf{\\tilde y}^\\top$,\n",
    "$$\\mathbf{\\tilde y}^\\top = \\mathbf{\\tilde x}^\\top \\mathbf{A}.$$\n",
    "\n",
    "In general the two vectors $\\mathbf{y}$ and $\\mathbf{\\tilde y}$ won't be the same unless the matrix $\\mathbf{A}$ is both square and symmetric, i.e. $\\mathbf{A}=\\mathbf{A}^\\top$.\n",
    "\n",
    "Here's an example. Take\n",
    "\n",
    "$$\n",
    "\\mathbf{A} = \n",
    "\\begin{pmatrix}\n",
    "   8 & 4 \\\\\n",
    "   5 & 10 \\\\\n",
    "   6 & 3 \\\\\n",
    "\\end{pmatrix}.\n",
    "$$\n",
    "\n",
    "First I'll right-multiply a column vector $\\mathbf{x}=\\binom{1}{1}$ and then left-multiply a row vector $\\mathbf{\\tilde x}^\\top=(-1 \\ 0 \\ 1)$."
   ]
  },
  {
   "cell_type": "code",
   "execution_count": 27,
   "id": "41fe1a56",
   "metadata": {},
   "outputs": [],
   "source": [
    "A = np.array([[8, 4], [5, 10], [6, 3]])\n",
    "x_right = np.array([1, 1]).reshape(-1, 1)\n",
    "x_left_t = np.array([-1, 0, 1]).reshape(1, -1)"
   ]
  },
  {
   "cell_type": "code",
   "execution_count": 28,
   "id": "2d37a066",
   "metadata": {},
   "outputs": [
    {
     "data": {
      "text/plain": [
       "(3, 1)"
      ]
     },
     "execution_count": 28,
     "metadata": {},
     "output_type": "execute_result"
    },
    {
     "data": {
      "text/plain": [
       "array([[12],\n",
       "       [15],\n",
       "       [ 9]])"
      ]
     },
     "execution_count": 28,
     "metadata": {},
     "output_type": "execute_result"
    }
   ],
   "source": [
    "y_right = A @ x_right\n",
    "y_right.shape\n",
    "y_right"
   ]
  },
  {
   "cell_type": "code",
   "execution_count": 29,
   "id": "a716920c",
   "metadata": {},
   "outputs": [
    {
     "data": {
      "text/plain": [
       "(1, 2)"
      ]
     },
     "execution_count": 29,
     "metadata": {},
     "output_type": "execute_result"
    },
    {
     "data": {
      "text/plain": [
       "array([[-2, -1]])"
      ]
     },
     "execution_count": 29,
     "metadata": {},
     "output_type": "execute_result"
    }
   ],
   "source": [
    "y_left = x_left_t @ A\n",
    "y_left.shape\n",
    "y_left"
   ]
  },
  {
   "cell_type": "markdown",
   "id": "48df2c28",
   "metadata": {},
   "source": [
    "The act of matrix-vector multiplication is also called a **linear map**, since performing the operation $\\mathbf{y} = \\mathbf{A}\\mathbf{x}$ equates to a linear mapping $f(\\mathbf{x})=\\mathbf{A}\\mathbf{x}$.\n",
    "\n",
    "In the simple case when $\\mathbf{x} \\in \\mathbb{R}^2$, we can try to visualize what linear maps are doing by generating a bunch of different $2 \\times 2$ matrices $\\mathbf{A}$ and multiplying them with $\\mathbf{x}$. We can then plot all these vectors $\\mathbf{y}$, which will also be in $\\mathbb{R}^2$. Let's pick a vector $\\mathbf{x}=(1,1)$ and see what happens when we multiply it with a bunch of random matrices $\\mathbf{A}$.\n",
    "\n",
    "To create a random matrix I'm going to use the function `np.random.rand(2, 2)`, which will create a $2 \\times 2$ matrix of values between 0 and 1. I'll do this 5 different times. This will give 5 different random $\\mathbf{A}$, which will give 5 different $\\mathbf{y}$. Finally, I'll plot them using the same `plot_vectors` utils function from before with some minor styling applied."
   ]
  },
  {
   "cell_type": "code",
   "execution_count": 30,
   "id": "b6a78504",
   "metadata": {},
   "outputs": [
    {
     "data": {
      "image/png": "[encoded data removed]",
      "text/plain": [
       "<Figure size 400x300 with 1 Axes>"
      ]
     },
     "metadata": {},
     "output_type": "display_data"
    }
   ],
   "source": [
    "x = np.array([1, 1]).reshape(-1, 1) # create column vector x = [1, 1]\n",
    "np.random.seed(1) # need this to ensure we get the same vectors every run\n",
    "ys = []\n",
    "for i in range(5):\n",
    "    A = np.random.rand(2, 2) # generate a random (2, 2) matrix A\n",
    "    y = A @ x # the matrix-vector multiply b = Ax\n",
    "    ys.append(y)\n",
    "vectors = [x] + ys # to plot x and all the b vectors\n",
    "labels = ['$x$'] + [f'$y_{i}$' for i in range(len(ys))] # to plot the labels\n",
    "plot_vectors(vectors, xlim=(0, 1.5), ylim=(0, 1.5), labels=labels, title='Linear Map $y=Ax$ for Random $A$')"
   ]
  },
  {
   "cell_type": "markdown",
   "id": "f1a68852",
   "metadata": {},
   "source": [
    "We started with a vector $\\mathbf{x}$ and transform it 5 different ways,\n",
    "\n",
    "$$\\mathbf{y}_0 = \\mathbf{A}_0\\mathbf{x}, \\quad \\mathbf{y}_1 = \\mathbf{A}_1\\mathbf{x}, \\quad  \\mathbf{y}_2 = \\mathbf{A}_2\\mathbf{x}, \\quad  \\mathbf{y}_3 = \\mathbf{A}_3\\mathbf{x}, \\quad  \\mathbf{y}_4 = \\mathbf{A}_4\\mathbf{x}.$$\n",
    "\n",
    "All of these vectors show up in the plot. Notice the linear maps seem to be doing 2 different things at once: rescaling $\\mathbf{x}$, and rotating $\\mathbf{x}$ in the plane by some angle. This is pretty much all linear maps do. They map vectors to other vectors. The only way to do that is to rescale a vector and rotate it by some angle to get a new vector. \n",
    "\n",
    "This is for the simple case when $\\mathbf{A}$ is square, so $\\mathbf{x}$ and $\\mathbf{y}$ are the same size. If they're not the same size, then $\\mathbf{x}$ is also going to get mapped to a different dimensional space.\n",
    "\n",
    "It thus seems like linear maps of the form $\\mathbf{y} = \\mathbf{A}\\mathbf{x}$ are doing three different things at one time:\n",
    "- Rescaling $\\mathbf{x}$ by some scalar.\n",
    "- Rotating $\\mathbf{x}$ by some angle.\n",
    "- Mapping $\\mathbf{x}$ to a new vector space $\\mathbb{R}^m$ if $\\mathbf{A}$ is not square.\n",
    "\n",
    "It seems like we should be able to separate out these effects by breaking $\\mathbf{A}$ up somehow."
   ]
  },
  {
   "cell_type": "markdown",
   "id": "e75da45c",
   "metadata": {},
   "source": [
    "### The Singular Value Decomposition (SVD)\n",
    "\n",
    "It turns out that we can separate these 3 distinct behaviors out of $\\mathbf{A}$ by *factoring* the matrix into a product of three different matrices $\\mathbf{U}, \\boldsymbol{\\Sigma}, \\mathbf{V}$,\n",
    "\n",
    "$$\\mathbf{A} = \\mathbf{U} \\boldsymbol{\\Sigma} \\mathbf{V}^\\top.$$\n",
    "\n",
    "Each of these three special matrices performs one and only one of the above operations:\n",
    "- $\\mathbf{V}$ rotates $\\mathbf{x}$ in its original space $\\mathbb{R}^n$.\n",
    "- $\\boldsymbol{\\Sigma}$ rescales $\\mathbf{x}$ in its original space $\\mathbb{R}^n$.\n",
    "- $\\mathbf{U}$ maps $\\mathbf{x}$ to a new space $\\mathbb{R}^m$ (and rotates it again in that new space).\n",
    "\n",
    "The matrix $\\boldsymbol{\\Sigma}$ is called the **singular value matrix**, a special example of a **diagonal matrix**. Diagonal matrices are non-zero only on the main diagonal, and zero everywhere else. All they can do is scale vectors, not rotate them. The values in the diagonal are called **singular values**,\n",
    "\n",
    "$$\\boldsymbol{\\Sigma} = \\text{diag}(\\sigma_0,\\cdots,\\sigma_{n-1}).$$\n",
    "\n",
    "Singular values will always be positive or zero. They're usually denoted by $\\sigma$.\n",
    "\n",
    "The matrices $\\mathbf{U}$ and $\\mathbf{V}$ on the other hand do the opposite. They can only rotate vectors, not rescale them. Matrices like this are called **orthogonal matrices**. Orthogonal matrices are matrices whose inverse is just their transpose, \n",
    "\n",
    "$$\\mathbf{U}^{-1} = \\mathbf{U}^\\top, \\quad \\mathbf{V}^{-1} = \\mathbf{V}^\\top.$$\n",
    "\n",
    "It turns out by a major theorem in linear algebra that we can do this kind of factorization for *any* matrix $\\mathbf{A}$, square or not. It's called the **Singular Value Decomposition** or **SVD**. \n",
    "\n",
    "The SVD shows up most prominently in machine learning under *Principle Components Analysis*, or *PCA*. PCA is essentially nothing more than the use of the SVD of a data matrix to compress the data into a lower-dimensional feature space. More on this in a future lesson.\n",
    "\n",
    "We can get the SVD of a matrix in numpy by using the function `np.linalg.svd`, which returns a tuple of the three factored matrices $(\\mathbf{U}, \\boldsymbol{\\Sigma}, \\mathbf{V}^\\top)$. Here's an example. \n",
    "\n",
    "**Aside:** Note ``np.linalg.svd`` returns the singular value matrix $\\boldsymbol{\\Sigma}$ as a diagonal vector instead of the full matrix itself to save space. If we want to reconstruct $\\mathbf{A}$ we first need to get $\\boldsymbol{\\Sigma}$ back into the correct shape to matrix multiply everything. The easiest way to do this is to use the function `diagsvd` from the `scipy.linalg` module. Scipy is just an extension of numpy with a lot more functions for scientific computing."
   ]
  },
  {
   "cell_type": "code",
   "execution_count": 31,
   "id": "3d70de9d",
   "metadata": {},
   "outputs": [
    {
     "data": {
      "text/plain": [
       "((2, 2), (2,), (3, 3))"
      ]
     },
     "execution_count": 31,
     "metadata": {},
     "output_type": "execute_result"
    },
    {
     "data": {
      "text/plain": [
       "(array([[-0.3863177 , -0.92236578],\n",
       "        [-0.92236578,  0.3863177 ]]),\n",
       " array([9.508032  , 0.77286964]),\n",
       " array([[-0.42866713, -0.56630692, -0.7039467 ],\n",
       "        [ 0.80596391,  0.11238241, -0.58119908],\n",
       "        [ 0.40824829, -0.81649658,  0.40824829]]))"
      ]
     },
     "execution_count": 31,
     "metadata": {},
     "output_type": "execute_result"
    }
   ],
   "source": [
    "A = np.array([[1, 2, 3], [4, 5, 6]])\n",
    "U, Sigma, Vt = np.linalg.svd(A)\n",
    "U.shape, Sigma.shape, Vt.shape\n",
    "U, Sigma, Vt"
   ]
  },
  {
   "cell_type": "code",
   "execution_count": 32,
   "id": "399ce6f5",
   "metadata": {},
   "outputs": [
    {
     "data": {
      "text/plain": [
       "array([[1., 2., 3.],\n",
       "       [4., 5., 6.]])"
      ]
     },
     "execution_count": 32,
     "metadata": {},
     "output_type": "execute_result"
    }
   ],
   "source": [
    "from scipy.linalg import diagsvd\n",
    "Sigma_reshaped = diagsvd(Sigma,*A.shape)\n",
    "U @ Sigma_reshaped @ Vt"
   ]
  },
  {
   "cell_type": "markdown",
   "id": "8991f2ce",
   "metadata": {},
   "source": [
    "### Eigenvalues and Positive Definiteness [Optional]\n",
    "\n",
    "We saw that we can use the SVD to factor any matrix $\\mathbf{A}$ into a product $\\mathbf{A} = \\mathbf{U} \\boldsymbol{\\Sigma} \\mathbf{V}^\\top$. This is a generalization of a related idea for square, symmetric matrices.\n",
    "\n",
    "If a matrix $\\mathbf{S}$ is square and symmetric, i.e. $\\mathbf{S} = \\mathbf{S}^{\\top}$, we can do another factorization that's closely related to the SVD, called the **Spectral Decomposition**,\n",
    "\n",
    "$$\\mathbf{S} = \\mathbf{X} \\boldsymbol{\\Lambda} \\mathbf{X}^\\top.$$\n",
    "\n",
    "Here $\\mathbf{X}$ is also an orthogonal matrix, just like $\\mathbf{U}$ and $\\mathbf{V}$ are in the SVD. The main difference is that we only need a single orthogonal matrix $\\mathbf{X}$ here, not two different ones $\\mathbf{U}$ and $\\mathbf{V}$. This matrix is called the **eigenvector matrix** of $\\mathbf{S}$.\n",
    "\n",
    "For us, the eigenvector matrix is less important than $\\boldsymbol{\\Lambda}$. This matrix is called the **eigenvalue matrix**. Like the singular value matrix $\\boldsymbol{\\Sigma}$, the eigenvalue matrix is diagonal. The diagonal entries are called the **eigenvalues** of $\\mathbf{S}$,\n",
    "\n",
    "$$\\boldsymbol{\\Lambda} = \\text{diag}(\\lambda_0,\\cdots,\\lambda_{n-1}).$$\n",
    "\n",
    "The eigenvalues of a symmetric matrix, usually denoted $\\lambda$, will always be real numbers. Unlike singular values, eigenvalues can be positive, negative, or zero.\n",
    "\n",
    "**Aside:** The eigenvectors of a symmetric matrix $\\mathbf{S}$ are closely related to the singular values of an arbitrary matrix $\\mathbf{A}$. In fact, the singular values of $\\mathbf{A}$ are the square roots of the eigenvalues of the symmetric matrix $\\mathbf{S}=\\mathbf{A}^\\top \\mathbf{A}$.\n",
    "\n",
    "In numpy, we can easily calculate the eigenvalues of a symmetric matrix using `np.linalg.eigvals`. The answer will return an array giving the vector of eigenvalues $(\\lambda_0,\\cdots,\\lambda_{n-1})$."
   ]
  },
  {
   "cell_type": "code",
   "execution_count": 33,
   "id": "3c856c62",
   "metadata": {},
   "outputs": [
    {
     "data": {
      "text/plain": [
       "array([ 3., -1.])"
      ]
     },
     "execution_count": 33,
     "metadata": {},
     "output_type": "execute_result"
    }
   ],
   "source": [
    "S = [[1, 2], [2, 1]]\n",
    "evals = np.linalg.eigvals(S)\n",
    "evals"
   ]
  },
  {
   "cell_type": "markdown",
   "id": "c4e120b7",
   "metadata": {},
   "source": [
    "The most important application of eigenvalues to machine learning is to positive definiteness. A symmetric matrix $\\mathbf{S}$ is called **positive definite** if all its eigenvalues are positive,\n",
    "$$\\lambda_0 > 0, \\quad \\lambda_1 > 0, \\quad \\cdots, \\quad \\lambda_{n-1} > 0.$$\n",
    "\n",
    "This turns out to be equivalent to the condition that $\\mathbf{x}^\\top \\mathbf{S} \\mathbf{x} > 0$ for any vector $\\mathbf{x} \\neq \\mathbf{0}$. Positive definite matrices are the matrix equivalent of a positive number $s>0$. If $s$ is a positive number, then $s x^2 > 0$ for any $x \\neq 0$. For this reason, positive definite matrices are often written with the shorthand $\\mathbf{S} \\succ 0$.\n",
    "\n",
    "If the eigenvalues are also allowed to be zero, the matrix $\\mathbf{S}$ is called **positive semi-definite**,\n",
    "\n",
    "$$\\lambda_0 \\geq 0, \\quad \\lambda_1 \\geq 0, \\quad \\cdots, \\quad \\lambda_{n-1} \\geq 0.$$\n",
    "\n",
    "This turns out to be equivalent to the condition that $\\mathbf{x}^\\top \\mathbf{S} \\mathbf{x} \\geq 0$ for any vector $\\mathbf{x}$. Positive semi-definite matrices are the matrix equivalent of a non-negative number $s \\geq 0$. If $s$ is a non-negative number, then $s x^2 \\geq 0$ for any $x \\neq 0$. Positive semi-definite matrices are often written with the similar shorthand $\\mathbf{S} \\succcurlyeq 0$.\n",
    "\n",
    "There's no direct numpy function to determine if a matrix is positive definite or semi-definite, but it's simple enough. We just need to calculate the eigenvalues and check they're all positive. I'll write a quick function `is_positive_semidefinite` to do this. The above example should return false since one of its eigenvalues is -1."
   ]
  },
  {
   "cell_type": "code",
   "execution_count": 34,
   "id": "afa51aae",
   "metadata": {},
   "outputs": [
    {
     "data": {
      "text/plain": [
       "False"
      ]
     },
     "execution_count": 34,
     "metadata": {},
     "output_type": "execute_result"
    }
   ],
   "source": [
    "def is_positive_semidefinite(S):\n",
    "    eigvals = np.linalg.eigvals(S)\n",
    "    return np.all(eigvals >= 0)\n",
    "\n",
    "is_positive_semidefinite(S)"
   ]
  },
  {
   "cell_type": "markdown",
   "id": "2e2cf82b",
   "metadata": {},
   "source": [
    "Positive semi-definite matrices are particularly useful in machine learning because they allow us to calculate the lengths of vectors in a weighted style, where some dimensions get more weight than others do. This shows up, for example, in the multivariate Gaussian probability distribution, which I'll cover in a couple of lessons.\n",
    "\n",
    "Recall the ordinary Euclidean length of a vector $\\mathbf{x}$ is given by the 2-norm,\n",
    "\n",
    "$$||\\mathbf{x}||_2 = (\\mathbf{x} \\cdot \\mathbf{x})^{1/2} = (\\mathbf{x}^\\top \\mathbf{x})^{1/2} = \\bigg( \\sum_{i=0}^{n-1} x_i^2 \\bigg)^{1/2}.$$\n",
    "\n",
    "What happens if we sandwich a positive semi-definite matrix $\\mathbf{S}$ in between the dot product? Since $\\mathbf{S} \\succcurlyeq 0$, the scalar product $\\mathbf{x}^\\top \\mathbf{S} \\mathbf{x} \\geq 0$. This means we can take its square root and define a weighted length out of it,\n",
    "\n",
    "$$||\\mathbf{x}||_\\mathbf{S} = (\\mathbf{x}^\\top \\mathbf{S} \\mathbf{x})^{1/2} = \\bigg(\\sum_{i=0}^{n-1} \\sum_{j=0}^{n-1} x_i S_{i,j} x_j \\bigg)^{1/2}.$$\n",
    "\n",
    "This length is sometimes called the **Mahalanobis distance**. It's like the regular dot product in every meaningful way, except lengths in some dimensions are allowed to scale differently than others, depending on a weight matrix $\\mathbf{S}$. This is most easy to see when $\\mathbf{S}$ is a diagonal matrix, in which case the sum on the right reduces to\n",
    "\n",
    "$$\\sum_{i=0}^{n-1} S_{i,i} x_i^2 = S_{0,0} x_0^2 + S_{1,1} x_1^2 + \\cdots + S_{n-1,n-1} x_{n-1}^2.$$\n",
    "\n",
    "You can see that each dimension $i$ is now getting weighted by a factor of $S_{i,i}$. When all the $S_{i,i}=1$ no weighting takes place, and we recover the original definition of length.\n",
    "\n",
    "Positive semi-definite matrices also arise when talking about the minimization of convex functions like $y=x^2$ in higher dimensions. I'll mention more on this in the lesson on calculus."
   ]
  },
  {
   "cell_type": "markdown",
   "id": "5d1535f6",
   "metadata": {},
   "source": [
    "### Matrix-Vector Equations [Optional]\n",
    "\n",
    "Just like we can have ordinary equations of scalar variables like $ax=b$, we can also have equations involving matrices and vectors. Solving these is more or less the same as solving regular algebraic equations except with some notable differences:\n",
    "- Matrix multiplication doesn't commute, $\\mathbf{A}\\mathbf{B} \\neq \\mathbf{B}\\mathbf{A}$.\n",
    "- Instead of dividing $\\mathbf{A}$ by $\\mathbf{B}$, multiply $\\mathbf{A}$ on the left or right by $\\mathbf{B}^{-1}$.\n",
    "- No dividing by vectors is allowed, only addition and scalar or matrix multiplication.\n",
    "- The identity matrix $\\mathbf{I}$ matrix multiplying anything is equivalent to multiplying by 1, hence we can insert or remove it anywhere at will.\n",
    "\n",
    "Here's an example of solving a matrix-vector equation. It's a famous problem called **least squares**. Let's look at the equation\n",
    "$$\\mathbf{A}\\mathbf{x} = \\mathbf{b},$$ \n",
    "where $\\mathbf{b} \\in \\mathbb{R}^m, \\mathbf{x} \\in \\mathbb{R}^n$ are vectors of different sizes, and $\\mathbf{A} \\in \\mathbb{R}^{m \\times n}$ is some non-square matrix. \n",
    "\n",
    "We want to solve this equation for the vector $\\mathbf{x}$. How would we do it? We'd *like* to be able to just invert the matrix $\\mathbf{A}$ and multiply on the both sides of the equation from the left with it like this,\n",
    "$$\\mathbf{A}^{-1} \\mathbf{b} = \\mathbf{A}^{-1}\\mathbf{A}\\mathbf{x} = \\mathbf{I}\\mathbf{x} = \\mathbf{x}.$$\n",
    "This would give $\\mathbf{x}$, but unfortunately we can't do this. Since $\\mathbf{A}$ isn't a square matrix, we can't just invert it. So what can we do? Here's a trick, akin to taking the pseudo-inverse. Let's instead multiply both sides on the left by $\\mathbf{A}^\\top$,\n",
    "$$\\mathbf{A}^\\top \\mathbf{b} = \\mathbf{A}^\\top \\mathbf{A}\\mathbf{x}.$$\n",
    "This equation is called the **normal equation**. What did we achieve here? It turns out that we just turned a non-square matrix $\\mathbf{A}$ of shape $(m,n)$ into a square matrix $\\mathbf{A}^{\\top}\\mathbf{A}$ of shape $(n,n)$. And, since this new matrix is square, we can (usually) invert it and solve for $\\mathbf{x}$,\n",
    "\n",
    "\\begin{align}\n",
    "\\mathbf{A}^{\\top} \\mathbf{b} &= \\mathbf{A}^{\\top}\\mathbf{A}\\mathbf{x} \\\\\n",
    "\\big( \\mathbf{A}^{\\top}\\mathbf{A} \\big)^{-1} \\mathbf{A}^{\\top} \\mathbf{b} &= \\big( \\mathbf{A}^{\\top}\\mathbf{A} \\big)^{-1} \\mathbf{A}^{\\top}\\mathbf{A} \\mathbf{x} \\\\\n",
    "\\big( \\mathbf{A}^{\\top}\\mathbf{A} \\big)^{-1} \\mathbf{A}^{\\top} \\mathbf{b} &= \\mathbf{I}\\mathbf{x} \\\\\n",
    "\\big( \\mathbf{A}^{\\top}\\mathbf{A} \\big)^{-1} \\mathbf{A}^{\\top} \\mathbf{b} &= \\mathbf{x}. \\\\\n",
    "\\end{align}\n",
    "\n",
    "\n",
    "As contrived as this example sounds, it actually shows up in machine learning and statistics. It's one method to solve for the parameters of a linear regression model given some training data. Here, the parameters are wrapped in the vector $\\mathbf{x}$, the input data in the matrix $\\mathbf{A}$, and the output targets in the vector $\\mathbf{b}$.\n",
    "\n",
    "**Note:** You wouldn't *actually* want to do this computation on a computer to find $\\mathbf{x}$, since taking the inverse $( \\mathbf{A}^{\\top}\\mathbf{A} )^{-1}$ numerically is a bad idea. A better option would be using a function like `np.linalg.solve` directly on the expression $\\mathbf{A}^{\\top} \\mathbf{b} = \\mathbf{A}^{\\top}\\mathbf{A}\\mathbf{x}$.\n",
    "\n",
    "This kind of algebraic manipulation is good to at least be vaguely familiar with, mainly for deriving some machine learning algorithms. However, it's not absolutely *essential* for machine learning purposes that you be good at this stuff."
   ]
  },
  {
   "cell_type": "markdown",
   "id": "f8a88afe",
   "metadata": {},
   "source": [
    "### Special Matrices [Optional]\n",
    "\n",
    "I'll finish this section on matrices by mentioning some of the common special matrices to be aware of. I'll also mention a few common matrix operations worth at least being vaguely familiar with. Many of these I've already mentioned already.\n",
    "\n",
    "Some special types of matrices to be familiar with are:\n",
    "- **Identity matrix:** A matrix $\\mathbf{I}$ whose values are zero off the diagonal and one on the diagonal. Here's an example for shape $(3,3)$,\n",
    "$$\\mathbf{I} = \n",
    "\\begin{pmatrix}\n",
    "    1 & 0 & 0 \\\\\n",
    "    0 & 1 & 0 \\\\\n",
    "    0 & 0 & 1 \\\\\n",
    "\\end{pmatrix}.\n",
    "$$\n",
    "- **Diagonal matrix:** A square matrix $\\mathbf{D}$ whose values are zero except on the diagonal, i.e $D_{i,j}=0$ when $i \\neq j$. Example,\n",
    "$$\\mathbf{D} = \\text{diag}(1, 5, 9) = \n",
    "\\begin{pmatrix}\n",
    "    1 & 0 & 0 \\\\\n",
    "    0 & 5 & 0 \\\\\n",
    "    0 & 0 & 9 \\\\\n",
    "\\end{pmatrix}.\n",
    "$$\n",
    "- **Symmetric matrix:** A square matrix $\\textbf{S}$ that equals its own transpose, $\\textbf{S} = \\textbf{S}^\\top$. Said another way, the elements in the lower diagonal are mirror images of the elements in the upper diagonal. Example,\n",
    "$$\n",
    "\\textbf{S} = \n",
    "\\begin{pmatrix}\n",
    "    10 & -1 & -2 \\\\\n",
    "    -1 & 9 & -3 \\\\\n",
    "    -2 & -3 & 8 \\\\\n",
    "\\end{pmatrix}.\n",
    "$$\n",
    "- **Upper diagonal matrix:** A matrix $\\textbf{U}$ whose elements are non-zero only on the diagonal and in the upper diagonal. Said differently, $U_{i,j} = 0$ when $i > j$. Example,\n",
    "$$\\mathbf{U} = \n",
    "\\begin{pmatrix}\n",
    "    1 & 4 & 5 & 6 \\\\\n",
    "    0 & 2 & 7 & 8 \\\\\n",
    "    0 & 0 & 3 & 9 \\\\\n",
    "\\end{pmatrix}.\n",
    "$$\n",
    "- **Lower diagonal matrix:** A matrix $\\textbf{L}$ whose elements are non-zero only on the diagonal and in the lower diagonal. Said differently, $L_{i,j} = 0$ when $i < j$. Example,\n",
    "$$\\mathbf{L} = \n",
    "\\begin{pmatrix}\n",
    "    1 & 0 & 0 & 0 \\\\\n",
    "    4 & 2 & 0 & 0 \\\\\n",
    "    5 & 6 & 3 & 0 \\\\\n",
    "\\end{pmatrix}.\n",
    "$$\n",
    "- **Orthogonal matrix:** A matrix $\\textbf{Q}$ whose inverse is its transpose, i.e. $\\textbf{Q}^{-1} = \\textbf{Q}^\\top$. Example,\n",
    "\n",
    "$$\n",
    "\\textbf{Q} = \n",
    "\\begin{pmatrix}\n",
    "0 & -1 & 0 \\\\\n",
    "1 & 0 & 0 \\\\\n",
    "0 & 0 & 1\n",
    "\\end{pmatrix}.\n",
    "$$\n",
    "\n",
    "Some special matrix operations are:\n",
    "- **Transpose:** The operation that swaps the rows and columns of a matrix. That is, it's the matrix $\\mathbf{A}^\\top$ such that $A_{i,j}^\\top = A_{j,i}$ for all $i,j$.\n",
    "- **Inverse:** The operation that undoes the action of a matrix. That is, it's the matrix $\\mathbf{A}^{-1}$ such that $\\mathbf{A}^{-1} \\mathbf{A} = \\mathbf{I}$.\n",
    "- **Trace:** The sum of the diagonal elements of a matrix. Written $\\text{tr}(\\mathbf{A}) = A_{0,0} + A_{1,1} + \\cdots + A_{n-1,n-1}$.\n",
    "- **Determinant:** A polynomial function of the elements of a matrix. Written $\\text{det}(\\mathbf{A})$. It's very complicated to calculate except in the simplest cases.\n",
    "\n",
    "**Aside:** Simple $2 \\times 2$ matrices have a few tricks to make it easier to calculate things. These tricks don't work with bigger matrices, unfortunately, but if you find yourself calculating things by hand they may save you some time.\n",
    "- To get the determinant quickly, calculate\n",
    "$$\\text{det}(\\mathbf{A}) = A_{0,0}A_{1,1} - A_{0,1}A_{1,0}.$$\n",
    "- To get $\\mathbf{A}^{-1}$ quickly, solve for the determinant, then write\n",
    "$$\n",
    "\\mathbf{A}^{-1} = \\frac{1}{\\text{det}(\\mathbf{A})}\n",
    "\\begin{pmatrix}\n",
    "A_{1,1} & -A_{0,1} \\\\\n",
    "-A_{1,0} & A_{0,0}\n",
    "\\end{pmatrix}.\n",
    "$$\n",
    "- To solve for the eigenvalues quickly, calculate the trace and determinant, then solve the quadratic equation $$\\lambda^2 - \\text{tr}(\\mathbf{A}) \\cdot \\lambda + \\text{det}(\\mathbf{A}) = 0.$$"
   ]
  },
  {
   "cell_type": "markdown",
   "id": "d058ba7e",
   "metadata": {},
   "source": [
    "## Tensors\n",
    "\n",
    "Just as we considered rank-1 arrays (vectors) and rank-2 arrays (matrices), we can also consider rank-3 arrays, rank-4 arrays, etc. These more general-rank arrays are called **tensors**. As an example, a rank-3 tensor $\\textbf{T}$ is an array of shape $(n,m,p)$. Its elements are represented using 3 indices $T_{i,j,k}$. A rank-3 tensor will have $n \\cdot m \\cdot p$ total elements. \n",
    "\n",
    "Just as vectors are objects that live in a *vector space*, tensors are objects that live in a **tensor space**. An $(n,m,p)$ tensor $\\textbf{T}$ would live in the tensor space $\\mathbb{R}^{m \\times n \\times p}$, i.e. $\\textbf{T} \\in \\mathbb{R}^{m \\times n \\times p}$. Tensor spaces are pretty much just like vector spaces, but allow for more general shape and rank. We can add them together, and we can multiply them by scalars, and their outputs will again live in the same tensor space.\n",
    "\n",
    "Here's an example of a rank-3 tensor of all ones with shape $(2, 3, 2)$. We can quickly define such an array in numpy by using `np.ones` and passing in the shape of array we want to generate. Notice how the output essentially looks like 2 matrices of shape $(3,2)$ stacked on top of each other. Those 2 stackings are what the extra dimension gives you."
   ]
  },
  {
   "cell_type": "code",
   "execution_count": 35,
   "id": "62762055",
   "metadata": {},
   "outputs": [
    {
     "data": {
      "text/plain": [
       "(2, 3, 2)"
      ]
     },
     "execution_count": 35,
     "metadata": {},
     "output_type": "execute_result"
    },
    {
     "data": {
      "text/plain": [
       "array([[[1., 1.],\n",
       "        [1., 1.],\n",
       "        [1., 1.]],\n",
       "\n",
       "       [[1., 1.],\n",
       "        [1., 1.],\n",
       "        [1., 1.]]])"
      ]
     },
     "execution_count": 35,
     "metadata": {},
     "output_type": "execute_result"
    }
   ],
   "source": [
    "T = np.ones((2, 3, 2))\n",
    "T.shape\n",
    "T"
   ]
  },
  {
   "cell_type": "markdown",
   "id": "045e10a6",
   "metadata": {},
   "source": [
    "Indexing into tensors is done just like with matrices, except we have extra dimensions."
   ]
  },
  {
   "cell_type": "code",
   "execution_count": 36,
   "id": "00c46ac6",
   "metadata": {},
   "outputs": [
    {
     "data": {
      "text/plain": [
       "1.0"
      ]
     },
     "execution_count": 36,
     "metadata": {},
     "output_type": "execute_result"
    },
    {
     "data": {
      "text/plain": [
       "1.0"
      ]
     },
     "execution_count": 36,
     "metadata": {},
     "output_type": "execute_result"
    },
    {
     "data": {
      "text/plain": [
       "array([1., 1.])"
      ]
     },
     "execution_count": 36,
     "metadata": {},
     "output_type": "execute_result"
    }
   ],
   "source": [
    "T[0, 0, 0]\n",
    "T[-1, -1, -1]\n",
    "T[:, 0, 0]"
   ]
  },
  {
   "cell_type": "markdown",
   "id": "a32af086",
   "metadata": {},
   "source": [
    "Just like other arrays, tensors can have element-wise operations done on them. For example, if we have two rank-3 tensors $\\textbf{T}$ and $\\textbf{S}$ of the same shape we can add them together to get a new rank-3 tensor $\\textbf{T} + \\textbf{S}$. The same holds true for any other element-wise operation we've seen."
   ]
  },
  {
   "cell_type": "code",
   "execution_count": 37,
   "id": "138ac25a",
   "metadata": {},
   "outputs": [
    {
     "data": {
      "text/plain": [
       "array([[[2., 2.],\n",
       "        [2., 2.],\n",
       "        [2., 2.]],\n",
       "\n",
       "       [[2., 2.],\n",
       "        [2., 2.],\n",
       "        [2., 2.]]])"
      ]
     },
     "execution_count": 37,
     "metadata": {},
     "output_type": "execute_result"
    }
   ],
   "source": [
    "T = np.ones((2, 3, 2))\n",
    "S = np.ones((2, 3, 2))\n",
    "T + S"
   ]
  },
  {
   "cell_type": "markdown",
   "id": "273f606d",
   "metadata": {},
   "source": [
    "**Aside:** On top of element-wise operations, tensors have special forms of multiplication that are akin to the inner (dot) product $\\mathbf{x}^\\top \\mathbf{x}$ or outer product $\\mathbf{x} \\mathbf{y}^\\top$ of two vectors. The generalization of the inner product is called **tensor contraction**. Tensor contraction is a way of reducing a tensor's rank by setting two of its indices equal to each other and summing over them. The generalization of the outer product is called the **tensor product**. The tensor product essentially just concatenates the elements of two tensors together to give a higher-rank tensor. Though these products have interesting properties and show a lot about the nature of tensors, I don't see any real point in going into any depth into them in this book.\n",
    "\n",
    "Tensors can be thought of in many different ways depending on the application, but for now, just think of them as different-shaped arrays for storing data. For example, we can store color (RGB) images using a rank-3 tensor. We can also store a corpus of text as a rank-3 tensor, as well as a clip of multi-channel audio. We can store video using a rank-4 tensor. Etc. We'll come back to these more general objects in a future lesson when we get to deep learning, where we'll use generally use pytorch instead of numpy to work with these objects."
   ]
  }
 ],
 "metadata": {
  "kernelspec": {
   "display_name": "Python 3 (ipykernel)",
   "language": "python",
   "name": "python3"
  },
  "language_info": {
   "codemirror_mode": {
    "name": "ipython",
    "version": 3
   },
   "file_extension": ".py",
   "mimetype": "text/x-python",
   "name": "python",
   "nbconvert_exporter": "python",
   "pygments_lexer": "ipython3",
   "version": "3.10.4"
  },
  "toc": {
   "base_numbering": 1,
   "nav_menu": {},
   "number_sections": true,
   "sideBar": true,
   "skip_h1_title": false,
   "title_cell": "Table of Contents",
   "title_sidebar": "Contents",
   "toc_cell": false,
   "toc_position": {},
   "toc_section_display": true,
   "toc_window_display": false
  }
 },
 "nbformat": 4,
 "nbformat_minor": 5
}
