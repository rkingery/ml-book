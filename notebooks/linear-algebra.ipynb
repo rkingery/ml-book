{
 "cells": [
  {
   "cell_type": "markdown",
   "id": "f929c8d1",
   "metadata": {},
   "source": [
    "# Math for ML: Linear Algebra\n",
    "\n",
    "In this lesson, I'll continue on with the math for machine learning sequence by introducing the important topic of linear algebra. I'll also introduce the important NumPy library and use it to illustrate the various linear algebra concepts we'll discuss. A basic understanding of linear algebra is absolutely fundamental to machine learning. In some sense ML basically *is* an application of linear algebra.\n",
    "\n",
    "The topics we will discuss in this lesson are:\n",
    "- Numpy and its basic array operations\n",
    "- Vectors and operations on vectors, including scalar multiplication, vector addition, the dot product, norms, cosine similarity\n",
    "- Matrices and operations on matrices, including matrix multiplication, linear maps, the singular value decomposition\n",
    "- The very basics of tensors and some examples\n",
    "- Broadcasting rules and some examples\n",
    "\n",
    "Let's get started."
   ]
  },
  {
   "cell_type": "markdown",
   "id": "d1393891",
   "metadata": {},
   "source": [
    "## Numpy\n",
    "\n",
    "Though linear algebra *can* be done in ordinary python, it's not the optimal way to do so. For one thing, numpy makes linear algebra routines highly efficient on the back end by compiling them down to low-level code that executes much faster than the equivalent python code would. For another thing, numpy offers some helpful abstractions that make linear algebra operations much easier and more intuitive to do. \n",
    "\n",
    "I'll start by importing numpy. We'll cover the important usages of each of these tools as we need them. Typically by convention, numpy is imported with the name `np`."
   ]
  },
  {
   "cell_type": "code",
   "execution_count": 1,
   "id": "9bb16ae0",
   "metadata": {},
   "outputs": [],
   "source": [
    "import numpy as np\n",
    "import matplotlib.pyplot as plt\n",
    "from utils import *"
   ]
  },
  {
   "cell_type": "code",
   "execution_count": 2,
   "id": "475dbc4d",
   "metadata": {},
   "outputs": [],
   "source": [
    "# this makes every line of a cell print instead of just the last line\n",
    "from IPython.core.interactiveshell import InteractiveShell\n",
    "InteractiveShell.ast_node_interactivity = \"all\""
   ]
  },
  {
   "cell_type": "markdown",
   "id": "aaaa6a0b",
   "metadata": {},
   "source": [
    "### Arrays and Types\n",
    "\n",
    "The fundamental object of numpy is the **array**. An array is very similar to a python list but supports all the numpy operations. To define an array, we can just define a python list and wrap it inside the function `np.array`. I'll create an array called `x` out of the list `[1, 2, 3, 4, 5]`."
   ]
  },
  {
   "cell_type": "code",
   "execution_count": 3,
   "id": "82b4e74a",
   "metadata": {},
   "outputs": [
    {
     "data": {
      "text/plain": [
       "array([1, 2, 3, 4, 5])"
      ]
     },
     "execution_count": 3,
     "metadata": {},
     "output_type": "execute_result"
    }
   ],
   "source": [
    "x = np.array([1, 2, 3, 4, 5]); x"
   ]
  },
  {
   "cell_type": "markdown",
   "id": "252a3f5d",
   "metadata": {},
   "source": [
    "Just like python numbers, numpy arrays are typed. We can have an array of ints, an array of floats, an array of strings, etc. Not *all* objects can be put inside a numpy array though. Only immutable types like ints, floats, strings, or tuples. To get the type of the numbers in an array, call the method `dtype` on `x`. In the array I just defined, the type is `int64`, which is the numpy equivalent of the regular python `int`, which has 64 bits."
   ]
  },
  {
   "cell_type": "code",
   "execution_count": 4,
   "id": "55d81a6d",
   "metadata": {},
   "outputs": [
    {
     "data": {
      "text/plain": [
       "dtype('int64')"
      ]
     },
     "execution_count": 4,
     "metadata": {},
     "output_type": "execute_result"
    }
   ],
   "source": [
    "x.dtype"
   ]
  },
  {
   "cell_type": "markdown",
   "id": "0e77f36a",
   "metadata": {},
   "source": [
    "The other type of importance is of course the float, which is `float64` in numpy. We can specify the type either by passing floats into the array initially, or by recasting the array explicitly using the `astype` method."
   ]
  },
  {
   "cell_type": "code",
   "execution_count": 5,
   "id": "8428b344",
   "metadata": {},
   "outputs": [
    {
     "data": {
      "text/plain": [
       "dtype('float64')"
      ]
     },
     "execution_count": 5,
     "metadata": {},
     "output_type": "execute_result"
    }
   ],
   "source": [
    "x = x.astype('float64')\n",
    "x.dtype"
   ]
  },
  {
   "cell_type": "markdown",
   "id": "156cb79b",
   "metadata": {},
   "source": [
    "Since arrays contain multiple values it's essential to know their **shape**. The shape of an array is the number of elements in each dimension of the array. To get the size of an array, use the `shape` method. It will return the number of values in each dimension of the array."
   ]
  },
  {
   "cell_type": "code",
   "execution_count": 6,
   "id": "8d30978e",
   "metadata": {},
   "outputs": [
    {
     "data": {
      "text/plain": [
       "(5,)"
      ]
     },
     "execution_count": 6,
     "metadata": {},
     "output_type": "execute_result"
    }
   ],
   "source": [
    "x.shape"
   ]
  },
  {
   "cell_type": "markdown",
   "id": "248e3ec7",
   "metadata": {},
   "source": [
    "The number of different dimensions an array has is called its **rank**. Equivalently, the rank is just the length of the shape tuple.\n",
    "\n",
    "The above array `x` is a rank-1 array with 5 elements. We can also define arrays with two, three, or any other number of dimensions we like. In math these arrays sometimes have special names depending on their dimension:\n",
    "- A rank-0 array is called a **scalar** (i.e. just a single number).\n",
    "- A rank-1 array is called a **vector**.\n",
    "- A rank-2 array is called a **matrix**.\n",
    "- A rank-3 or higher array is called a **tensor**.\n",
    "\n",
    "Here's an example of each. Next to each I print out their numpy shapes followed by the array itself."
   ]
  },
  {
   "cell_type": "code",
   "execution_count": 7,
   "id": "ec46b141",
   "metadata": {},
   "outputs": [
    {
     "data": {
      "text/plain": [
       "()"
      ]
     },
     "execution_count": 7,
     "metadata": {},
     "output_type": "execute_result"
    },
    {
     "data": {
      "text/plain": [
       "array(1.5)"
      ]
     },
     "execution_count": 7,
     "metadata": {},
     "output_type": "execute_result"
    }
   ],
   "source": [
    "scalar = np.array(1.5)\n",
    "scalar.shape\n",
    "scalar"
   ]
  },
  {
   "cell_type": "code",
   "execution_count": 8,
   "id": "e196190c",
   "metadata": {},
   "outputs": [
    {
     "data": {
      "text/plain": [
       "(3,)"
      ]
     },
     "execution_count": 8,
     "metadata": {},
     "output_type": "execute_result"
    },
    {
     "data": {
      "text/plain": [
       "array([1, 2, 3])"
      ]
     },
     "execution_count": 8,
     "metadata": {},
     "output_type": "execute_result"
    }
   ],
   "source": [
    "vector = np.array([1, 2, 3])\n",
    "vector.shape\n",
    "vector"
   ]
  },
  {
   "cell_type": "code",
   "execution_count": 9,
   "id": "8da2fbac",
   "metadata": {},
   "outputs": [
    {
     "data": {
      "text/plain": [
       "(2, 3)"
      ]
     },
     "execution_count": 9,
     "metadata": {},
     "output_type": "execute_result"
    },
    {
     "data": {
      "text/plain": [
       "array([[1, 2, 3],\n",
       "       [4, 5, 6]])"
      ]
     },
     "execution_count": 9,
     "metadata": {},
     "output_type": "execute_result"
    }
   ],
   "source": [
    "matrix = np.array([[1, 2, 3], [4, 5, 6]])\n",
    "matrix.shape\n",
    "matrix"
   ]
  },
  {
   "cell_type": "code",
   "execution_count": 10,
   "id": "678be2f7",
   "metadata": {},
   "outputs": [
    {
     "data": {
      "text/plain": [
       "(2, 2, 3)"
      ]
     },
     "execution_count": 10,
     "metadata": {},
     "output_type": "execute_result"
    },
    {
     "data": {
      "text/plain": [
       "array([[[ 1,  2,  3],\n",
       "        [ 4,  5,  6]],\n",
       "\n",
       "       [[ 7,  8,  9],\n",
       "        [10, 11, 12]]])"
      ]
     },
     "execution_count": 10,
     "metadata": {},
     "output_type": "execute_result"
    }
   ],
   "source": [
    "tensor = np.array([[[1, 2, 3], [4, 5, 6]], [[7, 8, 9], [10, 11, 12]]])\n",
    "tensor.shape\n",
    "tensor"
   ]
  },
  {
   "cell_type": "markdown",
   "id": "e553b706",
   "metadata": {},
   "source": [
    "### Element-Wise Array Operations\n",
    "\n",
    "As you'd expect, we can also do arithmetic with arrays as well. Suppose for example we have two arrays like so."
   ]
  },
  {
   "cell_type": "code",
   "execution_count": 11,
   "id": "6df68adc",
   "metadata": {},
   "outputs": [
    {
     "data": {
      "text/plain": [
       "array([1, 2, 3])"
      ]
     },
     "execution_count": 11,
     "metadata": {},
     "output_type": "execute_result"
    },
    {
     "data": {
      "text/plain": [
       "array([4, 5, 6])"
      ]
     },
     "execution_count": 11,
     "metadata": {},
     "output_type": "execute_result"
    }
   ],
   "source": [
    "x = np.array([1, 2, 3]); x\n",
    "y = np.array([4, 5, 6]); y"
   ]
  },
  {
   "cell_type": "markdown",
   "id": "5d66b491",
   "metadata": {},
   "source": [
    "We can efficiently operate on all numbers in these arrays by using **element-wise arithmetic**. The idea is to treat arrays like numbers. We can add, subtract, multiply, divide them. We can apply common functions like exponentials or logarithms. The difference for arrays is that these operations are applied on each number individually.\n",
    "\n",
    "For example, suppose we want to multiply `x` and `y` together. If we multiply each element index-by-index, or element-wise, we'd get something like this:\n",
    "```python\n",
    "x * y = [1 * 4, 2 * 5, 3 * 6] = [4, 10, 18].\n",
    "```"
   ]
  },
  {
   "cell_type": "code",
   "execution_count": 12,
   "id": "8c5e4a64",
   "metadata": {},
   "outputs": [
    {
     "data": {
      "text/plain": [
       "array([ 4, 10, 18])"
      ]
     },
     "execution_count": 12,
     "metadata": {},
     "output_type": "execute_result"
    }
   ],
   "source": [
    "x * y"
   ]
  },
  {
   "cell_type": "markdown",
   "id": "d03eb08e",
   "metadata": {},
   "source": [
    "We can similarly do element-wise operations for addition, subtraction, multiplication by constants, exponentiation, even division."
   ]
  },
  {
   "cell_type": "code",
   "execution_count": 13,
   "id": "6b8b84b8",
   "metadata": {},
   "outputs": [
    {
     "data": {
      "text/plain": [
       "array([5, 7, 9])"
      ]
     },
     "execution_count": 13,
     "metadata": {},
     "output_type": "execute_result"
    },
    {
     "data": {
      "text/plain": [
       "array([-3, -3, -3])"
      ]
     },
     "execution_count": 13,
     "metadata": {},
     "output_type": "execute_result"
    },
    {
     "data": {
      "text/plain": [
       "array([2, 4, 6])"
      ]
     },
     "execution_count": 13,
     "metadata": {},
     "output_type": "execute_result"
    },
    {
     "data": {
      "text/plain": [
       "array([  1,  32, 729])"
      ]
     },
     "execution_count": 13,
     "metadata": {},
     "output_type": "execute_result"
    },
    {
     "data": {
      "text/plain": [
       "array([0.25, 0.4 , 0.5 ])"
      ]
     },
     "execution_count": 13,
     "metadata": {},
     "output_type": "execute_result"
    }
   ],
   "source": [
    "x + y\n",
    "x - y\n",
    "2 * x\n",
    "x ** y\n",
    "x / y"
   ]
  },
  {
   "cell_type": "markdown",
   "id": "e1164b28",
   "metadata": {},
   "source": [
    "We can also take element-wise exponents, logs, sines, cosines, whatever we were doing with ints and floats before."
   ]
  },
  {
   "cell_type": "code",
   "execution_count": 14,
   "id": "272485cb",
   "metadata": {},
   "outputs": [
    {
     "data": {
      "text/plain": [
       "array([ 2.71828183,  7.3890561 , 20.08553692])"
      ]
     },
     "execution_count": 14,
     "metadata": {},
     "output_type": "execute_result"
    },
    {
     "data": {
      "text/plain": [
       "array([0.        , 0.69314718, 1.09861229])"
      ]
     },
     "execution_count": 14,
     "metadata": {},
     "output_type": "execute_result"
    },
    {
     "data": {
      "text/plain": [
       "array([0.84147098, 0.90929743, 0.14112001])"
      ]
     },
     "execution_count": 14,
     "metadata": {},
     "output_type": "execute_result"
    },
    {
     "data": {
      "text/plain": [
       "array([ 0.54030231, -0.41614684, -0.9899925 ])"
      ]
     },
     "execution_count": 14,
     "metadata": {},
     "output_type": "execute_result"
    }
   ],
   "source": [
    "np.exp(x)\n",
    "np.log(x)\n",
    "np.sin(x)\n",
    "np.cos(x)"
   ]
  },
  {
   "cell_type": "markdown",
   "id": "93e2636d",
   "metadata": {},
   "source": [
    "Operations like this make it really convenient and efficient to perform operations on large arrays of data, which is very helpful in machine learning. We'll do it *a lot* going forward, without even thinking about it."
   ]
  },
  {
   "cell_type": "markdown",
   "id": "1addce3b",
   "metadata": {},
   "source": [
    "## Vectors\n",
    "\n",
    "### Definition\n",
    "\n",
    "Now that we have the array data type in hand we can proceed to linear algebra. The most fundamental object of linear algebra is the **vector**. In mathematical terms, a (real-valued) vector is a rank-1 array $\\mathbf{v}$ containing $n$ real numbers $v_0,v_1,v_2,\\cdots,v_{n-1}$, called **elements**:\n",
    "$$\\mathbf{v} = (v_0,v_1,v_2,\\cdots,v_{n-1}).$$\n",
    "\n",
    "**Aside:** Note my choice to use 0-indexing. A a vector of $n$ numbers goes from $v_0,v_1,v_2,\\cdots,v_{n-1}$. This differs from the usual 1-indexing convention used in math, but agrees with the python indexing convention. I chose it so it's easier to go back and forth between math and code in this book.\n",
    "\n",
    "Vectors must have well-defined operations of addition, and scalar multiplication.\n",
    "- If $\\mathbf{v}=(v_0,\\cdots,v_{n-1}), \\mathbf{w}=(w_0,\\cdots,w_{n-1})$ are two vectors of size $n$, then so is their sum (or difference) defined by\n",
    "$$\\mathbf{v} + \\mathbf{w} = (v_0+w_0, v_1+w_1, \\cdots, v_{n-1}+w_{n-1}).$$\n",
    "- If $\\mathbf{v}=(v_0,\\cdots,v_{n-1})$ is a vector of size $n$ and $c$ is a scalar, then their product is also a vector defined by\n",
    "$$c\\mathbf{v} = (cv_0,cv_1,\\cdots,cv_{n-1}).$$\n",
    "\n",
    "Mathematicians like to call the space in which these vectors live the **vector space**, denoted $\\mathbb{R}^n$ for a vector space of size $n$. To say a vector $\\mathbf{v}$ is in the vector space we'd write $\\mathbf{v} \\in \\mathbb{R}^n$.\n",
    "\n",
    "Numpy easily supports both of these operations. Here's an example where we add to vectors, and scalar multiply another. Things happen exactly as you'd expect."
   ]
  },
  {
   "cell_type": "code",
   "execution_count": 15,
   "id": "137ff34d",
   "metadata": {},
   "outputs": [
    {
     "data": {
      "text/plain": [
       "array([2, 2, 2, 2, 2])"
      ]
     },
     "execution_count": 15,
     "metadata": {},
     "output_type": "execute_result"
    },
    {
     "data": {
      "text/plain": [
       "array([0, 0, 0, 0, 0])"
      ]
     },
     "execution_count": 15,
     "metadata": {},
     "output_type": "execute_result"
    }
   ],
   "source": [
    "x = np.array([1, 1, 1, 1, 1])\n",
    "y = np.array([1, 1, 1, 1, 1])\n",
    "x + y\n",
    "x - y"
   ]
  },
  {
   "cell_type": "code",
   "execution_count": 16,
   "id": "1c9cc9f6",
   "metadata": {},
   "outputs": [
    {
     "data": {
      "text/plain": [
       "array([10, 10, 10, 10, 10])"
      ]
     },
     "execution_count": 16,
     "metadata": {},
     "output_type": "execute_result"
    }
   ],
   "source": [
    "x = np.array([1, 1, 1, 1, 1])\n",
    "c = 10\n",
    "c * x"
   ]
  },
  {
   "cell_type": "markdown",
   "id": "48bce0c1",
   "metadata": {},
   "source": [
    "### Visualizing Vectors\n",
    "\n",
    "Though we obviously can't mentally visualize an arbitrary $n$ dimensional space, in the case of a $n=2$ dimensions we can easily visualize a vector as an arrow pointing in the x-y plane.\n",
    "\n",
    "To plot a vector I'll import a utils function `plot_vector` I created, which uses the matplotlib `plt.quiver` function plus some styling to plot a simple vector. Don't worry too much about the details of this implementation unless you're curious, in which case just type `??plot_vector` into a cell to see the source code for it.\n",
    "\n",
    "I'll plot the vector $\\mathbf{v} = (1, 2)$, identifying the components with the axes as $x=1$ and $y=2$. Notice how the arrow begins at the origin and terminates at the point $(1,2)$. The vector *points* in the direction of $(1,2)$.\n",
    "\n",
    "Feel free to play around with different vectors and plot them. Just make sure they're 2D. Note you may need to adjust the scales of the plot for some choices of `v`, which you can do with the `xlim` and `ylim` keywords."
   ]
  },
  {
   "cell_type": "code",
   "execution_count": 17,
   "id": "23defed8",
   "metadata": {},
   "outputs": [
    {
     "data": {
      "image/png": "[encoded data removed]",
      "text/plain": [
       "<Figure size 500x400 with 1 Axes>"
      ]
     },
     "metadata": {},
     "output_type": "display_data"
    }
   ],
   "source": [
    "v = np.array([1, 2])\n",
    "plot_vectors(v, xlim=(0, 2.5), ylim=(0, 2.5), title=f'$v={v[0],v[1]}$')"
   ]
  },
  {
   "cell_type": "markdown",
   "id": "d92ef279",
   "metadata": {},
   "source": [
    "That's all fine for 2D vectors. But what about $n$ dimensions? Perhaps the best thing to do there is to just imagine you have an arrow just like above, but instead of pointing in a 2D plane, it's pointing in an $n$ dimensional space. For example, you could imagine an arrow pointing in 3D space just fine, right?\n",
    "\n",
    "We can also visualize what the operations of vector addition and scalar multiplication look like in this simple case of 2D vectors. For vector addition, imagine you have two vectors $\\mathbf{v}$ and $\\mathbf{w}$. Plot them just like above, but imagine the vector $\\mathbf{w}$ starts at the *head* of $\\mathbf{v}$ instead of at the origin. Now, draw a vector from the origin to the head of $\\mathbf{w}$. *That* vector will then be the sum of the two, $\\mathbf{v}+\\mathbf{w}$.\n",
    "\n",
    "Here's an example. I'll use a helper function to plot the sum of two vectors $\\mathbf{v}=(1,1)$ and $\\mathbf{w}=(1,3)$. Their sum should be the vector $\\mathbf{v}+\\mathbf{w}=(2,4)$, which should exactly touch the tail of the two vectors stacked on top of each other. Again, feel free to play around with this function for different choices of $\\mathbf{v}$ and $\\mathbf{w}$ to get a sense for what's going on."
   ]
  },
  {
   "cell_type": "code",
   "execution_count": 18,
   "id": "a34e5ffe",
   "metadata": {},
   "outputs": [
    {
     "data": {
      "image/png": "[encoded data removed]",
      "text/plain": [
       "<Figure size 500x400 with 1 Axes>"
      ]
     },
     "metadata": {},
     "output_type": "display_data"
    }
   ],
   "source": [
    "v = np.array([1, 1])\n",
    "w = np.array([1, 3])\n",
    "plot_vector_add(v, w, xlim=(0, 4.5), ylim=(0, 4.5))"
   ]
  },
  {
   "cell_type": "markdown",
   "id": "d97e8530",
   "metadata": {},
   "source": [
    "To visualize scalar multiplication, we can just plot a vector along with its scaled vector to get an idea what's going on. Let's do that below for a vector $\\mathbf{v}=(1,1)$ with a scalar $c=2$. The original vector is the black arrow and the scaled one is the orange one. Notice that what's going on is the vector just gets *scaled* in length by the factor of $c=2$. That's why a scalar is called a scalar. It scales the length of a vector!\n",
    "\n",
    "I'll also plot the same vector scaled by $c=-1$ to show what scaling by a negative number does. It just flips the vector in the opposite direction. Again, feel free to play with this function by using different choices for `c`. If you don't want to plot the negative scaling, set `include_neg=False`."
   ]
  },
  {
   "cell_type": "code",
   "execution_count": 19,
   "id": "a62fd88d",
   "metadata": {},
   "outputs": [
    {
     "data": {
      "image/png": "[encoded data removed]",
      "text/plain": [
       "<Figure size 500x400 with 1 Axes>"
      ]
     },
     "metadata": {},
     "output_type": "display_data"
    }
   ],
   "source": [
    "v = np.array([1, 1])\n",
    "c = 2\n",
    "plot_scalar_mult(v, c, xlim=(-2, 3), ylim=(-2, 3), include_neg=True)"
   ]
  },
  {
   "cell_type": "markdown",
   "id": "6d3dfa21",
   "metadata": {},
   "source": [
    "### Dot Products\n",
    "\n",
    "Another fundamental operation we can do with vectors is take their **dot product**, also called the **inner product**. The dot product is a way of taking two *vectors* and getting a *scalar* out of them. Why would we want to do this? It turns out that the dot product provides information about *both* the length (or magnitude) of the vector and its angle (or direction). In essence, the dot product captures the *geometry* of vector spaces.\n",
    "\n",
    "The dot product between two vectors can be defined as the sum of their element-wise multiplication. That is, if\n",
    "$\\mathbf{v}=v_0,v_1,\\cdots,v_{n-1}$ and $\\mathbf{w}=w_0,w_1,\\cdots,w_{n-1}$ are two vectors, then their dot product $\\mathbf{v} \\cdot \\mathbf{w}$ (pronounced \"v dot w\") is given by\n",
    "$$\\mathbf{v} \\cdot \\mathbf{w} = \\sum_{i=0}^{n-1} v_i w_i = v_0 w_0 + v_1 w_1 + \\cdots + v_{n-1} w_{n-1}.$$\n",
    "\n",
    "**Aside:** Note the appearance of the fancy symbol $\\sum_{i=0}^{n-1}$. This means \"sum over each integer $i$ from $0$ to $n-1$ of each product $v_i w_i$\". It's just a short-hand way of writing out the full sum $v_0 w_0 + v_1 w_1 + \\cdots + v_{n-1} w_{n-1}$. The value $i$ is called a *dummy index*. It can be called whatever we like, so long as it sums over the same numbers. We'll use this summation notation a lot in future lessons. It's nothing to worry about. Just a way to write that we're summing up some numbers.\n",
    "\n",
    "Let's do an example of how to calculate the dot product. Consider two vectors $\\mathbf{v}=(2, 0.5)$ and $\\mathbf{w}=(1, 3)$.\n",
    "\n",
    "We can calculate their dot product a few different ways. \n",
    "- One way is to element-wise multiply the vectors together with, which is what `v * w` means in numpy. This gives a new vector $(2*1,0.5*3)$. We then take the *sum* of this new vector by calling `np.sum`. In one line, this would just be `np.sum(v * w)`.\n",
    "- Another way is to simply use the function `np.dot`, which calculates the dot product directly.\n",
    "- Yet another way is to use the `@` symbol and the transpose method `T`, which I'll define shortly when we get to matrix multiplication: `v.T @ w`.\n",
    "\n",
    "Observe the output to each of these 3 methods is exactly the same, as it should be: $\\mathbf{v} \\cdot \\mathbf{w} = 3.5$."
   ]
  },
  {
   "cell_type": "code",
   "execution_count": 20,
   "id": "627171a5",
   "metadata": {},
   "outputs": [],
   "source": [
    "v = np.array([2, 0.5])\n",
    "w = np.array([1, 3])"
   ]
  },
  {
   "cell_type": "code",
   "execution_count": 21,
   "id": "a1b0d846",
   "metadata": {},
   "outputs": [
    {
     "data": {
      "text/plain": [
       "3.5"
      ]
     },
     "execution_count": 21,
     "metadata": {},
     "output_type": "execute_result"
    },
    {
     "data": {
      "text/plain": [
       "3.5"
      ]
     },
     "execution_count": 21,
     "metadata": {},
     "output_type": "execute_result"
    },
    {
     "data": {
      "text/plain": [
       "3.5"
      ]
     },
     "execution_count": 21,
     "metadata": {},
     "output_type": "execute_result"
    }
   ],
   "source": [
    "np.sum(v * w)\n",
    "np.dot(v, w)\n",
    "v.T @ w"
   ]
  },
  {
   "cell_type": "markdown",
   "id": "64b9561e",
   "metadata": {},
   "source": [
    "### Norms and Cosine Similarity\n",
    "\n",
    "Great, so we just introduced 3 ways to calculate the number 3.5. What of it? It turns out this number says something about the *angle* between these two vectors.\n",
    "\n",
    "Before discussing how to calculate the angle between two vectors, let's discuss the simpler idea of how to calculate the *length* of a vector. It's just the square root of the vector's dot product with itself. For technical reasons, this is usually called the **2-norm** in machine learning instead of the length, and written\n",
    "$$||\\mathbf{v}||_2 = \\sqrt{\\mathbf{v} \\cdot \\mathbf{v}} = \\sqrt{\\sum_{i=1}^n v_i^2}.$$\n",
    "\n",
    "**Aside:** There are other ways of defining norms as well that don't correspond to length, for example the **1-norm**\n",
    "$$||\\mathbf{v}||_1 = \\sum_{i=1}^n |v_i|.$$\n",
    "The 1-norm is sometimes used in machine learning since it has subtly different properties than the 2-norm.\n",
    "\n",
    "The 2-norm corresponds to the Euclidean length you learn about in geometry, which is essentially just the Pythagorean Theorem. If $\\mathbf{v}=(x, y)$ for example, then its length would be the 2-norm \n",
    "$$||\\mathbf{v}||_2 = \\sqrt{\\mathbf{v} \\cdot \\mathbf{v}} = \\sqrt{x^2+y^2}.$$\n",
    "That is, $||\\mathbf{v}||_2$ is just the hypotenuse of a right triangle with base $x$ and height $y$.\n",
    "\n",
    "Here's a calculation of the 2-norm of the two vectors $\\mathbf{v}, \\mathbf{w}$ we defined above. I'll define a function `two_norm(v)`, which will calculate the dot product of a vector with itself using `np.dot`, then take its square root with `np.sqrt`, returning the result."
   ]
  },
  {
   "cell_type": "code",
   "execution_count": 22,
   "id": "535a060d",
   "metadata": {},
   "outputs": [
    {
     "data": {
      "text/plain": [
       "2.0615528128088303"
      ]
     },
     "execution_count": 22,
     "metadata": {},
     "output_type": "execute_result"
    },
    {
     "data": {
      "text/plain": [
       "3.1622776601683795"
      ]
     },
     "execution_count": 22,
     "metadata": {},
     "output_type": "execute_result"
    }
   ],
   "source": [
    "def two_norm(v):\n",
    "    return np.sqrt(np.dot(v, v))\n",
    "\n",
    "two_norm(v)\n",
    "two_norm(w)"
   ]
  },
  {
   "cell_type": "markdown",
   "id": "e1ae9de2",
   "metadata": {},
   "source": [
    "Observe that the length of $\\mathbf{w}$ is larger than the length of $\\mathbf{v}$. We can see this by plotting these two vectors next to each other."
   ]
  },
  {
   "cell_type": "code",
   "execution_count": 23,
   "id": "f731c81d",
   "metadata": {},
   "outputs": [
    {
     "data": {
      "image/png": "[encoded data removed]",
      "text/plain": [
       "<Figure size 500x400 with 1 Axes>"
      ]
     },
     "metadata": {},
     "output_type": "display_data"
    }
   ],
   "source": [
    "plot_vectors([v, w], xlim=(0, 3.5), ylim=(0, 3.5), labels=['v', 'w'])"
   ]
  },
  {
   "cell_type": "markdown",
   "id": "2e9c80a0",
   "metadata": {},
   "source": [
    "In this plot we can also see the angle between these two vectors, call it $\\theta$. It looks visually like $\\theta \\approx 45^{\\circ}$ or so. To calculate $\\theta$ exactly we can use the following formula:\n",
    "$$\\cos\\theta = \\cos(\\mathbf{v}, \\mathbf{w}) = \\frac{\\mathbf{v} \\cdot \\mathbf{w}}{||\\mathbf{v}||_2 ||\\mathbf{w}||_2}.$$\n",
    "That is, the cosine of the angle between two vectors is their dot product divided by both their lengths. \n",
    "\n",
    "**Aside:** If you want a proof of this formula, convince yourself that the following formula is true: $||\\textbf{v}||_2^2 + ||\\textbf{w}||_2^2 = (\\textbf{v} \\cdot \\textbf{w})^2$.\n",
    "Then, use the Pythagorean Theorem and the the trig definition of $\\cos\\theta$ on a right triangle with side lengths $||\\textbf{v}||_2$ and $||\\textbf{w}||_2$.\n",
    "\n",
    "In machine learning this formula for $\\cos\\theta$ is called the **cosine similarity** between two vectors. It gives a length-invariant measure of how much two vectors \"agree\" with each other. Since $-1 \\leq \\cos\\theta \\leq 1$,\n",
    "- If $\\cos\\theta$ is close to $1$ it means their angle is almost zero, hence they're sitting right on top of each other, and agree highly. \n",
    "- If $\\cos\\theta$ is close to $-1$ it means they're parallel to each other but face the opposite direction, which means they are in some sense opposites of each other. \n",
    "- If $\\cos\\theta = 0$ then the two vectors are perpendicular to each other, and the two vectors are said to be **orthogonal** to each other. Orthogonal vectors disagree highly with each other. They're nothing alike in some sense.\n",
    "We'll see cosine similarity show up again when we want to see how similar two pieces of data are to each other.\n",
    "\n",
    "Let's calculate the cosine similarity for our two vectors. I'll define a function `cosine_similarity(v, w)` to do this. It seems like the two vectors above should agree reasonably, but not perfectly. If their angle is about 45&deg;, then their cosine similarity should be something like 0.5, which is about what we get."
   ]
  },
  {
   "cell_type": "code",
   "execution_count": 24,
   "id": "153eed7a",
   "metadata": {},
   "outputs": [
    {
     "data": {
      "text/plain": [
       "0.5368754921931592"
      ]
     },
     "execution_count": 24,
     "metadata": {},
     "output_type": "execute_result"
    }
   ],
   "source": [
    "def cosine_similarity(v, w):\n",
    "    return np.dot(v, w) / (two_norm(v) * two_norm(w))\n",
    "\n",
    "cosine_similarity(v, w)"
   ]
  },
  {
   "cell_type": "markdown",
   "id": "25c928de",
   "metadata": {},
   "source": [
    "## Matrices\n",
    "\n",
    "### Definition\n",
    "\n",
    "The next step up from rank-1 arrays are the rank-2 arrays, called matrices. A **matrix** is a rank-2 array of real numbers. That is, a matrix $\\mathbf{A}$ contains $m$ rows and $n$ columns of real numbers $A_{i,j}$. Note there are then $n\\cdot m$ total elements in $\\mathbf{A}$. In mathematical notation we'd express $\\mathbf{A}$ in a grid like this,\n",
    "$$\n",
    "\\mathbf{A} = \n",
    "\\begin{pmatrix}\n",
    "    A_{0,0} & A_{0,1} & \\dots & A_{0,n-1} \\\\\n",
    "    A_{1,0} & A_{1,1} & \\dots & A_{1,n-1} \\\\\n",
    "    \\vdots & \\vdots & \\ddots & \\vdots \\\\\n",
    "    A_{m-1,0} & A_{m-1,1} & \\dots & A_{m-1,n-1}\n",
    "\\end{pmatrix}.\n",
    "$$\n",
    "\n",
    "**Aside:** I'll sometimes write the elements of an array using subscripts like $A_{i,j}$ as above, and sometimes using the usual array notation $A[i,j]$. The choice will depend on the situation. I'm using the subscript convention here because it's most common when covering math topics like linear algebra.\n",
    "\n",
    "Just as a mathematician might write $\\mathbf{v} \\in \\mathbb{R}^n$ to say a vector is an array of $n$ real numbers, he'd write $\\mathbf{A} \\in \\mathbb{R}^{m \\times n}$ to say that a matrix is a real-valued array of shape $(m,n)$.\n",
    "\n",
    "A simple example of a matrix might be the $(3,3)$ matrix\n",
    "$$\n",
    "\\mathbf{A} = \n",
    "\\begin{pmatrix}\n",
    "    1 & 2 & 3 \\\\\n",
    "    4 & 5 & 6 \\\\\n",
    "    7 & 8 & 9 \\\\\n",
    "\\end{pmatrix}.\n",
    "$$"
   ]
  },
  {
   "cell_type": "code",
   "execution_count": 25,
   "id": "af541748",
   "metadata": {},
   "outputs": [
    {
     "data": {
      "text/plain": [
       "array([[1, 2, 3],\n",
       "       [4, 5, 6],\n",
       "       [7, 8, 9]])"
      ]
     },
     "execution_count": 25,
     "metadata": {},
     "output_type": "execute_result"
    }
   ],
   "source": [
    "A = np.array([[1, 2, 3], [4, 5, 6], [7, 8, 9]]); A"
   ]
  },
  {
   "cell_type": "markdown",
   "id": "7c1a3156",
   "metadata": {},
   "source": [
    "Indexing into a matrix in numpy is different than in a regular python lists of lists. If we want to to get the $(2, 1)$ element of the above matrix, which is $A_{2,1}=8$, we'd write `A[2, 1]`, *not* `A[2][1]` like with a list of lists.\n",
    "\n",
    "Slicing is done pretty much the same as with lists. If we want the first row of the matrix, which is $A_{0, :}=(1 \\ \\ 2 \\ \\ 3)$, we'd write `A[0, :]`.\n",
    "\n",
    "Negative indexing works just fine as well. We can efficiently get the bottom right element $A_{2,2}=9$ for example by using `A[-1, -1]`."
   ]
  },
  {
   "cell_type": "code",
   "execution_count": 26,
   "id": "dacc9254",
   "metadata": {},
   "outputs": [
    {
     "data": {
      "text/plain": [
       "8"
      ]
     },
     "execution_count": 26,
     "metadata": {},
     "output_type": "execute_result"
    },
    {
     "data": {
      "text/plain": [
       "array([1, 2, 3])"
      ]
     },
     "execution_count": 26,
     "metadata": {},
     "output_type": "execute_result"
    },
    {
     "data": {
      "text/plain": [
       "9"
      ]
     },
     "execution_count": 26,
     "metadata": {},
     "output_type": "execute_result"
    }
   ],
   "source": [
    "A[2, 1]\n",
    "A[0, :]\n",
    "A[-1, -1]"
   ]
  },
  {
   "cell_type": "markdown",
   "id": "578f97a6",
   "metadata": {},
   "source": [
    "Numpy also supports more complex indexing than python lists do. We're free to pass in a list of indices we want and have them all returned in a new array. For example, if we only want the second and third columns of `A`, we can write either `A[:, 1:]` *or* `A[:, [1, 2]]`."
   ]
  },
  {
   "cell_type": "code",
   "execution_count": 27,
   "id": "4186acb0",
   "metadata": {},
   "outputs": [
    {
     "data": {
      "text/plain": [
       "array([[2, 3],\n",
       "       [5, 6],\n",
       "       [8, 9]])"
      ]
     },
     "execution_count": 27,
     "metadata": {},
     "output_type": "execute_result"
    },
    {
     "data": {
      "text/plain": [
       "array([[2, 3],\n",
       "       [5, 6],\n",
       "       [8, 9]])"
      ]
     },
     "execution_count": 27,
     "metadata": {},
     "output_type": "execute_result"
    }
   ],
   "source": [
    "A[:, 1:]\n",
    "A[:, [1, 2]]"
   ]
  },
  {
   "cell_type": "markdown",
   "id": "6b43a022",
   "metadata": {},
   "source": [
    "### Special Matrices\n",
    "\n",
    "A matrix has a subset of elements that we give a special name. The elements of a matrix $\\mathbf{A}$ where $i=j$ are called the **diagonal** of $\\mathbf{A}$. For example, the diagonal of the matrix\n",
    "$$\n",
    "\\textbf{A} = \n",
    "\\begin{pmatrix}\n",
    "    1 & 2 & 3 \\\\\n",
    "    4 & 5 & 6 \\\\\n",
    "    7 & 8 & 9 \\\\\n",
    "\\end{pmatrix}.\n",
    "$$\n",
    "is the elements $A_{0,0}=1, A_{1,1}=5, A_{2,2}=9$. We usually write the diagonal as a vector like this\n",
    "$$\\text{diag}(\\mathbf{A}) = (1, 5, 9).$$\n",
    "\n",
    "The diagonal is important because it in some sense specifies the scale of the matrix. It's also a line of symmetry for the matrix. The elements to the upper right of the diagonal are called the **upper diagonal**, and the ones to the lower left the **lower diagonal**.\n",
    "\n",
    "To get the diagonal of a matrix in numpy, use the `np.diag` function."
   ]
  },
  {
   "cell_type": "code",
   "execution_count": 28,
   "id": "06f468e9",
   "metadata": {},
   "outputs": [
    {
     "data": {
      "text/plain": [
       "array([[1, 2, 3],\n",
       "       [4, 5, 6],\n",
       "       [7, 8, 9]])"
      ]
     },
     "execution_count": 28,
     "metadata": {},
     "output_type": "execute_result"
    },
    {
     "data": {
      "text/plain": [
       "array([1, 5, 9])"
      ]
     },
     "execution_count": 28,
     "metadata": {},
     "output_type": "execute_result"
    }
   ],
   "source": [
    "A = np.array([[1, 2, 3], [4, 5, 6], [7, 8, 9]]); A\n",
    "diag_A = np.diag(A); diag_A"
   ]
  },
  {
   "cell_type": "markdown",
   "id": "00e587f5",
   "metadata": {},
   "source": [
    "Another important operation that we can do to a matrix is take its transpose. The **transpose** of a matrix is just the same matrix, but with the row and column indexes swapped. Equivalently, it's the matrix whose elements are flipped about its diagonal.\n",
    "\n",
    "More formally, if a matrix $\\textbf{A}$ has shape $(m,n)$ and its elements are written $A_{i,j}$, then the transpose of $\\textbf{A}$ is defined as the new matrix $\\textbf{A}^\\top$ of shape $(n,m)$ whose elements are given by\n",
    "$$A^{\\top}_{i,j}=A_{j,i}.$$\n",
    "The matrix $\\textbf{A}^\\top$ is usually pronounced \"A transpose\".\n",
    "\n",
    "In our running example, we'd have\n",
    "$$\n",
    "\\textbf{A} = \n",
    "\\begin{pmatrix}\n",
    "    1 & 2 & 3 \\\\\n",
    "    4 & 5 & 6 \\\\\n",
    "    7 & 8 & 9 \\\\\n",
    "\\end{pmatrix} \\quad \\Longrightarrow \\quad\n",
    "\\textbf{A}^\\top = \n",
    "\\begin{pmatrix}\n",
    "    1 & 4 & 7 \\\\\n",
    "    2 & 5 & 8 \\\\\n",
    "    3 & 6 & 9 \\\\\n",
    "\\end{pmatrix}.\n",
    "$$\n",
    "\n",
    "You can easily convince yourself that transposing a matrix twice gives the same matrix back: $(\\textbf{A}^\\top)^\\top=\\textbf{A}$.\n",
    "\n",
    "Why would we care about the transpose? It's in some sense equivalent, or *dual* to $\\textbf{A}$. It provides the same information as $\\textbf{A}$, but is sometimes easier to work with in numerical computations. It has some other theoretical properties as well that I won't go into.\n",
    "\n",
    "Here's an example of the transpose operation in numpy on a $(3,2)$ matrix. The output should be a $(2,3)$ matrix with rows and columns swapped. To transpose a matrix `A` we can use `A.T`, or alternatively `np.transpose`."
   ]
  },
  {
   "cell_type": "code",
   "execution_count": 29,
   "id": "fcb5bbee",
   "metadata": {},
   "outputs": [
    {
     "data": {
      "text/plain": [
       "array([[1, 2],\n",
       "       [3, 4],\n",
       "       [5, 6]])"
      ]
     },
     "execution_count": 29,
     "metadata": {},
     "output_type": "execute_result"
    },
    {
     "data": {
      "text/plain": [
       "array([[1, 3, 5],\n",
       "       [2, 4, 6]])"
      ]
     },
     "execution_count": 29,
     "metadata": {},
     "output_type": "execute_result"
    },
    {
     "data": {
      "text/plain": [
       "((3, 2), (2, 3))"
      ]
     },
     "execution_count": 29,
     "metadata": {},
     "output_type": "execute_result"
    }
   ],
   "source": [
    "A = np.array([[1, 2], [3, 4], [5, 6]]); A\n",
    "A_transpose = A.T; A_transpose\n",
    "A.shape, A_transpose.shape"
   ]
  },
  {
   "cell_type": "markdown",
   "id": "e1f29b34",
   "metadata": {},
   "source": [
    "Here are a few general matrices that come up so often it's worth being aware of them.\n",
    "- **Identity Matrix:** This is a matrix whose values are 1 on the diagonal and 0 everywhere else. It's usually denoted by $\\mathbf{I}$ or $\\mathbf{1}$. In numpy, use the `np.eye(n)` function to create an $(n,n)$ identity matrix.\n",
    "- **Ones Matrix:** This is a matrix of all ones. Sometimes denoted $\\mathbf{J}$. In numpy, use the `np.ones(shape)` function to create an array of ones of shape `shape`.\n",
    "- **Zeros Matrix:** This is a matrix of all zeros, usually just denoted $\\mathbf{0}$. In numpy, use the `np.zeros(shape)` function to create an array of zeros of shape `shape`."
   ]
  },
  {
   "cell_type": "code",
   "execution_count": 30,
   "id": "6e0c31af",
   "metadata": {},
   "outputs": [
    {
     "data": {
      "text/plain": [
       "array([[1., 0.],\n",
       "       [0., 1.]])"
      ]
     },
     "execution_count": 30,
     "metadata": {},
     "output_type": "execute_result"
    },
    {
     "data": {
      "text/plain": [
       "array([[1., 1.],\n",
       "       [1., 1.]])"
      ]
     },
     "execution_count": 30,
     "metadata": {},
     "output_type": "execute_result"
    },
    {
     "data": {
      "text/plain": [
       "array([[0., 0.],\n",
       "       [0., 0.]])"
      ]
     },
     "execution_count": 30,
     "metadata": {},
     "output_type": "execute_result"
    }
   ],
   "source": [
    "I = np.eye(2); I\n",
    "J = np.ones((2, 2)); J\n",
    "O = np.zeros((2, 2)); O"
   ]
  },
  {
   "cell_type": "markdown",
   "id": "d1308cf0",
   "metadata": {},
   "source": [
    "### Matrix Multiplication\n",
    "\n",
    "On top of the usual element-wise operations that any array obeys, matrices also have *another* special kind of multiplication. You probably have seen this version of matrix multiplication before in school, taught as the \"standard\" way to multiply matrices. It's no exaggeration to say that matrix multiplication is the single most important operation in machine learning. It's the bread and butter operation of the most important machine learning algorithms, especially neural networks.\n",
    "\n",
    "Let $\\mathbf{A}$ and $\\mathbf{B}$ be two matrices, where $\\mathbf{A}$ has shape $(m,n)$ and $\\mathbf{B}$ has shape $(n,p)$. Then we can define a new operation called **matrix multiplication** on these two matrix to get a new matrix $\\mathbf{C}$ of shape $(m,p)$ whose elements are\n",
    "$$C_{i,k} = \\sum_{j=1}^n A_{i,j}B_{j,k}.$$\n",
    "In mathematical language we usually just write matrix multiplication symbolically as $\\mathbf{C} = \\mathbf{A}\\mathbf{B}$ without any special symbols.\n",
    "\n",
    "A few notes:\n",
    "- It's important that the number of *columns* of $\\mathbf{A}$ equal the number of *rows* of $\\mathbf{B}$. If not, matrix multiplication between the two is not defined.\n",
    "- Unlike ordinary multiplication or element-wise multiplication, $\\mathbf{A}\\mathbf{B} \\neq \\mathbf{B} \\mathbf{A}$. Another way of saying this is that matrix multiplication does not commute.\n",
    "- The identity matrix $\\mathbf{I}$ has the special property that when matrix multiplied with any other matrix $\\mathbf{A}$ it just gives that matrix back, i.e. $\\mathbf{A} = \\mathbf{I}\\mathbf{A} = \\mathbf{A}\\mathbf{I}$.\n",
    "\n",
    "All of this may be a little hard to understand at first, so let's do an example. We'll multiply the two matrices\n",
    "$$\n",
    "\\mathbf{A} = \n",
    "\\begin{pmatrix}\n",
    "    1 & 2 & 3 \\\\\n",
    "    4 & 5 & 6 \\\\\n",
    "    7 & 8 & 9 \\\\\n",
    "\\end{pmatrix}, \\qquad\n",
    "\\mathbf{B} = \n",
    "\\begin{pmatrix}\n",
    "    6 & 5 \\\\\n",
    "    4 & 3 \\\\\n",
    "    2 & 1 \\\\\n",
    "\\end{pmatrix}.\n",
    "$$\n",
    "Since $\\mathbf{A}$ has shape $(3,3)$ and $\\mathbf{B}$ has shape $(3,2)$, then $\\mathbf{C} = \\mathbf{A}\\mathbf{B}$ should have shape $(3,2)$.\n",
    "\n",
    "The trick to do this easily by hand is to notice that each element $C_{i,k}$ is just the dot product of the $i$<sup>th</sup> *row* of $\\mathbf{A}$ with the $k$<sup>th</sup> *column* of $\\mathbf{B}$. So,\n",
    "$$\n",
    "\\mathbf{C} = \n",
    "\\begin{pmatrix}\n",
    "    A_{0,:} \\bullet B_{:,0} & A_{0,:} \\bullet B_{:,1} \\\\\n",
    "    A_{0,:} \\bullet B_{:,0} & A_{0,:} \\bullet B_{:,1} \\\\\n",
    "    A_{0,:} \\bullet B_{:,0} & A_{0,:} \\bullet B_{:,1} \\\\\n",
    "\\end{pmatrix} = \n",
    "\\begin{pmatrix}\n",
    "   1*6+2*4+3*2 & 1*5+2*3+3*1 \\\\\n",
    "   4*6+5*4+6*2 & 4*5+5*3+6*1 \\\\\n",
    "   7*6+8*4+9*2 & 7*5+8*3+9*1 \\\\\n",
    "\\end{pmatrix} = \n",
    "\\begin{pmatrix}\n",
    "   20 & 14 \\\\\n",
    "   56 & 41 \\\\\n",
    "   92 & 68 \\\\\n",
    "\\end{pmatrix}.\n",
    "$$\n",
    "\n",
    "Of course, why do it by hand when can write code to do it for us? I'll write a function `matmul` that takes in two matrices `A` and `B` and multiplies them if they're compatible. This can be done by looping over all the rows of `A` and all the columns of `B`. At each step of the loop we're calculating some <br> `C[i, j]`, which as we showed above is just the dot product of the rows `A[i, :]` with the columns `B[:, j]`. That's it."
   ]
  },
  {
   "cell_type": "code",
   "execution_count": 31,
   "id": "3fea6290",
   "metadata": {},
   "outputs": [
    {
     "data": {
      "text/plain": [
       "array([[1, 2, 3],\n",
       "       [4, 5, 6],\n",
       "       [7, 8, 9]])"
      ]
     },
     "execution_count": 31,
     "metadata": {},
     "output_type": "execute_result"
    },
    {
     "data": {
      "text/plain": [
       "array([[6, 5],\n",
       "       [4, 3],\n",
       "       [2, 1]])"
      ]
     },
     "execution_count": 31,
     "metadata": {},
     "output_type": "execute_result"
    }
   ],
   "source": [
    "A = np.array([[1, 2, 3], [4, 5, 6], [7, 8, 9]]); A\n",
    "B = np.array([[6, 5], [4, 3], [2, 1]]); B"
   ]
  },
  {
   "cell_type": "code",
   "execution_count": 32,
   "id": "4930b295",
   "metadata": {},
   "outputs": [
    {
     "data": {
      "text/plain": [
       "array([[20, 14],\n",
       "       [56, 41],\n",
       "       [92, 68]])"
      ]
     },
     "execution_count": 32,
     "metadata": {},
     "output_type": "execute_result"
    }
   ],
   "source": [
    "def matmul(A, B):\n",
    "    assert A.shape[1] == B.shape[0]\n",
    "    m, n, p = A.shape[0], A.shape[1], B.shape[1]\n",
    "    C = np.zeros((m, p))\n",
    "    for i in range(m):\n",
    "        for j in range(p):\n",
    "            C[i, j] = np.dot(A[i, :], B[:, j])\n",
    "    return C.astype(A.dtype)\n",
    "\n",
    "C = matmul(A, B); C"
   ]
  },
  {
   "cell_type": "markdown",
   "id": "8ca47c5b",
   "metadata": {},
   "source": [
    "Of course, why write a function to do it when numpy will do it for you on its own? To matrix multiply in numpy we have at least three ways we can do it:\n",
    "- Use the `np.matmul` function: `C = np.matmul(A, B)`,\n",
    "- Use the `np.dot` function: `C = np.dot(A, B)`,\n",
    "- Use the `@` operator: `C = A @ B`.\n",
    "I'll use the `@` operator approach since it's the easiest to read and write. It looks kind of like a multiplication symbol."
   ]
  },
  {
   "cell_type": "code",
   "execution_count": 33,
   "id": "c7cb7807",
   "metadata": {},
   "outputs": [
    {
     "data": {
      "text/plain": [
       "array([[20, 14],\n",
       "       [56, 41],\n",
       "       [92, 68]])"
      ]
     },
     "execution_count": 33,
     "metadata": {},
     "output_type": "execute_result"
    }
   ],
   "source": [
    "C = A @ B; C"
   ]
  },
  {
   "cell_type": "markdown",
   "id": "f896fe6a",
   "metadata": {},
   "source": [
    "But why is matrix multiplication so important in machine learning? Perhaps one reason is that it turns out to be the equivalent of composing two functions. The linear algebra equivalent of the function composition $y=f(g(x))$ is the matrix multiplication $\\mathbf{C}=\\mathbf{A}\\mathbf{B}$. And as you'll recall, function composition is at the heart of the definition of important algorithms like neural networks. Matrix multiplication also lets us define matrix-vector multiplication, which leads to the idea of the linear map, a map from vectors to vectors.\n",
    "\n",
    "I'll finish this section by mentioning yet another important matrix we can (sometimes) get from $\\mathbf{A}$, it's inverse. The inverse is a matrix that when multiplied by it will give the identity matrix. More formally, the **inverse** of a square $(n,n)$ matrix $\\mathbf{A}$ (provided it exists) is the matrix $\\mathbf{A}^{-1}$ such that\n",
    "$$\\mathbf{A}\\mathbf{A}^{-1} = \\mathbf{A}\\mathbf{A}^{-1} = \\mathbf{I}.$$\n",
    "\n",
    "**Aside:** What about if $\\mathbf{A}$ is not square? Can we get an inverse out of it? Sometimes, in certain situations. In particular, when $\\mathbf{A}$ is \"skinny\", i.e. has more rows than columns, we can calculate what's called a **pseudoinverse**, which acts roughly speaking like an inverse. I won't dwell on this, but it does show up in data science equations sometimes.\n",
    "\n",
    "Even for square matrices, inverses need not always exist, but they do for *almost all* matrices you'll encounter in practice. Generally speaking, the inverse is good to *know* about, but you'd rarely actually want to calculate it, as it turns to be a very inefficient and unstable thing to calculate. Nevertheless, if you *need* the inverse for some reason, you can usually get it by using the function `np.linalg.inv`. Here's an example."
   ]
  },
  {
   "cell_type": "code",
   "execution_count": 34,
   "id": "7782db66",
   "metadata": {},
   "outputs": [
    {
     "data": {
      "text/plain": [
       "array([[1, 2],\n",
       "       [3, 4]])"
      ]
     },
     "execution_count": 34,
     "metadata": {},
     "output_type": "execute_result"
    },
    {
     "data": {
      "text/plain": [
       "array([[-2. ,  1. ],\n",
       "       [ 1.5, -0.5]])"
      ]
     },
     "execution_count": 34,
     "metadata": {},
     "output_type": "execute_result"
    },
    {
     "data": {
      "text/plain": [
       "array([[1.0000000e+00, 0.0000000e+00],\n",
       "       [8.8817842e-16, 1.0000000e+00]])"
      ]
     },
     "execution_count": 34,
     "metadata": {},
     "output_type": "execute_result"
    }
   ],
   "source": [
    "A = np.array([[1, 2], [3, 4]]); A\n",
    "A_inv = np.linalg.inv(A); A_inv\n",
    "A @ A_inv"
   ]
  },
  {
   "cell_type": "markdown",
   "id": "7639b6c8",
   "metadata": {},
   "source": [
    "### Linear Maps\n",
    "\n",
    "Just like vectors, matrices can of course be thought of as arrays that store data. Things that can be operated on. But on top of that idea, matrices are also useful as objects that *operate* on vectors. A matrix applied to a vector maps it to another vector, possibly of different size. This is called a **linear map**.\n",
    "\n",
    "To define matrix-vector multiplication we first need to talk about row vectors and column vectors. Row and column vectors are matrices that behave pretty much just like vectors in every meaningful way, except that they have an extra dimension that is always 1. \n",
    "- A **row vector** $\\mathbf{v}^\\top$ is a matrix of shape $(1,n)$ written as (note the lack of commas between elements),\n",
    "$$\n",
    "\\mathbf{v}^\\top = \n",
    "\\begin{pmatrix}\n",
    "    v_0 & v_1 & v_2 & \\cdots & v_{n-1} \\\\\n",
    "\\end{pmatrix}.\n",
    "$$\n",
    "- A **column vector** $\\mathbf{v}$ is a matrix of shape $(n,1)$ written as,\n",
    "$$\n",
    "\\mathbf{v} = \n",
    "\\begin{pmatrix}\n",
    "    v_0 \\\\ v_1 \\\\ v_2 \\\\ \\vdots \\\\ v_{n-1} \\\\\n",
    "\\end{pmatrix}.\n",
    "$$\n",
    "\n",
    "By convention, row vectors are sometimes written with the $\\top$ symbol after them to indicate that they're transposed column vectors. This rule isn't always followed though, and we won't always follow it in future lessons.\n",
    "\n",
    "In numpy we can easily go back and forth between flat vectors, row vectors, and column vectors using the `reshape` and `flatten` methods.\n",
    "\n",
    "We can get a column vector out of `v` a few different ways:\n",
    "- Use `reshape`, passing in the size of `v` followed by a 1: `v.reshape(len(v), 1)`.\n",
    "- Use `reshape`, passing in a shape of `(-1, 1)`: `v.reshape(-1, 1)`. \n",
    "    - The -1 is a shorthand for \"however many elements need to go here to reshape this object\". It keeps you from having to pass a number in explicitly.\n",
    "- Use the numpy trick of adding a `None` column, which creates a dimension of size 1 in that slot: `v[:, None]`.\n",
    "\n",
    "Row vectors can be created similarly. For example, using `v.reshape(1, -1)` or `v[None, :]`. We can also get a row vector by just transposing a column vector, e.g. using `v.reshape(-1, 1).T`.\n",
    "\n",
    "If we have a row or column vector and want to go *back* to a flat vector we can just call `v.flatten()`, which collapses all elements into a single dimension.\n",
    "\n",
    "Here's an example. I'll define a flat vector `v` of size 5, and show a couple ways to create column and row vectors out of `v`, as well as how to go backwards to `v` again."
   ]
  },
  {
   "cell_type": "code",
   "execution_count": 35,
   "id": "eba1d694",
   "metadata": {},
   "outputs": [
    {
     "data": {
      "text/plain": [
       "(5,)"
      ]
     },
     "execution_count": 35,
     "metadata": {},
     "output_type": "execute_result"
    }
   ],
   "source": [
    "v = np.array([1, 2, 3, 4, 5])\n",
    "v.shape"
   ]
  },
  {
   "cell_type": "code",
   "execution_count": 36,
   "id": "1bca3111",
   "metadata": {},
   "outputs": [
    {
     "data": {
      "text/plain": [
       "(5, 1)"
      ]
     },
     "execution_count": 36,
     "metadata": {},
     "output_type": "execute_result"
    },
    {
     "data": {
      "text/plain": [
       "(5, 1)"
      ]
     },
     "execution_count": 36,
     "metadata": {},
     "output_type": "execute_result"
    },
    {
     "data": {
      "text/plain": [
       "(5, 1)"
      ]
     },
     "execution_count": 36,
     "metadata": {},
     "output_type": "execute_result"
    }
   ],
   "source": [
    "v_col = np.array([[1], [2], [3], [4], [5]]) # define a column vector from scratch\n",
    "v_col.shape\n",
    "v_col = v.reshape(-1, 1) # define a column vector using reshape\n",
    "v_col.shape\n",
    "v_col = v[:, None] # define a column vector by adding a None column\n",
    "v_col.shape "
   ]
  },
  {
   "cell_type": "code",
   "execution_count": 37,
   "id": "db152178",
   "metadata": {},
   "outputs": [
    {
     "data": {
      "text/plain": [
       "(1, 5)"
      ]
     },
     "execution_count": 37,
     "metadata": {},
     "output_type": "execute_result"
    },
    {
     "data": {
      "text/plain": [
       "(1, 5)"
      ]
     },
     "execution_count": 37,
     "metadata": {},
     "output_type": "execute_result"
    },
    {
     "data": {
      "text/plain": [
       "(1, 5)"
      ]
     },
     "execution_count": 37,
     "metadata": {},
     "output_type": "execute_result"
    },
    {
     "data": {
      "text/plain": [
       "(1, 5)"
      ]
     },
     "execution_count": 37,
     "metadata": {},
     "output_type": "execute_result"
    }
   ],
   "source": [
    "v_row = np.array([[1, 2, 3, 4, 5]]) # define a row vector from scratch\n",
    "v_row.shape\n",
    "v_row = v.reshape(1, -1) # define a row vector using reshape\n",
    "v_row.shape\n",
    "v_row = v_col.T # define a row vector by transposing a column vector\n",
    "v_row.shape\n",
    "v_col = v[None, :] # define a row vector by adding a None row\n",
    "v_col.shape"
   ]
  },
  {
   "cell_type": "code",
   "execution_count": 38,
   "id": "75212488",
   "metadata": {},
   "outputs": [
    {
     "data": {
      "text/plain": [
       "(5,)"
      ]
     },
     "execution_count": 38,
     "metadata": {},
     "output_type": "execute_result"
    },
    {
     "data": {
      "text/plain": [
       "(5,)"
      ]
     },
     "execution_count": 38,
     "metadata": {},
     "output_type": "execute_result"
    }
   ],
   "source": [
    "v_row.flatten().shape # flatten a row vector into a flat vector\n",
    "v_col.flatten().shape # flatten a column vector into a flat vector"
   ]
  },
  {
   "cell_type": "markdown",
   "id": "5471f6a1",
   "metadata": {},
   "source": [
    "Now that we have an idea what row and column vectors are we can define matrix-vector multiplication simply as the *matrix multiplication* of a matrix with a column (or row) vector. By the rules of matrix multiplication, the output will always be another column (or row) vector.\n",
    "\n",
    "For a matrix $\\mathbf{A}$ of shape $(m,n)$ and a column vector $\\mathbf{x}$ of shape $(n,1)$, their matrix-vector product is a new vector $\\mathbf{b}$ of shape $(m,1)$ given by the matrix multiplication \n",
    "$$\\mathbf{b} = \\mathbf{A}\\mathbf{x}.$$\n",
    "\n",
    "We can also define matrix multiplication using row vectors in a similar way, except they multiply in the opposite order. If $\\mathbf{y}^\\top$ is a row vector of shape $(1,m)$, then when multiplied on the left by $\\mathbf{A}$ we get a new row vector $\\mathbf{d}^\\top$,\n",
    "$$\\mathbf{d}^\\top = \\mathbf{y}^\\top \\mathbf{A}.$$\n",
    "\n",
    "The act of matrix-vector multiplication is also called a **linear map**, since it maps a (linear) vector to another (linear) vector.\n",
    "\n",
    "In general the two vectors $\\mathbf{b}$ and $\\mathbf{d}$ won't be the same unless the both of the following are true:\n",
    "- $\\mathbf{A}$ has shape $(n,n)$. This is called a **square matrix**.\n",
    "- $\\mathbf{A}=\\mathbf{A}^\\top$. This is called a **symmetric matrix**.\n",
    "\n",
    "Here's an example of matrix-vector multiplication. The matrix we'll use is\n",
    "$$\n",
    "\\mathbf{A} = \n",
    "\\begin{pmatrix}\n",
    "   8 & 4 \\\\\n",
    "   5 & 10 \\\\\n",
    "   6 & 3 \\\\\n",
    "\\end{pmatrix}.\n",
    "$$\n",
    "First we'll right-multiply a column vector $\\mathbf{x}=(1,1)$ and then left-multiply a row vector $\\mathbf{y}^\\top=(-1, 0, 1)$."
   ]
  },
  {
   "cell_type": "code",
   "execution_count": 39,
   "id": "3c974638",
   "metadata": {},
   "outputs": [
    {
     "data": {
      "text/plain": [
       "((1, 3), (3, 2), (2, 1))"
      ]
     },
     "execution_count": 39,
     "metadata": {},
     "output_type": "execute_result"
    }
   ],
   "source": [
    "A = np.array([[8, 4], [5, 10], [6, 3]])\n",
    "y_t = np.array([-1, 0, 1]).reshape(1, -1)\n",
    "x = np.array([1, 1]).reshape(-1, 1)\n",
    "y_t.shape, A.shape, x.shape"
   ]
  },
  {
   "cell_type": "code",
   "execution_count": 40,
   "id": "653fd571",
   "metadata": {},
   "outputs": [
    {
     "data": {
      "text/plain": [
       "(3, 1)"
      ]
     },
     "execution_count": 40,
     "metadata": {},
     "output_type": "execute_result"
    },
    {
     "data": {
      "text/plain": [
       "array([[12],\n",
       "       [15],\n",
       "       [ 9]])"
      ]
     },
     "execution_count": 40,
     "metadata": {},
     "output_type": "execute_result"
    }
   ],
   "source": [
    "b = A @ x\n",
    "b.shape\n",
    "b"
   ]
  },
  {
   "cell_type": "code",
   "execution_count": 41,
   "id": "a238bddb",
   "metadata": {},
   "outputs": [
    {
     "data": {
      "text/plain": [
       "(1, 2)"
      ]
     },
     "execution_count": 41,
     "metadata": {},
     "output_type": "execute_result"
    },
    {
     "data": {
      "text/plain": [
       "array([[-2, -1]])"
      ]
     },
     "execution_count": 41,
     "metadata": {},
     "output_type": "execute_result"
    }
   ],
   "source": [
    "d = y_t @ A\n",
    "d.shape\n",
    "d"
   ]
  },
  {
   "cell_type": "markdown",
   "id": "48df2c28",
   "metadata": {},
   "source": [
    "We can try to visualize what these linear maps are doing by plotting the input and output vectors on the same plot and seeing how they change. Of course, this only works in the special case of square matrices, and only in 2 dimensions. If $\\mathbf{b} = \\mathbf{A}\\mathbf{x}$, then clearly $\\mathbf{b}$ will only live in the same vector space as $\\mathbf{x}$ if $\\mathbf{A}$ has shape $(n,n)$.\n",
    "\n",
    "Let's pick a random matrix $\\mathbf{A}$ of size $(2,2)$ and a vector $\\mathbf{x}=(1,1)$ of size $2$ and see what happens to $\\mathbf{x}$ when multiplied by $\\mathbf{A}$. To create a random matrix I'm going to use the function `np.random.rand(2, 2)`, which will create a shape $(2,2)$ matrix of values between 0 and 1. I'll do this 5 different times. This will give 5 different random $\\mathbf{A}$, which will give 5 different $\\mathbf{b}$. Finally, I'll plot them using the same `plot_vectors` utils function from before with some minor styling applied."
   ]
  },
  {
   "cell_type": "code",
   "execution_count": 42,
   "id": "b6a78504",
   "metadata": {},
   "outputs": [
    {
     "data": {
      "image/png": "[encoded data removed]",
      "text/plain": [
       "<Figure size 500x400 with 1 Axes>"
      ]
     },
     "metadata": {},
     "output_type": "display_data"
    }
   ],
   "source": [
    "x = np.array([1, 1]).reshape(-1, 1) # create column vector x = [1, 1]\n",
    "np.random.seed(1) # need this to ensure we get the same vectors every run\n",
    "bs = []\n",
    "for i in range(5):\n",
    "    A = np.random.rand(2, 2) # generate a random (2, 2) matrix A\n",
    "    b = A @ x # the matrix-vector multiply b = Ax\n",
    "    bs.append(b)\n",
    "vectors = [x] + bs # to plot x and all the b vectors\n",
    "labels = ['$x$'] + [f'$b_{i}$' for i in range(len(bs))] # to plot the labels\n",
    "plot_vectors(vectors, xlim=(0, 1.5), ylim=(0, 1.5), labels=labels, title='Linear Map $b=Ax$ for Random $A$')"
   ]
  },
  {
   "cell_type": "markdown",
   "id": "e75da45c",
   "metadata": {},
   "source": [
    "### The Singular Value Decomposition (SVD)\n",
    "\n",
    "Observe that multiplying $\\mathbf{x}$ by $\\mathbf{A}$ can be thought of geometrically as doing 3 different things:\n",
    "1. Rescaling $\\mathbf{x}$ by some scalar, call it $\\sigma$.\n",
    "2. Rotating $\\mathbf{x}$ by some angle, call it $\\theta$.\n",
    "3. If $\\mathbf{A}$ is not square, mapping $\\mathbf{x}$ to a new vector space of dimension $m$.\n",
    "\n",
    "That's really all a linear map $\\mathbf{b}=\\mathbf{A}\\mathbf{x}$ does! It rescales the input vector and rotates it, and if $\\mathbf{A}$ isn't square it also maps it into a different-sized vector space.\n",
    "\n",
    "It turns out that we can separate these 3 distinct behaviors out into 3 distinct matrices, each doing only one of these steps. The idea is to *factor* the matrix $\\mathbf{A}$ into a product of 3 different special matrices $\\mathbf{U}, \\Sigma, \\mathbf{V}$:\n",
    "$$\\mathbf{A} = \\mathbf{U} \\Sigma \\mathbf{V}^\\top.$$\n",
    "Each of these 3 special matrices do one thing for $\\mathbf{A}$:\n",
    "- $\\mathbf{V}$ rotates $\\mathbf{x}$ in its original space.\n",
    "- $\\Sigma$ rescales $\\mathbf{x}$ in its original space.\n",
    "- $\\mathbf{U}$ maps $\\mathbf{x}$ to a new space and rotates it again in the new space.\n",
    "\n",
    "The matrix $\\Sigma$ is called the **singular value matrix**, a special example of a **diagonal matrix**. Diagonal matrices are non-zero only on the main diagonal, and zero everywhere else. All they can do is scale vectors, not rotate them. \n",
    "\n",
    "The matrices $\\mathbf{U}$ and $\\mathbf{V}$ on the other hand do the opposite. They can only rotate vectors, not rescale them. These are called **orthogonal matrices**, and satisfy the special condition $$\\mathbf{U}\\mathbf{U}^\\top=\\mathbf{I}, \\quad \\mathbf{V}\\mathbf{V}^\\top=\\mathbf{I}.$$\n",
    "\n",
    "It turns out that these three matrices performed in sequence will *always* reproduce the action of the original matrix $\\mathbf{A}$. This is a major theorem which I won't prove, one of the most important in linear algebra for sure. \n",
    "\n",
    "The matrix factorization I just described is called the **Singular Value Decomposition** or **SVD**. We will see it again when we get to unsupervised learning (the SVD is essentially all the PCA algorithm is).\n",
    "\n",
    "We can get the SVD of a matrix in numpy by using the function `np.linalg.svd`, which returns a tuple of the three factored matrices $(\\mathbf{U}, \\Sigma, \\mathbf{V})$. Here's an example. \n",
    "\n",
    "Note the function returns the singular value matrix $\\Sigma$ as a diagonal vector instead of the full matrix itself to save space. We can get the full matrix back by calling `np.diag` again on the diagonal vector. I'll use this to verify the SVD indeed gives back the original matrix $\\mathbf{A}$."
   ]
  },
  {
   "cell_type": "code",
   "execution_count": 43,
   "id": "3d70de9d",
   "metadata": {},
   "outputs": [
    {
     "data": {
      "text/plain": [
       "(array([[-0.21483724,  0.88723069,  0.40824829],\n",
       "        [-0.52058739,  0.24964395, -0.81649658],\n",
       "        [-0.82633754, -0.38794278,  0.40824829]]),\n",
       " array([1.68481034e+01, 1.06836951e+00, 3.33475287e-16]),\n",
       " array([[-0.47967118, -0.57236779, -0.66506441],\n",
       "        [-0.77669099, -0.07568647,  0.62531805],\n",
       "        [-0.40824829,  0.81649658, -0.40824829]]))"
      ]
     },
     "execution_count": 43,
     "metadata": {},
     "output_type": "execute_result"
    }
   ],
   "source": [
    "A = np.array([[1, 2, 3], [4, 5, 6], [7, 8, 9]])\n",
    "U, Sigma, V = np.linalg.svd(A)\n",
    "U, Sigma, V"
   ]
  },
  {
   "cell_type": "code",
   "execution_count": 44,
   "id": "399ce6f5",
   "metadata": {},
   "outputs": [
    {
     "data": {
      "text/plain": [
       "array([[1., 2., 3.],\n",
       "       [4., 5., 6.],\n",
       "       [7., 8., 9.]])"
      ]
     },
     "execution_count": 44,
     "metadata": {},
     "output_type": "execute_result"
    }
   ],
   "source": [
    "U @ np.diag(Sigma) @ V"
   ]
  },
  {
   "cell_type": "markdown",
   "id": "d058ba7e",
   "metadata": {},
   "source": [
    "## Tensors\n",
    "\n",
    "Just as we considered rank-1 arrays (vectors) and rank-2 arrays (matrices), we can also consider rank-3 arrays, rank-4 arrays, etc. These more general-rank arrays are called **tensors**. As an example, a rank-3 tensor $\\textbf{T}$ is an array of shape $(n,m,p)$. Its elements are represented using 3 indices $T_{i,j,k}$. A rank-3 tensor will have $n \\cdot m \\cdot p$ total elements.\n",
    "\n",
    "Here's an example of a rank-3 tensor of all ones with shape $(2, 3, 2)$. We can quickly define such an array in numpy by using `np.ones` and passing in the shape of array we want to generate. Notice how the output essentially looks like 2 matrices of shape $(3,2)$ stacked on top of each other. Those 2 stackings are what the extra dimension gives you."
   ]
  },
  {
   "cell_type": "code",
   "execution_count": 45,
   "id": "62762055",
   "metadata": {},
   "outputs": [
    {
     "data": {
      "text/plain": [
       "(2, 3, 2)"
      ]
     },
     "execution_count": 45,
     "metadata": {},
     "output_type": "execute_result"
    },
    {
     "data": {
      "text/plain": [
       "array([[[1., 1.],\n",
       "        [1., 1.],\n",
       "        [1., 1.]],\n",
       "\n",
       "       [[1., 1.],\n",
       "        [1., 1.],\n",
       "        [1., 1.]]])"
      ]
     },
     "execution_count": 45,
     "metadata": {},
     "output_type": "execute_result"
    }
   ],
   "source": [
    "T = np.ones((2, 3, 2))\n",
    "T.shape\n",
    "T"
   ]
  },
  {
   "cell_type": "markdown",
   "id": "045e10a6",
   "metadata": {},
   "source": [
    "Indexing into tensors is done just like with matrices, except we have extra dimensions."
   ]
  },
  {
   "cell_type": "code",
   "execution_count": 46,
   "id": "00c46ac6",
   "metadata": {},
   "outputs": [
    {
     "data": {
      "text/plain": [
       "1.0"
      ]
     },
     "execution_count": 46,
     "metadata": {},
     "output_type": "execute_result"
    },
    {
     "data": {
      "text/plain": [
       "1.0"
      ]
     },
     "execution_count": 46,
     "metadata": {},
     "output_type": "execute_result"
    },
    {
     "data": {
      "text/plain": [
       "array([1., 1.])"
      ]
     },
     "execution_count": 46,
     "metadata": {},
     "output_type": "execute_result"
    }
   ],
   "source": [
    "T[0, 0, 0]\n",
    "T[-1, -1, -1]\n",
    "T[:, 0, 0]"
   ]
  },
  {
   "cell_type": "markdown",
   "id": "273f606d",
   "metadata": {},
   "source": [
    "Tensors can be thought of in many different ways depending on the application, but for now, just think of them as different-shaped arrays for storing data. For example, we can store color (RGB) images using a rank-3 tensor. We can also store a corpus of text as a rank-3 tensor, as well as a clip of multi-channel audio. We can store video using a rank-4 tensor. Etc. We'll come back to these more general objects in a future lesson when we get to deep learning, where we'll use generally use pytorch instead of numpy to work with these objects."
   ]
  },
  {
   "cell_type": "markdown",
   "id": "42a28ae1",
   "metadata": {},
   "source": [
    "## Broadcasting\n",
    "\n",
    "To finish this section I want to talk a little bit about the concept of broadcasting, which is essentially a set of conventions for doing array operations on arrays with improper shapes. This may seem like a strange thing to do, but it turns out knowing how and when to broadcast can make your code much shorter, more readable, and efficient. All major numerical array libraries in modern-day python support broadcasting, including numpy, pytorch, tensorflow, etc. So it's a useful thing to learn."
   ]
  },
  {
   "cell_type": "markdown",
   "id": "1b2c8496",
   "metadata": {},
   "source": [
    "### Motivation\n",
    "\n",
    "Let's start with a simple example. Suppose we have an array of floats `x = np.array([1., 2., 3., 4., 5.])`. We'd like to add 1 to every number in the array. How can we do it? One \"pythonic\" way might be to use a list comprehension like so. This will work just fine, but it requires going back and forth between arrays and lists."
   ]
  },
  {
   "cell_type": "code",
   "execution_count": 47,
   "id": "51e630ee",
   "metadata": {},
   "outputs": [
    {
     "data": {
      "text/plain": [
       "array([1., 2., 3., 4., 5.])"
      ]
     },
     "execution_count": 47,
     "metadata": {},
     "output_type": "execute_result"
    }
   ],
   "source": [
    "x = np.array([1, 2, 3, 4, 5]).astype(float)\n",
    "x"
   ]
  },
  {
   "cell_type": "code",
   "execution_count": 48,
   "id": "db36fdc3",
   "metadata": {},
   "outputs": [
    {
     "data": {
      "text/plain": [
       "array([2., 3., 4., 5., 6.])"
      ]
     },
     "execution_count": 48,
     "metadata": {},
     "output_type": "execute_result"
    }
   ],
   "source": [
    "x_plus_1 = np.array([val + 1 for val in x])\n",
    "x_plus_1"
   ]
  },
  {
   "cell_type": "markdown",
   "id": "378abfbb",
   "metadata": {},
   "source": [
    "What if we didn't want to go back and forth like that? It is slow after all. Anytime numpy has to handoff back to python or vice versa it's going to slow things down. Another thing we could try is to make a vector of ones of the same size as `x`, then add it to `x`. This is also fine, but it requires defining this extra array of ones just to add 1 to the original array."
   ]
  },
  {
   "cell_type": "code",
   "execution_count": 49,
   "id": "3fba32fd",
   "metadata": {},
   "outputs": [
    {
     "data": {
      "text/plain": [
       "array([2., 3., 4., 5., 6.])"
      ]
     },
     "execution_count": 49,
     "metadata": {},
     "output_type": "execute_result"
    }
   ],
   "source": [
    "ones = np.ones(len(x))\n",
    "x_plus_1 = x + ones\n",
    "x_plus_1"
   ]
  },
  {
   "cell_type": "markdown",
   "id": "57846dac",
   "metadata": {},
   "source": [
    "We'd *like* to be able to just add 1 to the array like we would with numbers. If `x` were a single number we'd just write `x + 1` to add one to it, right? But technically we can't do this if `x` is an array, since `x` has shape `(5,)` and 1 is just a number with no shape. This is where broadcasting comes in. Broadcasting says let's *define* the operation `x + 1` so that it *means* add 1 to every element of `x`."
   ]
  },
  {
   "cell_type": "code",
   "execution_count": 50,
   "id": "c1ffd6bb",
   "metadata": {},
   "outputs": [
    {
     "data": {
      "text/plain": [
       "array([2., 3., 4., 5., 6.])"
      ]
     },
     "execution_count": 50,
     "metadata": {},
     "output_type": "execute_result"
    }
   ],
   "source": [
    "x_plus_1 = x + 1\n",
    "x_plus_1"
   ]
  },
  {
   "cell_type": "markdown",
   "id": "bff7f5c8",
   "metadata": {},
   "source": [
    "This notation has the advantage of keeping array equations simple, while at the same time keeping all operations in numpy so that they run fast."
   ]
  },
  {
   "cell_type": "markdown",
   "id": "c0fbbe70",
   "metadata": {},
   "source": [
    "### Broadcasting Rules\n",
    "\n",
    "Suppose now that we have two arrays `A` and `B` of arbitrary shape and we want to operate on them, e.g. via the operations `+, -, *, /, //, **`. Here are the general broadcasting rules, quoted directly from the [numpy documentation](https://numpy.org/doc/stable/user/basics.broadcasting.html).\n",
    "\n",
    "> **Numpy Documentation**<br><br>When operating on two arrays, numpy compares their shapes element-wise. It starts with the trailing (i.e. rightmost) dimensions and works its way left. Two dimensions are **compatible** when <br><br>1. they are equal, or<br>2. one of them is 1 <br><br>If these conditions are not met, a `ValueError: operands could not be broadcast together` exception is thrown, indicating that the arrays have **incompatible** shapes. The size of the resulting array is the size that is not 1 along each axis of the inputs.\n",
    "\n",
    "Let's look at an example. First, suppose `A` has shape `(2, 2, 3)` and `B` has shape `(3,)`. Let's suppose for simplicity that they're both arrays of all ones. \n",
    "\n",
    "```\n",
    "A: 2 , 2 , 3\n",
    "B:         3\n",
    "------------\n",
    "C: 2 , 2 , 3\n",
    "```\n",
    "\n",
    "Here are the broadcasting steps that will take place. Note that only `B` will change in this example. `A` will stay fixed.\n",
    "- Numpy will start in the rightmost dimension, checking if they're equal.\n",
    "- Begin with `A` of shape `(2, 2, 3)` and `B` of shape `(3,)`.\n",
    "- In this case, the rightmost dimension is `3` in both arrays, so we have a match.\n",
    "- Moving left by one, `B` no longer has anymore dimensions, but `A` has two, each `2`. These arrays are thus compatible.\n",
    "- Numpy will now copy `B` to the left in these new dimensions until it has the same shape as `A`.\n",
    "\n",
    "```\n",
    "1. Copy values of B twice to get B = [[1, 1, 1], [1, 1, 1]] with shape (2, 3)\n",
    "2. Copy values of B twice to get B = [[[1, 1, 1], [1, 1, 1]], [[1, 1, 1], [1, 1, 1]]] with shape (2, 2, 3)\n",
    "```\n",
    "- The shapes of A and B are now equal. The output array `C` will have shape `(2, 2, 3)`.\n",
    "\n",
    "Let's verify this is true on two simple arrays of ones. Let's also print out what `C` looks like. Since only copying is taking place we should just be adding 2 arrays of ones, hence the output should sum 2 arrays of ones, giving one array `C` of twos."
   ]
  },
  {
   "cell_type": "code",
   "execution_count": 51,
   "id": "d02cbfbc",
   "metadata": {},
   "outputs": [
    {
     "data": {
      "text/plain": [
       "((2, 2, 3), (3,))"
      ]
     },
     "execution_count": 51,
     "metadata": {},
     "output_type": "execute_result"
    }
   ],
   "source": [
    "A = np.ones((2, 2, 3))\n",
    "B = np.ones(3,)\n",
    "A.shape, B.shape"
   ]
  },
  {
   "cell_type": "code",
   "execution_count": 52,
   "id": "7419bc2e",
   "metadata": {},
   "outputs": [
    {
     "data": {
      "text/plain": [
       "(2, 2, 3)"
      ]
     },
     "execution_count": 52,
     "metadata": {},
     "output_type": "execute_result"
    }
   ],
   "source": [
    "C = A + B\n",
    "C.shape"
   ]
  },
  {
   "cell_type": "code",
   "execution_count": 53,
   "id": "eae939db",
   "metadata": {},
   "outputs": [
    {
     "data": {
      "text/plain": [
       "array([[[2., 2., 2.],\n",
       "        [2., 2., 2.]],\n",
       "\n",
       "       [[2., 2., 2.],\n",
       "        [2., 2., 2.]]])"
      ]
     },
     "execution_count": 53,
     "metadata": {},
     "output_type": "execute_result"
    }
   ],
   "source": [
    "C"
   ]
  },
  {
   "cell_type": "markdown",
   "id": "85c0e474",
   "metadata": {},
   "source": [
    "Let's do one more example. Suppose now that `A` has shape `(8, 1, 6, 1)` and `B` has shape `(7, 1, 5)`.\n",
    "\n",
    "```\n",
    "A: 8 , 1 , 6 , 1\n",
    "B:     7 , 1 , 5\n",
    "----------------\n",
    "C: 8 , 7 , 6 , 5\n",
    "```\n",
    "\n",
    "Here are the broadcasting steps that will take place.\n",
    "- Starting again from the right, dimensions `1` and `5` don't match. But since `A` has a `1` rule (2) applies, so `A` will broadcast itself (i.e. copy its values) 5 times in this dimension to match `B`. \n",
    "- Moving left by one we get `6` and `1`. Now `B` will broadcast itself in this dimension 6 times to match `A`. \n",
    "- Moving left again we get `1` and `7`. Now `A` will broadcast itself in this dimension 7 times to match `B`. \n",
    "- Last, we get `8` in `A` and `B` is out of dimensions, so `B` will broadcast itself 8 times to match `A`. \n",
    "- The shapes of `A` and `B` are now equal. The output `C` thus has shape `(8, 7, 6, 5)`.\n",
    "\n",
    "Here again is an example on two arrays of ones. Verify that the shapes come out right."
   ]
  },
  {
   "cell_type": "code",
   "execution_count": 54,
   "id": "8e310862",
   "metadata": {},
   "outputs": [
    {
     "data": {
      "text/plain": [
       "((8, 1, 6, 1), (7, 1, 5))"
      ]
     },
     "execution_count": 54,
     "metadata": {},
     "output_type": "execute_result"
    }
   ],
   "source": [
    "A = np.ones((8, 1, 6, 1))\n",
    "B = np.ones((7, 1, 5))\n",
    "A.shape, B.shape"
   ]
  },
  {
   "cell_type": "code",
   "execution_count": 55,
   "id": "76c774d7",
   "metadata": {},
   "outputs": [
    {
     "data": {
      "text/plain": [
       "(8, 7, 6, 5)"
      ]
     },
     "execution_count": 55,
     "metadata": {},
     "output_type": "execute_result"
    }
   ],
   "source": [
    "C = A / B\n",
    "C.shape"
   ]
  },
  {
   "cell_type": "markdown",
   "id": "ee0d2748",
   "metadata": {},
   "source": [
    "That's pretty much all there is to broadcasting. It's a systematic way of trying to copy the dimensions in each array until they both have the same shape. All this broadcasting is done under the hood for you when you try to operate on two arrays of different shapes. You don't need to do anything but understand *how* the arrays get broadcast together so you can avoid very subtle errors in your calculations.\n",
    "\n",
    "This can be a bit confusing to understand I'm sure. We'll practice broadcasting a good bit in future lessons to help you get the hang of it. Before long it should become second nature to you."
   ]
  }
 ],
 "metadata": {
  "kernelspec": {
   "display_name": "Python 3 (ipykernel)",
   "language": "python",
   "name": "python3"
  },
  "language_info": {
   "codemirror_mode": {
    "name": "ipython",
    "version": 3
   },
   "file_extension": ".py",
   "mimetype": "text/x-python",
   "name": "python",
   "nbconvert_exporter": "python",
   "pygments_lexer": "ipython3",
   "version": "3.10.4"
  },
  "toc": {
   "base_numbering": 1,
   "nav_menu": {},
   "number_sections": true,
   "sideBar": true,
   "skip_h1_title": false,
   "title_cell": "Table of Contents",
   "title_sidebar": "Contents",
   "toc_cell": false,
   "toc_position": {},
   "toc_section_display": true,
   "toc_window_display": false
  }
 },
 "nbformat": 4,
 "nbformat_minor": 5
}
