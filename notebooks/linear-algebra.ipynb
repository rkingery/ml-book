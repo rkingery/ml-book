{
 "cells": [
  {
   "cell_type": "markdown",
   "id": "f929c8d1",
   "metadata": {},
   "source": [
    "# Math for ML: Linear Algebra\n",
    "\n",
    "In part 3 of this series on Math for ML I'll introduce the important topic of linear algebra. A basic understanding of linear algebra is absolutely fundamental to machine learning. In some sense ML basically *is* an application of linear algebra. We'll cover vectors, matrices, tensors, and important operations between them.\n",
    "\n",
    "Let's get started."
   ]
  },
  {
   "cell_type": "code",
   "execution_count": 1,
   "id": "9bb16ae0",
   "metadata": {},
   "outputs": [],
   "source": [
    "import numpy as np\n",
    "import matplotlib.pyplot as plt\n",
    "from utils.math_ml import *"
   ]
  },
  {
   "cell_type": "code",
   "execution_count": 2,
   "id": "475dbc4d",
   "metadata": {},
   "outputs": [],
   "source": [
    "# this makes every line of a cell print instead of just the last line\n",
    "from IPython.core.interactiveshell import InteractiveShell\n",
    "InteractiveShell.ast_node_interactivity = \"all\"\n",
    "plt.rcParams[\"figure.figsize\"] = (4, 3)"
   ]
  },
  {
   "cell_type": "markdown",
   "id": "1addce3b",
   "metadata": {},
   "source": [
    "## Vectors\n",
    "\n",
    "### Definition\n",
    "\n",
    "Now that we have the array data type in hand we can proceed to linear algebra. The most fundamental object of linear algebra is the **vector**. In mathematical terms, a (real-valued) vector is a rank-1 array $\\mathbf{x}$ containing $n$ real numbers (called **elements**) $x_0,x_1,x_2,\\cdots,x_{n-1}$,\n",
    "$$\\mathbf{x} = (x_0,x_1,x_2,\\cdots,x_{n-1}).$$\n",
    "\n",
    "We typically use the use of the bold-face $\\mathbf{x}$ to represent the entire vector symbolically, and we use unbolded italic characters $x_i$ to denote the elements of that vector. This is a common convention. When writing vectors by hand it's common to instead write the vector with an arrow over it instead, like $\\vec{x}$.\n",
    "\n",
    "Note my choice to use 0-indexing. The $n$ elements go from $x_0,x_1,x_2,\\cdots,x_{n-1}$. This differs from the usual 1-indexing convention used in math, but agrees with the python indexing convention. I chose it so it's easier to go back and forth between math and code in this book.\n",
    "\n",
    "**Notation:** Math folks like to call the space in which these vectors live the **vector space**, denoted $\\mathbb{R}^n$ for a vector space of size $n$. To say a vector $\\mathbf{x}$ is in the vector space we'd write $\\mathbf{x} \\in \\mathbb{R}^n$.\n",
    "\n",
    "To be valid vectors, they must have well-defined operations of vector addition and scalar multiplication.\n",
    "- If $\\mathbf{x}=(x_0,\\cdots,x_{n-1})$ and $\\mathbf{y}=(y_0,\\cdots,y_{n-1})$ are two vectors in the vector space $\\mathbb{R}^n$, then so is their sum defined by\n",
    "$$\\mathbf{x} + \\mathbf{y} = (x_0+y_0, x_1+y_1, \\cdots, x_{n-1}+y_{n-1}).$$\n",
    "- If $\\mathbf{x}=(x_0,\\cdots,x_{n-1})$ is a vector in the vector space $\\mathbb{R}^n$ and $c \\in \\mathbb{R}$ is a scalar, then their product is also a vector in $\\mathbb{R}^n$ defined by\n",
    "$$c\\mathbf{x} = (cx_0,cx_1,\\cdots,cx_{n-1}).$$\n",
    "\n",
    "Numpy easily supports both of these operations. Here's an example where we add to vectors, and scalar multiply another. Things happen exactly as you'd expect."
   ]
  },
  {
   "cell_type": "code",
   "execution_count": 3,
   "id": "137ff34d",
   "metadata": {},
   "outputs": [
    {
     "data": {
      "text/plain": [
       "array([2, 2, 2, 2, 2])"
      ]
     },
     "execution_count": 3,
     "metadata": {},
     "output_type": "execute_result"
    },
    {
     "data": {
      "text/plain": [
       "array([0, 0, 0, 0, 0])"
      ]
     },
     "execution_count": 3,
     "metadata": {},
     "output_type": "execute_result"
    }
   ],
   "source": [
    "x = np.array([1, 1, 1, 1, 1])\n",
    "y = np.array([1, 1, 1, 1, 1])\n",
    "x + y\n",
    "x - y"
   ]
  },
  {
   "cell_type": "code",
   "execution_count": 4,
   "id": "1c9cc9f6",
   "metadata": {},
   "outputs": [
    {
     "data": {
      "text/plain": [
       "array([10, 10, 10, 10, 10])"
      ]
     },
     "execution_count": 4,
     "metadata": {},
     "output_type": "execute_result"
    }
   ],
   "source": [
    "x = np.array([1, 1, 1, 1, 1])\n",
    "c = 10\n",
    "c * x"
   ]
  },
  {
   "cell_type": "markdown",
   "id": "48bce0c1",
   "metadata": {},
   "source": [
    "### Visualizing Vectors\n",
    "\n",
    "Though we obviously can't mentally visualize an arbitrary $n$ dimensional space, in the case of a $n=2$ dimensions we can easily visualize a vector as an arrow pointing in the x-y plane.\n",
    "\n",
    "To plot a vector I'll use the helper function `plot_vector`, which uses the matplotlib `plt.quiver` function plus some styling to plot a simple vector. Don't worry too much about the details of this implementation unless you're curious, in which case just type `??plot_vector` into a cell to see the source code for it.\n",
    "\n",
    "I'll plot the vector $\\mathbf{v} = (1, 2)$, identifying the components with the axes as $x=1$ and $y=2$. Notice how the arrow begins at the origin and terminates at the point $(1,2)$. The vector *points* in the direction of $(1,2)$.\n",
    "\n",
    "Feel free to play around with different vectors and plot them. Just make sure they're 2D. Note you may need to adjust the scales of the plot for some choices of `v`, which you can do with the `xlim` and `ylim` keywords."
   ]
  },
  {
   "cell_type": "code",
   "execution_count": 5,
   "id": "23defed8",
   "metadata": {},
   "outputs": [
    {
     "data": {
      "image/png": "[encoded data removed]",
      "text/plain": [
       "<Figure size 400x300 with 1 Axes>"
      ]
     },
     "metadata": {},
     "output_type": "display_data"
    }
   ],
   "source": [
    "v = np.array([1, 2])\n",
    "plot_vectors(v, xlim=(0, 2.5), ylim=(0, 2.5), title=f'$v={v[0],v[1]}$')"
   ]
  },
  {
   "cell_type": "markdown",
   "id": "d92ef279",
   "metadata": {},
   "source": [
    "That's all fine for 2D vectors. But what about $n$ dimensions? Perhaps the best thing to do there is to just imagine you have an arrow just like above, but instead of pointing in a 2D plane, it's pointing in an $n$ dimensional space. For example, you could imagine an arrow pointing in 3D space just fine, right?\n",
    "\n",
    "We can also visualize what the operations of vector addition and scalar multiplication look like in this simple case of 2D vectors. For vector addition, imagine you have two vectors $\\mathbf{v}$ and $\\mathbf{w}$. Plot them just like above, but imagine the vector $\\mathbf{w}$ starts at the *head* of $\\mathbf{v}$ instead of at the origin. Now, draw a vector from the origin to the head of $\\mathbf{w}$. *That* vector will then be the sum of the two, $\\mathbf{v}+\\mathbf{w}$.\n",
    "\n",
    "Here's an example. I'll use a helper function to plot the sum of two vectors $\\mathbf{v}=(1,1)$ and $\\mathbf{w}=(1,3)$. Their sum should be the vector $\\mathbf{v}+\\mathbf{w}=(2,4)$, which should exactly touch the tail of the two vectors stacked on top of each other. Again, feel free to play around with this function for different choices of $\\mathbf{v}$ and $\\mathbf{w}$ to get a sense for what's going on."
   ]
  },
  {
   "cell_type": "code",
   "execution_count": 6,
   "id": "a34e5ffe",
   "metadata": {},
   "outputs": [
    {
     "data": {
      "image/png": "[encoded data removed]",
      "text/plain": [
       "<Figure size 400x300 with 1 Axes>"
      ]
     },
     "metadata": {},
     "output_type": "display_data"
    }
   ],
   "source": [
    "v = np.array([1, 1])\n",
    "w = np.array([1, 3])\n",
    "plot_vector_add(v, w, xlim=(0, 4.5), ylim=(0, 4.5))"
   ]
  },
  {
   "cell_type": "markdown",
   "id": "d97e8530",
   "metadata": {},
   "source": [
    "To visualize scalar multiplication we can just plot a vector along with its scaled vector to get an idea what's going on. Let's do that below for a vector $\\mathbf{v}=(1,1)$ with a scalar $c=2$. The original vector is the black arrow and the scaled one is the orange one. Notice that what's going on is the vector just gets *scaled* in length by the factor of $c=2$. That's why a scalar is called a scalar. It scales the length of a vector!\n",
    "\n",
    "I'll also plot the same vector scaled by $c=-1$ to show what scaling by a negative number does. It just flips the vector in the opposite direction. Again, feel free to play with this function by using different choices for `c`. If you don't want to plot the negative scaling, set `include_neg=False`."
   ]
  },
  {
   "cell_type": "code",
   "execution_count": 7,
   "id": "a62fd88d",
   "metadata": {},
   "outputs": [
    {
     "data": {
      "image/png": "[encoded data removed]",
      "text/plain": [
       "<Figure size 400x300 with 1 Axes>"
      ]
     },
     "metadata": {},
     "output_type": "display_data"
    }
   ],
   "source": [
    "v = np.array([1, 1])\n",
    "c = 2\n",
    "plot_scalar_mult(v, c, xlim=(-2, 3), ylim=(-2, 3), include_neg=True)"
   ]
  },
  {
   "cell_type": "markdown",
   "id": "6d3dfa21",
   "metadata": {},
   "source": [
    "### Dot Products\n",
    "\n",
    "Another fundamental operation we can do with vectors is take their **dot product**, also called the **inner product**. The dot product is a way of taking two *vectors* and getting a *scalar* out of them. Why would we want to do this? It turns out that the dot product provides information about *both* the length (or magnitude) of the vector and its angle (or direction). In essence, the dot product captures the *geometry* of vector spaces.\n",
    "\n",
    "The dot product between two vectors can be defined as the sum of their element-wise multiplication. That is, if\n",
    "$\\mathbf{x}=x_0,x_1,\\cdots,x_{n-1}$ and $\\mathbf{y}=y_0,y_1,\\cdots,y_{n-1}$ are two vectors, then their dot product $\\mathbf{x} \\cdot \\mathbf{y}$ (pronounced \"x dot y\") is given by\n",
    "$$\\mathbf{x} \\cdot \\mathbf{y} = \\sum_{i=0}^{n-1} x_i y_i = x_0 y_0 + x_1 y_1 + \\cdots + x_{n-1} y_{n-1}.$$\n",
    "\n",
    "**Notation:** Note the appearance of the capital sigma symbol $\\sum_{i=0}^{n-1}$. This means $\\text{\"sum over each integer } i \\text{ from } 0 \\text{ to } n-1 \\text{ of each product } x_i y_i \\text{\"}$. It's just a short-hand way of writing out the full sum $x_0 y_0 + \\cdots + x_{n-1} y_{n-1}$. The integer $i$ is called a *dummy index*. It can be called whatever we like, so long as it sums over the same numbers. We'll use this summation notation a lot in future lessons. It's nothing to worry about. Just a way to write that we're summing up some numbers. If you like, think of it as the math way to write `np.sum`.\n",
    "\n",
    "Let's do an example of how to calculate the dot product. Consider two vectors $\\mathbf{x}=(2, 0.5)$ and $\\mathbf{y}=(1, 3)$.\n",
    "\n",
    "We can calculate their dot product a few different ways. \n",
    "- Element-wise multiply the vectors together with `x * y`. This gives a new vector $(2\\cdot 1,0.5\\cdot 3)$. We then take the *sum* of this new vector with `np.sum(x * y)`.\n",
    "- Use the function `np.dot(x, y)`, which calculates the dot product directly.\n",
    "- Use the `@` symbol and the transpose method `T`, which I'll define shortly when we get to matrix multiplication: `x.T @ y`.\n",
    "\n",
    "Observe the output to each of these 3 methods is exactly the same, as it should be: $\\mathbf{x} \\cdot \\mathbf{y} = 3.5$."
   ]
  },
  {
   "cell_type": "code",
   "execution_count": 8,
   "id": "627171a5",
   "metadata": {},
   "outputs": [],
   "source": [
    "x = np.array([2, 0.5])\n",
    "y = np.array([1, 3])"
   ]
  },
  {
   "cell_type": "code",
   "execution_count": 9,
   "id": "a1b0d846",
   "metadata": {},
   "outputs": [
    {
     "data": {
      "text/plain": [
       "3.5"
      ]
     },
     "execution_count": 9,
     "metadata": {},
     "output_type": "execute_result"
    },
    {
     "data": {
      "text/plain": [
       "3.5"
      ]
     },
     "execution_count": 9,
     "metadata": {},
     "output_type": "execute_result"
    },
    {
     "data": {
      "text/plain": [
       "3.5"
      ]
     },
     "execution_count": 9,
     "metadata": {},
     "output_type": "execute_result"
    }
   ],
   "source": [
    "np.sum(x * y)\n",
    "np.dot(x, y)\n",
    "x.T @ y"
   ]
  },
  {
   "cell_type": "markdown",
   "id": "64b9561e",
   "metadata": {},
   "source": [
    "### Norms and Cosine Similarity\n",
    "\n",
    "Great, so we just introduced 3 ways to calculate the number 3.5. What of it? It turns out this number says something about the *angle* between these two vectors.\n",
    "\n",
    "Before discussing how to calculate the angle between two vectors, let's discuss the simpler idea of how to calculate the *length* of a vector. It's just the square root of the vector's dot product with itself. For technical reasons, this is usually called the **2-norm** in machine learning instead of the length, and written\n",
    "$$||\\mathbf{x}||_2 = \\sqrt{\\mathbf{x} \\cdot \\mathbf{x}} = \\sqrt{\\sum_{i=0}^{n-1} x_i^2}.$$\n",
    "\n",
    "**Aside:** There are other ways of defining norms as well that don't correspond to length. Two notable examples are\n",
    "- The **1-norm** $$||\\mathbf{x}||_1 = \\sum_{i=0}^{n-1} |x_i|.$$\n",
    "- The **infinity-norm** $$||\\mathbf{x}||_\\infty = \\max (|x_0|,|x_2|,\\cdots,|x_{n-1}|).$$\n",
    "\n",
    "Both of these norms are sometimes used in machine learning since they have subtly different properties than the 2-norm.\n",
    "\n",
    "The 2-norm corresponds to the Euclidean length you learn about in geometry, which is essentially just the Pythagorean Theorem. If $\\mathbf{v}=(x, y)$ for example, then its length would be the 2-norm \n",
    "$$||\\mathbf{v}||_2 = \\sqrt{\\mathbf{v} \\cdot \\mathbf{v}} = \\sqrt{x^2+y^2}.$$\n",
    "That is, $||\\mathbf{v}||_2$ is just the hypotenuse of a right triangle with base $x$ and height $y$.\n",
    "\n",
    "Here's a calculation of the 2-norm of the same two vectors $\\mathbf{x}, \\mathbf{y}$ defined above. I'll define a function `two_norm`, which will calculate the dot product of a vector with itself using `np.dot`, then take its square root with `np.sqrt`, returning the result."
   ]
  },
  {
   "cell_type": "code",
   "execution_count": 10,
   "id": "535a060d",
   "metadata": {},
   "outputs": [
    {
     "data": {
      "text/plain": [
       "2.0615528128088303"
      ]
     },
     "execution_count": 10,
     "metadata": {},
     "output_type": "execute_result"
    },
    {
     "data": {
      "text/plain": [
       "3.1622776601683795"
      ]
     },
     "execution_count": 10,
     "metadata": {},
     "output_type": "execute_result"
    }
   ],
   "source": [
    "def two_norm(x):\n",
    "    return np.sqrt(np.dot(x, x))\n",
    "\n",
    "two_norm(x)\n",
    "two_norm(y)"
   ]
  },
  {
   "cell_type": "markdown",
   "id": "e1ae9de2",
   "metadata": {},
   "source": [
    "Observe that the length of $\\mathbf{w}$ is larger than the length of $\\mathbf{v}$. We can see this by plotting these two vectors next to each other."
   ]
  },
  {
   "cell_type": "code",
   "execution_count": 11,
   "id": "f731c81d",
   "metadata": {},
   "outputs": [
    {
     "data": {
      "image/png": "[encoded data removed]",
      "text/plain": [
       "<Figure size 400x300 with 1 Axes>"
      ]
     },
     "metadata": {},
     "output_type": "display_data"
    }
   ],
   "source": [
    "plot_vectors([x, y], xlim=(0, 3.5), ylim=(0, 3.5), labels=['v', 'w'])"
   ]
  },
  {
   "cell_type": "markdown",
   "id": "2e9c80a0",
   "metadata": {},
   "source": [
    "In this plot we can also see the angle between these two vectors, call it $\\theta$. It looks visually like $\\theta \\approx 45^{\\circ}$ or so. To calculate $\\theta$ exactly we can use the following formula, which I won't derive:\n",
    "$$\\cos\\theta = \\frac{\\mathbf{x} \\cdot \\mathbf{y}}{||\\mathbf{x}||_2 ||\\mathbf{y}||_2}.$$\n",
    "That is, the cosine of the angle between two vectors is their dot product divided by both their lengths. \n",
    "\n",
    "**Aside:** If you want a proof of this formula, convince yourself that the following formula is true: $||\\textbf{x}||_2^2 + ||\\textbf{y}||_2^2 = (\\textbf{x} \\cdot \\textbf{y})^2$.\n",
    "Then, use the Pythagorean Theorem and the the trig definition of $\\cos\\theta$ on a right triangle with side lengths $||\\textbf{x}||_2$ and $||\\textbf{y}||_2$.\n",
    "\n",
    "In machine learning this formula for $\\cos\\theta$ is called the **cosine similarity** between two vectors. It gives a length-invariant measure of how much two vectors \"agree\" with each other. Since $-1 \\leq \\cos\\theta \\leq 1$,\n",
    "- If $\\cos\\theta \\approx 1$ it means their angle is almost zero, hence they're sitting right on top of each other, and agree highly. \n",
    "- If $\\cos\\theta \\approx -1$ it means they're parallel to each other but face the opposite direction, which means they are in some sense opposites of each other. \n",
    "- If $\\cos\\theta = 0$ then the two vectors are perpendicular to each other, and the two vectors are said to be **orthogonal** to each other. Orthogonal vectors disagree highly with each other. They're nothing alike in some sense.\n",
    "\n",
    "We'll see cosine similarity show up again when we want to see how similar two pieces of data are to each other.\n",
    "\n",
    "Let's calculate the cosine similarity for our two vectors. I'll define a function `cosine_similarity` to do this. It seems like the two vectors above should agree reasonably, but not perfectly. If their angle is about 45&deg;, then their cosine similarity should be something like 0.5, which is about what we get."
   ]
  },
  {
   "cell_type": "code",
   "execution_count": 12,
   "id": "153eed7a",
   "metadata": {},
   "outputs": [
    {
     "data": {
      "text/plain": [
       "0.5368754921931592"
      ]
     },
     "execution_count": 12,
     "metadata": {},
     "output_type": "execute_result"
    }
   ],
   "source": [
    "def cosine_similarity(x, y):\n",
    "    return np.dot(x, y) / (two_norm(x) * two_norm(y))\n",
    "\n",
    "cosine_similarity(x, y)"
   ]
  },
  {
   "cell_type": "markdown",
   "id": "25c928de",
   "metadata": {},
   "source": [
    "## Matrices\n",
    "\n",
    "### Definition\n",
    "\n",
    "The next step up from rank-1 arrays are the rank-2 arrays, called matrices. A **matrix** is a rank-2 array of real numbers. That is, a matrix $\\mathbf{A}$ contains $m$ rows and $n$ columns of real numbers $A_{i,j}$. Note there are then $n\\cdot m$ total elements in $\\mathbf{A}$. In mathematical notation we'd express $\\mathbf{A}$ in a grid like this,\n",
    "$$\n",
    "\\mathbf{A} = \n",
    "\\begin{pmatrix}\n",
    "    A_{0,0} & A_{0,1} & \\dots & A_{0,n-1} \\\\\n",
    "    A_{1,0} & A_{1,1} & \\dots & A_{1,n-1} \\\\\n",
    "    \\vdots & \\vdots & \\ddots & \\vdots \\\\\n",
    "    A_{m-1,0} & A_{m-1,1} & \\dots & A_{m-1,n-1}\n",
    "\\end{pmatrix}.\n",
    "$$\n",
    "\n",
    "I'll sometimes write the elements of an array using subscripts like $A_{i,j}$ as above, and sometimes using the usual array notation $A[i,j]$. The choice will depend on the situation. I'm using the subscript convention here because it's most common when covering math topics like linear algebra.\n",
    "\n",
    "**Notation:** Just as we'd might write $\\mathbf{x} \\in \\mathbb{R}^n$ to say a vector is an array of $n$ real numbers, we'd similarly write $\\mathbf{A} \\in \\mathbb{R}^{m \\times n}$ to say that a matrix is a real-valued array of shape $(m,n)$. The notation $m \\times n$ means the same thing as $(m,n)$ in specifying the shape of the matrix.\n",
    "\n",
    "A simple example of a matrix might be the $(3,3)$ matrix\n",
    "$$\n",
    "\\mathbf{A} = \n",
    "\\begin{pmatrix}\n",
    "    1 & 2 & 3 \\\\\n",
    "    4 & 5 & 6 \\\\\n",
    "    7 & 8 & 9 \\\\\n",
    "\\end{pmatrix}.\n",
    "$$"
   ]
  },
  {
   "cell_type": "code",
   "execution_count": 13,
   "id": "af541748",
   "metadata": {},
   "outputs": [
    {
     "data": {
      "text/plain": [
       "array([[1, 2, 3],\n",
       "       [4, 5, 6],\n",
       "       [7, 8, 9]])"
      ]
     },
     "execution_count": 13,
     "metadata": {},
     "output_type": "execute_result"
    }
   ],
   "source": [
    "A = np.array([[1, 2, 3], [4, 5, 6], [7, 8, 9]]); A"
   ]
  },
  {
   "cell_type": "markdown",
   "id": "7c1a3156",
   "metadata": {},
   "source": [
    "Indexing into a matrix in numpy is different than in a regular python lists of lists. If we want to to get the $(2, 1)$ element of the above matrix, which is $A_{2,1}=8$, we'd write `A[2, 1]`, *not* `A[2][1]` like with a list of lists.\n",
    "\n",
    "Slicing is done pretty much the same as with lists. If we want the first row of the matrix, which is $A_{0, :}=(1 \\ \\ 2 \\ \\ 3)$, we'd write `A[0, :]`.\n",
    "\n",
    "Negative indexing works just fine as well. We can efficiently get the bottom right element $A_{2,2}=9$ for example by using `A[-1, -1]`."
   ]
  },
  {
   "cell_type": "code",
   "execution_count": 14,
   "id": "dacc9254",
   "metadata": {},
   "outputs": [
    {
     "data": {
      "text/plain": [
       "8"
      ]
     },
     "execution_count": 14,
     "metadata": {},
     "output_type": "execute_result"
    },
    {
     "data": {
      "text/plain": [
       "array([1, 2, 3])"
      ]
     },
     "execution_count": 14,
     "metadata": {},
     "output_type": "execute_result"
    },
    {
     "data": {
      "text/plain": [
       "9"
      ]
     },
     "execution_count": 14,
     "metadata": {},
     "output_type": "execute_result"
    }
   ],
   "source": [
    "A[2, 1]\n",
    "A[0, :]\n",
    "A[-1, -1]"
   ]
  },
  {
   "cell_type": "markdown",
   "id": "578f97a6",
   "metadata": {},
   "source": [
    "Numpy also supports more complex indexing than python lists do. We're free to pass in a list of indices we want and have them all returned in a new array. For example, if we only want the second and third columns of `A`, we can write either `A[:, 1:]` *or* `A[:, [1, 2]]`."
   ]
  },
  {
   "cell_type": "code",
   "execution_count": 15,
   "id": "4186acb0",
   "metadata": {},
   "outputs": [
    {
     "data": {
      "text/plain": [
       "array([[2, 3],\n",
       "       [5, 6],\n",
       "       [8, 9]])"
      ]
     },
     "execution_count": 15,
     "metadata": {},
     "output_type": "execute_result"
    },
    {
     "data": {
      "text/plain": [
       "array([[2, 3],\n",
       "       [5, 6],\n",
       "       [8, 9]])"
      ]
     },
     "execution_count": 15,
     "metadata": {},
     "output_type": "execute_result"
    }
   ],
   "source": [
    "A[:, 1:]\n",
    "A[:, [1, 2]]"
   ]
  },
  {
   "cell_type": "markdown",
   "id": "6b43a022",
   "metadata": {},
   "source": [
    "### Special Matrices\n",
    "\n",
    "A matrix has a subset of elements that we give a special name. The elements of a matrix $\\mathbf{A}$ where $i=j$ (the top left to bottom right diagonal line) are called the **diagonal** of $\\mathbf{A}$. For example, the diagonal of the matrix\n",
    "$$\n",
    "\\textbf{A} = \n",
    "\\begin{pmatrix}\n",
    "    1 & 2 & 3 \\\\\n",
    "    4 & 5 & 6 \\\\\n",
    "    7 & 8 & 9 \\\\\n",
    "\\end{pmatrix}.\n",
    "$$\n",
    "is the elements $A_{0,0}=1, A_{1,1}=5, A_{2,2}=9$. We usually write the diagonal as a vector like this\n",
    "$$\\text{diag}(\\mathbf{A}) = (1, 5, 9).$$\n",
    "\n",
    "The diagonal is important because it in some sense specifies the scale of the matrix. It's also a line of symmetry for the matrix. The elements to the upper right of the diagonal are called the **upper diagonal**, and the ones to the lower left the **lower diagonal**.\n",
    "\n",
    "To get the diagonal of a matrix in numpy, use the `np.diag` function."
   ]
  },
  {
   "cell_type": "code",
   "execution_count": 16,
   "id": "06f468e9",
   "metadata": {},
   "outputs": [
    {
     "data": {
      "text/plain": [
       "array([[1, 2, 3],\n",
       "       [4, 5, 6],\n",
       "       [7, 8, 9]])"
      ]
     },
     "execution_count": 16,
     "metadata": {},
     "output_type": "execute_result"
    },
    {
     "data": {
      "text/plain": [
       "array([1, 5, 9])"
      ]
     },
     "execution_count": 16,
     "metadata": {},
     "output_type": "execute_result"
    }
   ],
   "source": [
    "A = np.array([[1, 2, 3], [4, 5, 6], [7, 8, 9]]); A\n",
    "diag_A = np.diag(A); diag_A"
   ]
  },
  {
   "cell_type": "markdown",
   "id": "00e587f5",
   "metadata": {},
   "source": [
    "Another important operation that we can do to a matrix is take its transpose. The **transpose** of a matrix is just the same matrix, but with the row and column indexes swapped. Equivalently, it's the matrix whose elements are flipped about its diagonal.\n",
    "\n",
    "More formally, if a matrix $\\textbf{A}$ has shape $(m,n)$ and its elements are written $A_{i,j}$, then the transpose of $\\textbf{A}$ is defined as the new matrix $\\textbf{A}^\\top$ of shape $(n,m)$ whose elements are given by\n",
    "$$A^{\\top}_{i,j}=A_{j,i}.$$\n",
    "The matrix $\\textbf{A}^\\top$ is usually pronounced \"A transpose\".\n",
    "\n",
    "In our running example, we'd have\n",
    "$$\n",
    "\\textbf{A} = \n",
    "\\begin{pmatrix}\n",
    "    1 & 2 & 3 \\\\\n",
    "    4 & 5 & 6 \\\\\n",
    "    7 & 8 & 9 \\\\\n",
    "\\end{pmatrix} \\quad \\Longrightarrow \\quad\n",
    "\\textbf{A}^\\top = \n",
    "\\begin{pmatrix}\n",
    "    1 & 4 & 7 \\\\\n",
    "    2 & 5 & 8 \\\\\n",
    "    3 & 6 & 9 \\\\\n",
    "\\end{pmatrix}.\n",
    "$$\n",
    "\n",
    "You can easily convince yourself that transposing a matrix twice gives the same matrix back: $(\\textbf{A}^\\top)^\\top=\\textbf{A}$.\n",
    "\n",
    "Why would we care about the transpose? It's in some sense equivalent, or *dual* to $\\textbf{A}$. It provides the same information as $\\textbf{A}$ in every meaningful way except its shape is flipped. We'll see several examples below where the transpose shows up.\n",
    "\n",
    "Here's an example of the transpose operation in numpy on a $(3,2)$ matrix. The output should be a $(2,3)$ matrix with rows and columns swapped. To transpose a matrix `A` we can use `A.T`, or alternatively `np.transpose`."
   ]
  },
  {
   "cell_type": "code",
   "execution_count": 17,
   "id": "fcb5bbee",
   "metadata": {},
   "outputs": [
    {
     "data": {
      "text/plain": [
       "array([[1, 2],\n",
       "       [3, 4],\n",
       "       [5, 6]])"
      ]
     },
     "execution_count": 17,
     "metadata": {},
     "output_type": "execute_result"
    },
    {
     "data": {
      "text/plain": [
       "array([[1, 3, 5],\n",
       "       [2, 4, 6]])"
      ]
     },
     "execution_count": 17,
     "metadata": {},
     "output_type": "execute_result"
    },
    {
     "data": {
      "text/plain": [
       "((3, 2), (2, 3))"
      ]
     },
     "execution_count": 17,
     "metadata": {},
     "output_type": "execute_result"
    }
   ],
   "source": [
    "A = np.array([[1, 2], [3, 4], [5, 6]]); A\n",
    "A_transpose = A.T; A_transpose\n",
    "A.shape, A_transpose.shape"
   ]
  },
  {
   "cell_type": "markdown",
   "id": "e1f29b34",
   "metadata": {},
   "source": [
    "Here are a few general matrices that come up so often it's worth being aware of them.\n",
    "- **Identity Matrix:** A matrix whose values are 1 on the diagonal and 0 everywhere else. It's usually denoted by $\\mathbf{I}$ or $\\mathbf{1}$. In numpy, use the `np.eye(n)` function to create an $(n,n)$ identity matrix. The identity is the matrix generalization of the number one, as we'll see in the section on matrix multiplication.\n",
    "- **Ones Matrix:** A matrix of all ones. Sometimes denoted $\\mathbf{J}$. In numpy, use the `np.ones(shape)` function to create an array of ones.\n",
    "- **Zeros Matrix:** A matrix of all zeros, usually just denoted $\\mathbf{0}$. In numpy, use the `np.zeros(shape)` function to create an array of zeros.\n",
    "- **Random Matrix:** A matrix whose elements are generated by a random function like `rand` or `randn`. Sometimes denoted $\\mathbf{R}$. In numpy, we can get a \"rand style\" random matrix via `np.random.rand(*shape)` (note the need for the unpacking operator `*` here). We'll talk about randomness more in the lesson on probability."
   ]
  },
  {
   "cell_type": "code",
   "execution_count": 18,
   "id": "6e0c31af",
   "metadata": {},
   "outputs": [
    {
     "data": {
      "text/plain": [
       "array([[1., 0.],\n",
       "       [0., 1.]])"
      ]
     },
     "execution_count": 18,
     "metadata": {},
     "output_type": "execute_result"
    },
    {
     "data": {
      "text/plain": [
       "array([[1., 1.],\n",
       "       [1., 1.]])"
      ]
     },
     "execution_count": 18,
     "metadata": {},
     "output_type": "execute_result"
    },
    {
     "data": {
      "text/plain": [
       "array([[0., 0.],\n",
       "       [0., 0.]])"
      ]
     },
     "execution_count": 18,
     "metadata": {},
     "output_type": "execute_result"
    },
    {
     "data": {
      "text/plain": [
       "array([[0.84481082, 0.58299232],\n",
       "       [0.11898174, 0.45331374]])"
      ]
     },
     "execution_count": 18,
     "metadata": {},
     "output_type": "execute_result"
    }
   ],
   "source": [
    "I = np.eye(2); I\n",
    "J = np.ones((2, 2)); J\n",
    "O = np.zeros((2, 2)); O\n",
    "R = np.random.rand(*(2, 2)); R"
   ]
  },
  {
   "cell_type": "markdown",
   "id": "d1308cf0",
   "metadata": {},
   "source": [
    "### Matrix Multiplication\n",
    "\n",
    "On top of the usual element-wise operations that any array obeys, matrices also have *another* special kind of multiplication. You probably have seen this version of matrix multiplication before in school, taught as the \"standard\" way to multiply matrices. It's no exaggeration to say that matrix multiplication is the single most important operation in machine learning. It's the bread and butter operation of the most important machine learning algorithms.\n",
    "\n",
    "Let $\\mathbf{A}$ and $\\mathbf{B}$ be two matrices, where $\\mathbf{A}$ has shape $(m,n)$ and $\\mathbf{B}$ has shape $(n,p)$. Then we can define a new operation called **matrix multiplication** on these two matrices to get a new matrix $\\mathbf{C}$ of shape $(m,p)$ whose elements are\n",
    "$$C_{i,k} = \\sum_{j=1}^n A_{i,j}B_{j,k}.$$\n",
    "In mathematical language we usually just write matrix multiplication symbolically as $\\mathbf{C} = \\mathbf{A}\\mathbf{B}$ without any special symbols.\n",
    "\n",
    "A few notes:\n",
    "- It's important that the number of *columns* of $\\mathbf{A}$ equal the number of *rows* of $\\mathbf{B}$. If not, matrix multiplication between the two is not defined.\n",
    "- Unlike ordinary multiplication or element-wise multiplication, $\\mathbf{A}\\mathbf{B} \\neq \\mathbf{B} \\mathbf{A}$. Another way of saying this is that matrix multiplication does not commute.\n",
    "- The identity matrix $\\mathbf{I}$ has the special property that when matrix multiplied with any other matrix $\\mathbf{A}$ it just gives that matrix back, i.e. $\\mathbf{A} = \\mathbf{I}\\mathbf{A} = \\mathbf{A}\\mathbf{I}$.\n",
    "- Transposition acts to reverse the order of matrix multiplication. If $\\mathbf{C} = \\mathbf{A}\\mathbf{B}$, then\n",
    "$$\\mathbf{C}^\\top = \\big(\\mathbf{A}\\mathbf{B}\\big)^\\top = \\mathbf{B}^\\top\\mathbf{A}^\\top.$$\n",
    "\n",
    "All of this may be a little hard to understand at first, so let's do an example. We'll multiply the two matrices\n",
    "$$\n",
    "\\mathbf{A} = \n",
    "\\begin{pmatrix}\n",
    "    1 & 2 & 3 \\\\\n",
    "    4 & 5 & 6 \\\\\n",
    "    7 & 8 & 9 \\\\\n",
    "\\end{pmatrix}, \\qquad\n",
    "\\mathbf{B} = \n",
    "\\begin{pmatrix}\n",
    "    6 & 5 \\\\\n",
    "    4 & 3 \\\\\n",
    "    2 & 1 \\\\\n",
    "\\end{pmatrix}.\n",
    "$$\n",
    "Since $\\mathbf{A}$ has shape $(3,3)$ and $\\mathbf{B}$ has shape $(3,2)$, then $\\mathbf{C} = \\mathbf{A}\\mathbf{B}$ should have shape $(3,2)$.\n",
    "\n",
    "The trick to do this easily by hand is to notice that each element $C_{i,k}$ is just the dot product of the $i$<sup>th</sup> *row* of $\\mathbf{A}$ with the $k$<sup>th</sup> *column* of $\\mathbf{B}$. So,\n",
    "$$\n",
    "\\mathbf{C} = \n",
    "\\begin{pmatrix}\n",
    "    A_{0,:} \\bullet B_{:,0} & A_{0,:} \\bullet B_{:,1} \\\\\n",
    "    A_{1,:} \\bullet B_{:,0} & A_{1,:} \\bullet B_{:,1} \\\\\n",
    "    A_{2,:} \\bullet B_{:,0} & A_{2,:} \\bullet B_{:,1} \\\\\n",
    "\\end{pmatrix} = \n",
    "\\begin{pmatrix}\n",
    "   1\\cdot 6+2\\cdot 4+3\\cdot 2 & 1\\cdot 5+2\\cdot 3+3\\cdot 1 \\\\\n",
    "   4\\cdot 6+5\\cdot 4+6\\cdot 2 & 4\\cdot 5+5\\cdot 3+6\\cdot 1 \\\\\n",
    "   7\\cdot 6+8\\cdot 4+9\\cdot 2 & 7\\cdot 5+8\\cdot 3+9\\cdot 1 \\\\\n",
    "\\end{pmatrix} = \n",
    "\\begin{pmatrix}\n",
    "   20 & 14 \\\\\n",
    "   56 & 41 \\\\\n",
    "   92 & 68 \\\\\n",
    "\\end{pmatrix}.\n",
    "$$\n",
    "\n",
    "**Aside:** If you're having a hard time understanding what matrix multiplication is doing, [here](http://matrixmultiplication.xyz/) is an online interactive tool that you may find helpful.\n",
    "\n",
    "Of course, why do it by hand when can write code to do it for us? I'll write a function `matmul` that takes in two matrices `A` and `B` and multiplies them if they're compatible. This can be done by looping over all the rows of `A` and all the columns of `B`. At each step of the loop we're calculating some <br> `C[i, j]`, which as we showed above is just the dot product of the rows `A[i, :]` with the columns `B[:, j]`. That's it."
   ]
  },
  {
   "cell_type": "code",
   "execution_count": 19,
   "id": "3fea6290",
   "metadata": {},
   "outputs": [
    {
     "data": {
      "text/plain": [
       "array([[1, 2, 3],\n",
       "       [4, 5, 6],\n",
       "       [7, 8, 9]])"
      ]
     },
     "execution_count": 19,
     "metadata": {},
     "output_type": "execute_result"
    },
    {
     "data": {
      "text/plain": [
       "array([[6, 5],\n",
       "       [4, 3],\n",
       "       [2, 1]])"
      ]
     },
     "execution_count": 19,
     "metadata": {},
     "output_type": "execute_result"
    }
   ],
   "source": [
    "A = np.array([[1, 2, 3], [4, 5, 6], [7, 8, 9]]); A\n",
    "B = np.array([[6, 5], [4, 3], [2, 1]]); B"
   ]
  },
  {
   "cell_type": "code",
   "execution_count": 20,
   "id": "4930b295",
   "metadata": {},
   "outputs": [
    {
     "data": {
      "text/plain": [
       "array([[20, 14],\n",
       "       [56, 41],\n",
       "       [92, 68]])"
      ]
     },
     "execution_count": 20,
     "metadata": {},
     "output_type": "execute_result"
    }
   ],
   "source": [
    "def matmul(A, B):\n",
    "    assert A.shape[1] == B.shape[0], '# columns of A must equal # rows of B'\n",
    "    m, n, p = A.shape[0], A.shape[1], B.shape[1]\n",
    "    C = np.zeros((m, p))\n",
    "    for i in range(m):\n",
    "        for j in range(p):\n",
    "            C[i, j] = np.dot(A[i, :], B[:, j])\n",
    "    return C.astype(A.dtype)\n",
    "\n",
    "C = matmul(A, B); C"
   ]
  },
  {
   "cell_type": "markdown",
   "id": "8ca47c5b",
   "metadata": {},
   "source": [
    "Of course, why write a function to do it when numpy will do it for you on its own? To matrix multiply in numpy we have at least three ways we can do it:\n",
    "- Use the `np.matmul` function: `C = np.matmul(A, B)`,\n",
    "- Use the `np.dot` function: `C = np.dot(A, B)`,\n",
    "- Use the `@` operator: `C = A @ B`.\n",
    "I'll use the `@` operator approach since it's the easiest to read and write. It looks kind of like a multiplication symbol."
   ]
  },
  {
   "cell_type": "code",
   "execution_count": 21,
   "id": "c7cb7807",
   "metadata": {},
   "outputs": [
    {
     "data": {
      "text/plain": [
       "array([[20, 14],\n",
       "       [56, 41],\n",
       "       [92, 68]])"
      ]
     },
     "execution_count": 21,
     "metadata": {},
     "output_type": "execute_result"
    }
   ],
   "source": [
    "C = A @ B; C"
   ]
  },
  {
   "cell_type": "markdown",
   "id": "080f1c76",
   "metadata": {},
   "source": [
    "Why is matrix multiplication so important in machine learning? Perhaps one reason is that it turns out to be the equivalent of composing two functions. The linear algebra equivalent of the function composition $y=f(g(x))$ is the matrix multiplication $\\mathbf{C}=\\mathbf{A}\\mathbf{B}$. And as you'll recall, function composition is at the heart of the definition of important algorithms like neural networks. Matrix multiplication also lets us define matrix-vector multiplication, which leads to the idea of the linear map, a map from vectors to vectors."
   ]
  },
  {
   "cell_type": "markdown",
   "id": "5e1eb9f7",
   "metadata": {},
   "source": [
    "### Matrix Multiplication vs Element-Wise Multiplication\n",
    "\n",
    "It's important to mind the difference between matrix multiplication and *element-wise multiplication of matrices*. They do two different things. To distinguish the two, it's sometimes common to denote the element-wise multiplication of matrices with the symbol $\\mathbf{A} \\odot \\mathbf{B}$ and call it the **Hadamard product**.\n",
    "\n",
    "The elements of the element-wise product is given by $A_{i,j} \\cdot B_{i,j}$, and *not* $\\sum_j A_{i,j}B_{j,k}$. This means that in general\n",
    "\n",
    "$$\\mathbf{A} \\odot \\mathbf{B} \\neq \\mathbf{A} \\mathbf{B}.$$\n",
    "\n",
    "Element-wise multiplication is only defined when the shapes of $\\mathbf{A}$ and $\\mathbf{B}$ are *equal* (or can be broadcast to be equal).\n",
    "\n",
    "Of course, in python we instead use `A * B` for element-wise multiplication and `A @ B` for matrix multiplication. Unfortunately code notation and math notation can't always agree.\n",
    "\n",
    "To make it clear the two kinds of multiplication aren't the same thing here's an example."
   ]
  },
  {
   "cell_type": "code",
   "execution_count": 22,
   "id": "22398c7b",
   "metadata": {},
   "outputs": [
    {
     "data": {
      "text/plain": [
       "array([[1, 0],\n",
       "       [0, 4]])"
      ]
     },
     "execution_count": 22,
     "metadata": {},
     "output_type": "execute_result"
    },
    {
     "data": {
      "text/plain": [
       "array([[1, 2],\n",
       "       [3, 4]])"
      ]
     },
     "execution_count": 22,
     "metadata": {},
     "output_type": "execute_result"
    }
   ],
   "source": [
    "A = np.array([[1, 2], [3, 4]])\n",
    "B = np.array([[1, 0], [0, 1]])\n",
    "A * B\n",
    "A @ B"
   ]
  },
  {
   "cell_type": "markdown",
   "id": "f896fe6a",
   "metadata": {},
   "source": [
    "### Matrix Inverses\n",
    "\n",
    "I'll finish this section by mentioning yet another important matrix we can (sometimes) get from $\\mathbf{A}$, it's inverse. If we have a square matrix $\\mathbf{A}$, its inverse is the matrix that \"undoes\" $\\mathbf{A}$, in the sense that multiplying them together gives the identity $\\mathbf{I}$. More formally, the **inverse** of a square $(n,n)$ matrix $\\mathbf{A}$ (provided it exists) is the matrix $\\mathbf{A}^{-1}$ such that\n",
    "$$\\mathbf{A}\\mathbf{A}^{-1} = \\mathbf{A}\\mathbf{A}^{-1} = \\mathbf{I}.$$\n",
    "\n",
    "Inverses need not always exist, but they do for *almost all* square matrices in some sense. Generally speaking, the inverse is good to *know* about, but you'd rarely actually want to calculate it explicitly, as it turns out to be a very inefficient and unstable thing to calculation to do. Nevertheless, if you *need* the inverse for some reason, you can usually get it by using the function `np.linalg.inv`. Here's an example."
   ]
  },
  {
   "cell_type": "code",
   "execution_count": 23,
   "id": "7782db66",
   "metadata": {},
   "outputs": [
    {
     "data": {
      "text/plain": [
       "array([[1, 2],\n",
       "       [3, 4]])"
      ]
     },
     "execution_count": 23,
     "metadata": {},
     "output_type": "execute_result"
    },
    {
     "data": {
      "text/plain": [
       "array([[-2. ,  1. ],\n",
       "       [ 1.5, -0.5]])"
      ]
     },
     "execution_count": 23,
     "metadata": {},
     "output_type": "execute_result"
    },
    {
     "data": {
      "text/plain": [
       "array([[1.0000000e+00, 0.0000000e+00],\n",
       "       [8.8817842e-16, 1.0000000e+00]])"
      ]
     },
     "execution_count": 23,
     "metadata": {},
     "output_type": "execute_result"
    }
   ],
   "source": [
    "A = np.array([[1, 2], [3, 4]]); A\n",
    "A_inv = np.linalg.inv(A); A_inv\n",
    "A @ A_inv"
   ]
  },
  {
   "cell_type": "markdown",
   "id": "031c4078",
   "metadata": {},
   "source": [
    "**Aside:** What about if $\\mathbf{A}$ is not square? Can we get an inverse out of it? In fact we can, usually. The generalization of the matrix inverse to non-square matrices is called the **pseudoinverse**, sometimes denoted by $\\mathbf{A}^+$. Pseudoinverses can sometimes be useful for certain algorithms like linear regression that involve inverting non-square data matrices to find the best choice of model weights. In numpy you can get the pseudoinverse with the function `np.linalg.pinv`."
   ]
  },
  {
   "cell_type": "markdown",
   "id": "7639b6c8",
   "metadata": {},
   "source": [
    "### Row and Column Vectors\n",
    "\n",
    "Before defining the idea of matrix-vector multiplication we first need to cover row vectors and column vectors. Row and column vectors are matrices that behave pretty much just like vectors in every meaningful way, except that they have an extra dimension that is always 1.\n",
    "\n",
    "A **row vector** $\\mathbf{x}^\\top$ is a matrix of shape $(1,n)$ written as (note the lack of commas between elements),\n",
    "$$\n",
    "\\mathbf{x}^\\top = \n",
    "\\begin{pmatrix}\n",
    "    x_0 & x_1 & x_2 & \\cdots & x_{n-1} \\\\\n",
    "\\end{pmatrix}.\n",
    "$$\n",
    "\n",
    "A **column vector** $\\mathbf{x}$ is a matrix of shape $(n,1)$ written as,\n",
    "$$\n",
    "\\mathbf{x} = \n",
    "\\begin{pmatrix}\n",
    "    x_0 \\\\ x_1 \\\\ x_2 \\\\ \\vdots \\\\ x_{n-1} \\\\\n",
    "\\end{pmatrix}.\n",
    "$$\n",
    "\n",
    "By convention, row vectors are sometimes written with the $\\top$ symbol after them to indicate that they're transposed column vectors. This rule isn't always followed though.\n",
    "\n",
    "For all practical purposes, a vector can be equally treated as a regular flat vector, a row vector, or a column vector depending on what we want to do with it. No matter how we represent it it's still the exact same vector $\\mathbf{x}$. The elements don't change. Just the shape.\n",
    "\n",
    "In numpy we can easily go back and forth between flat vectors, row vectors, and column vectors using the `reshape` and `flatten` methods.\n",
    "\n",
    "We can get a column vector out of `x` a few different ways:\n",
    "- Use `reshape`, passing in the size of `x` followed by a 1: `x.reshape(len(v), 1)`.\n",
    "- Use `reshape`, passing in a shape of `(-1, 1)`: `x.reshape(-1, 1)`. \n",
    "    - The -1 is a shorthand for \"however many elements need to go here to reshape this object\". It keeps you from having to pass a number in explicitly.\n",
    "- Use the numpy trick of adding a `None` column, which creates a dimension of size 1 in that slot: `x[:, None]`.\n",
    "\n",
    "Row vectors can be created similarly. For example, using `x.reshape(1, -1)` or `x[None, :]`. We can also get a row vector by just transposing a column vector, e.g. using `x.reshape(-1, 1).T`.\n",
    "\n",
    "If we have a row or column vector and want to go *back* to a flat vector we can just call `x.flatten()`, which collapses all elements into a single dimension.\n",
    "\n",
    "Here's an example. I'll define a flat vector `x` of size 5, and show a couple ways to create column and row vectors out of `x`, as well as how to go backwards to `x` again."
   ]
  },
  {
   "cell_type": "code",
   "execution_count": 24,
   "id": "eba1d694",
   "metadata": {},
   "outputs": [
    {
     "data": {
      "text/plain": [
       "(5,)"
      ]
     },
     "execution_count": 24,
     "metadata": {},
     "output_type": "execute_result"
    }
   ],
   "source": [
    "x = np.array([1, 2, 3, 4, 5])\n",
    "x.shape"
   ]
  },
  {
   "cell_type": "code",
   "execution_count": 25,
   "id": "1bca3111",
   "metadata": {},
   "outputs": [
    {
     "data": {
      "text/plain": [
       "(5, 1)"
      ]
     },
     "execution_count": 25,
     "metadata": {},
     "output_type": "execute_result"
    },
    {
     "data": {
      "text/plain": [
       "(5, 1)"
      ]
     },
     "execution_count": 25,
     "metadata": {},
     "output_type": "execute_result"
    },
    {
     "data": {
      "text/plain": [
       "(5, 1)"
      ]
     },
     "execution_count": 25,
     "metadata": {},
     "output_type": "execute_result"
    }
   ],
   "source": [
    "x_col = np.array([[1], [2], [3], [4], [5]]) # define a column vector from scratch\n",
    "x_col.shape\n",
    "x_col = x.reshape(-1, 1) # define a column vector using reshape\n",
    "x_col.shape\n",
    "x_col = x[:, None] # define a column vector by adding a None column\n",
    "x_col.shape "
   ]
  },
  {
   "cell_type": "code",
   "execution_count": 26,
   "id": "db152178",
   "metadata": {},
   "outputs": [
    {
     "data": {
      "text/plain": [
       "(1, 5)"
      ]
     },
     "execution_count": 26,
     "metadata": {},
     "output_type": "execute_result"
    },
    {
     "data": {
      "text/plain": [
       "(1, 5)"
      ]
     },
     "execution_count": 26,
     "metadata": {},
     "output_type": "execute_result"
    },
    {
     "data": {
      "text/plain": [
       "(1, 5)"
      ]
     },
     "execution_count": 26,
     "metadata": {},
     "output_type": "execute_result"
    },
    {
     "data": {
      "text/plain": [
       "(1, 5)"
      ]
     },
     "execution_count": 26,
     "metadata": {},
     "output_type": "execute_result"
    }
   ],
   "source": [
    "x_row = np.array([[1, 2, 3, 4, 5]]) # define a row xector from scratch\n",
    "x_row.shape\n",
    "x_row = x.reshape(1, -1) # define a row xector using reshape\n",
    "x_row.shape\n",
    "x_row = x_col.T # define a row xector by transposing a column xector\n",
    "x_row.shape\n",
    "x_col = x[None, :] # define a row xector by adding a None row\n",
    "x_col.shape"
   ]
  },
  {
   "cell_type": "code",
   "execution_count": 27,
   "id": "75212488",
   "metadata": {},
   "outputs": [
    {
     "data": {
      "text/plain": [
       "(5,)"
      ]
     },
     "execution_count": 27,
     "metadata": {},
     "output_type": "execute_result"
    },
    {
     "data": {
      "text/plain": [
       "(5,)"
      ]
     },
     "execution_count": 27,
     "metadata": {},
     "output_type": "execute_result"
    }
   ],
   "source": [
    "x_row.flatten().shape # flatten a row vector into a flat vector\n",
    "x_col.flatten().shape # flatten a column vector into a flat vector"
   ]
  },
  {
   "cell_type": "markdown",
   "id": "9b12992f",
   "metadata": {},
   "source": [
    "Notice that the notion of row and column vectors gives us yet another way to express the dot product between two vectors $\\mathbf{x}$ and $\\mathbf{y}$. Treating them as column vectors, if we transpose one of them we get a row vector. If we put the row vector on the left and matrix multiply it with the column vector on the right we just get\n",
    "$$\\mathbf{x}^\\top \\mathbf{y} = \\mathbf{y}^\\top \\mathbf{x} = \\sum_{i=1}^n x_i y_i = \\mathbf{x} \\cdot \\mathbf{y}.$$\n",
    "This means we can also write the dot product as $\\mathbf{x}^\\top \\mathbf{y}$. You'll often see this notation in the machine learning literature so it's worth knowing about.\n",
    "\n",
    "It's also fair to ask what happens if we put the row vector on the right instead and write $\\mathbf{x} \\mathbf{y}^\\top$. It's still a valid operation. But instead of a scalar we get an $(n,n)$ matrix whose elements are just $A_{i,j} = x_i y_j$. This is called the **outer product** or the **tensor product**. Outer products are special matrices in the sense that we can build any other matrix out of them by summing up a bunch of them, but I won't go into that now."
   ]
  },
  {
   "cell_type": "markdown",
   "id": "5471f6a1",
   "metadata": {},
   "source": [
    "### Linear Maps\n",
    "\n",
    "Just like vectors, matrices can of course be thought of as arrays that store data. Things that can be operated on. But on top of that idea, matrices are also useful as objects that *operate* on vectors. A matrix applied to a vector maps it to another vector, possibly of different size. This is called a linear map.\n",
    "\n",
    "Let's define matrix-vector multiplication simply as the *matrix multiplication* of a matrix with a column (or row) vector. By the rules of matrix multiplication, the output will always be another column (or row) vector.\n",
    "\n",
    "For a matrix $\\mathbf{A}$ of shape $(m,n)$ and a column vector $\\mathbf{x}$ of shape $(n,1)$, their matrix-vector product is a new vector $\\mathbf{b}$ of shape $(m,1)$ given by the matrix multiplication \n",
    "$$\\mathbf{A}\\mathbf{x} = \\mathbf{b}.$$\n",
    "\n",
    "We can also define matrix multiplication using row vectors in a similar way, except they multiply in the opposite order. If $\\mathbf{y}^\\top$ is a row vector of shape $(1,m)$, then when multiplied on the left by $\\mathbf{A}$ we get a new row vector $\\mathbf{d}^\\top$,\n",
    "$$\\mathbf{y}^\\top \\mathbf{A} = \\mathbf{d}^\\top.$$\n",
    "\n",
    "The act of matrix-vector multiplication is also called a **linear map**, since it maps a (linear) vector to another (linear) vector.\n",
    "\n",
    "In general the two vectors $\\mathbf{b}$ and $\\mathbf{d}$ won't be the same unless both of the following are true:\n",
    "- $\\mathbf{A}$ has shape $(n,n)$, that is, $\\mathbf{A}$ is **square**.\n",
    "- $\\mathbf{A}=\\mathbf{A}^\\top$, that is, $\\mathbf{A}$ is **symmetric**.\n",
    "\n",
    "Here's an example of matrix-vector multiplication. The matrix we'll use is\n",
    "$$\n",
    "\\mathbf{A} = \n",
    "\\begin{pmatrix}\n",
    "   8 & 4 \\\\\n",
    "   5 & 10 \\\\\n",
    "   6 & 3 \\\\\n",
    "\\end{pmatrix}.\n",
    "$$\n",
    "First we'll right-multiply a column vector $\\mathbf{x}=(1,1)$ and then left-multiply a row vector $\\mathbf{y}^\\top=(-1, 0, 1)$."
   ]
  },
  {
   "cell_type": "code",
   "execution_count": 28,
   "id": "3c974638",
   "metadata": {},
   "outputs": [
    {
     "data": {
      "text/plain": [
       "((1, 3), (3, 2), (2, 1))"
      ]
     },
     "execution_count": 28,
     "metadata": {},
     "output_type": "execute_result"
    }
   ],
   "source": [
    "A = np.array([[8, 4], [5, 10], [6, 3]])\n",
    "y_t = np.array([-1, 0, 1]).reshape(1, -1)\n",
    "x = np.array([1, 1]).reshape(-1, 1)\n",
    "y_t.shape, A.shape, x.shape"
   ]
  },
  {
   "cell_type": "code",
   "execution_count": 29,
   "id": "653fd571",
   "metadata": {},
   "outputs": [
    {
     "data": {
      "text/plain": [
       "(3, 1)"
      ]
     },
     "execution_count": 29,
     "metadata": {},
     "output_type": "execute_result"
    },
    {
     "data": {
      "text/plain": [
       "array([[12],\n",
       "       [15],\n",
       "       [ 9]])"
      ]
     },
     "execution_count": 29,
     "metadata": {},
     "output_type": "execute_result"
    }
   ],
   "source": [
    "b = A @ x\n",
    "b.shape\n",
    "b"
   ]
  },
  {
   "cell_type": "code",
   "execution_count": 30,
   "id": "a238bddb",
   "metadata": {},
   "outputs": [
    {
     "data": {
      "text/plain": [
       "(1, 2)"
      ]
     },
     "execution_count": 30,
     "metadata": {},
     "output_type": "execute_result"
    },
    {
     "data": {
      "text/plain": [
       "array([[-2, -1]])"
      ]
     },
     "execution_count": 30,
     "metadata": {},
     "output_type": "execute_result"
    }
   ],
   "source": [
    "d = y_t @ A\n",
    "d.shape\n",
    "d"
   ]
  },
  {
   "cell_type": "markdown",
   "id": "48df2c28",
   "metadata": {},
   "source": [
    "We can try to visualize what these linear maps are doing by plotting the input and output vectors on the same plot and seeing how they change. Of course, this only works in the special case of square matrices, and only in 2 dimensions. If $\\mathbf{A}\\mathbf{x} = \\mathbf{b}$, then clearly $\\mathbf{b}$ will only live in the same vector space as $\\mathbf{x}$ if $\\mathbf{A}$ has shape $(n,n)$.\n",
    "\n",
    "Let's pick a random matrix $\\mathbf{A}$ of size $(2,2)$ and a vector $\\mathbf{x}=(1,1)$ of size $2$ and see what happens to $\\mathbf{x}$ when multiplied by $\\mathbf{A}$. To create a random matrix I'm going to use the function `np.random.rand(2, 2)`, which will create a shape $(2,2)$ matrix of values between 0 and 1. I'll do this 5 different times. This will give 5 different random $\\mathbf{A}$, which will give 5 different $\\mathbf{b}$. Finally, I'll plot them using the same `plot_vectors` utils function from before with some minor styling applied."
   ]
  },
  {
   "cell_type": "code",
   "execution_count": 31,
   "id": "b6a78504",
   "metadata": {},
   "outputs": [
    {
     "data": {
      "image/png": "[encoded data removed]",
      "text/plain": [
       "<Figure size 400x300 with 1 Axes>"
      ]
     },
     "metadata": {},
     "output_type": "display_data"
    }
   ],
   "source": [
    "x = np.array([1, 1]).reshape(-1, 1) # create column vector x = [1, 1]\n",
    "np.random.seed(1) # need this to ensure we get the same vectors every run\n",
    "bs = []\n",
    "for i in range(5):\n",
    "    A = np.random.rand(2, 2) # generate a random (2, 2) matrix A\n",
    "    b = A @ x # the matrix-vector multiply b = Ax\n",
    "    bs.append(b)\n",
    "vectors = [x] + bs # to plot x and all the b vectors\n",
    "labels = ['$x$'] + [f'$b_{i}$' for i in range(len(bs))] # to plot the labels\n",
    "plot_vectors(vectors, xlim=(0, 1.5), ylim=(0, 1.5), labels=labels, title='Linear Map $Ax=b$ for Random $A$')"
   ]
  },
  {
   "cell_type": "markdown",
   "id": "e75da45c",
   "metadata": {},
   "source": [
    "### The Singular Value Decomposition (SVD)\n",
    "\n",
    "Observe that multiplying $\\mathbf{x}$ by $\\mathbf{A}$ can be thought of geometrically as doing 3 different things:\n",
    "1. Rescaling $\\mathbf{x}$ by some scalar in $\\mathbb{R}^n$.\n",
    "2. Rotating $\\mathbf{x}$ by some angle in $\\mathbb{R}^n$.\n",
    "3. If $\\mathbf{A}$ is not square, mapping $\\mathbf{x}$ to a new vector space $\\mathbb{R}^m$.\n",
    "\n",
    "That's really all a linear map $\\mathbf{A}\\mathbf{x}=\\mathbf{b}$ does! It rescales the input vector and rotates it, and if $\\mathbf{A}$ isn't square it also maps it into a different-sized vector space.\n",
    "\n",
    "It turns out that we can separate these 3 distinct behaviors out into 3 distinct matrices, each doing only one of these steps. The idea is to *factor* the matrix $\\mathbf{A}$ into a product of 3 different special matrices $\\mathbf{U}, \\boldsymbol{\\Sigma}, \\mathbf{V}$:\n",
    "$$\\mathbf{A} = \\mathbf{U} \\boldsymbol{\\Sigma} \\mathbf{V}^\\top.$$\n",
    "Each of these 3 special matrices do one thing for $\\mathbf{A}$:\n",
    "- $\\mathbf{V}$ rotates $\\mathbf{x}$ in its original space $\\mathbb{R}^n$.\n",
    "- $\\boldsymbol{\\Sigma}$ rescales $\\mathbf{x}$ in its original space $\\mathbb{R}^n$.\n",
    "- $\\mathbf{U}$ maps $\\mathbf{x}$ to a new space $\\mathbb{R}^m$ and rotates it again in that new space.\n",
    "\n",
    "The matrix $\\boldsymbol{\\Sigma}$ is called the **singular value matrix**, a special example of a **diagonal matrix**. Diagonal matrices are non-zero only on the main diagonal, and zero everywhere else. All they can do is scale vectors, not rotate them. The values in the singular value matrix will always be non-negative. They're called **singular values**, usually denoted $\\text{diag}(\\boldsymbol{\\Sigma}) = (\\sigma_1,\\cdots,\\sigma_n)$.\n",
    "\n",
    "The matrices $\\mathbf{U}$ and $\\mathbf{V}$ on the other hand do the opposite. They can only rotate vectors, not rescale them. These are called **orthogonal matrices**, and satisfy the special condition $$\\mathbf{U}\\mathbf{U}^\\top=\\mathbf{I}, \\quad \\mathbf{V}\\mathbf{V}^\\top=\\mathbf{I}.$$\n",
    "\n",
    "It turns out that these three matrices performed in sequence will *always* reproduce the action of the original matrix $\\mathbf{A}$. Moreover, we can do this for *any* matrix, square or not. This is a major theorem which I won't prove, perhaps the most important in applied linear algebra. \n",
    "\n",
    "The matrix factorization I just described is called the **Singular Value Decomposition** or **SVD**. We will see it again when we get to unsupervised learning (the SVD is essentially all the PCA algorithm is).\n",
    "\n",
    "We can get the SVD of a matrix in numpy by using the function `np.linalg.svd`, which returns a tuple of the three factored matrices $(\\mathbf{U}, \\boldsymbol{\\Sigma}, \\mathbf{V}^\\top)$. Here's an example. \n",
    "\n",
    "Note the function returns the singular value matrix $\\boldsymbol{\\Sigma}$ as a diagonal vector instead of the full matrix itself to save space. If we want to reconstruct $\\mathbf{A}$ we first need to get $\\boldsymbol{\\Sigma}$ back into the correct shape to matrix multiply everything. The easiest way to do this is to use the function `diagsvd` from the `scipy.linalg` module. Scipy is just an extension of numpy with a lot more functions for scientific computing."
   ]
  },
  {
   "cell_type": "code",
   "execution_count": 32,
   "id": "3d70de9d",
   "metadata": {},
   "outputs": [
    {
     "data": {
      "text/plain": [
       "((2, 2), (2,), (3, 3))"
      ]
     },
     "execution_count": 32,
     "metadata": {},
     "output_type": "execute_result"
    },
    {
     "data": {
      "text/plain": [
       "(array([[-0.3863177 , -0.92236578],\n",
       "        [-0.92236578,  0.3863177 ]]),\n",
       " array([9.508032  , 0.77286964]),\n",
       " array([[-0.42866713, -0.56630692, -0.7039467 ],\n",
       "        [ 0.80596391,  0.11238241, -0.58119908],\n",
       "        [ 0.40824829, -0.81649658,  0.40824829]]))"
      ]
     },
     "execution_count": 32,
     "metadata": {},
     "output_type": "execute_result"
    }
   ],
   "source": [
    "A = np.array([[1, 2, 3], [4, 5, 6]])\n",
    "U, Sigma, Vt = np.linalg.svd(A)\n",
    "U.shape, Sigma.shape, Vt.shape\n",
    "U, Sigma, Vt"
   ]
  },
  {
   "cell_type": "code",
   "execution_count": 33,
   "id": "399ce6f5",
   "metadata": {},
   "outputs": [
    {
     "data": {
      "text/plain": [
       "array([[1., 2., 3.],\n",
       "       [4., 5., 6.]])"
      ]
     },
     "execution_count": 33,
     "metadata": {},
     "output_type": "execute_result"
    }
   ],
   "source": [
    "from scipy.linalg import diagsvd\n",
    "\n",
    "Sigma_reshaped = diagsvd(Sigma,*A.shape)\n",
    "\n",
    "U @ Sigma_reshaped @ Vt"
   ]
  },
  {
   "cell_type": "markdown",
   "id": "3ec47d94",
   "metadata": {},
   "source": [
    "**Aside:** One useful application of the SVD is its use in telling us how \"numerically friendly\" a matrix is by using a measure called the condition number. For a matrix $\\mathbf{A}$, define its **condition number** $\\kappa(\\mathbf{A})$ as the ratio of its max and min singular values,\n",
    "$$\\kappa(\\mathbf{A}) = \\frac{\\sigma_{max}}{\\sigma_{min}}.$$\n",
    "The larger the condition number is, the more sensitive the operation $\\mathbf{A}\\mathbf{x}=\\mathbf{b}$ will be to even the smallest error in $\\mathbf{x}$. Matrices with high condition numbers are called **ill-conditioned**. Ill-conditioned matrices stretch vectors *too much*, which can lead to issues with numerical instability. As a very rough rule of thumb, think of $\\kappa(\\mathbf{A}) \\sim 10^{15}$ as a threshold for $\\mathbf{A}$ to be ill-conditioned. This threshold translates into a loss of about 15 digits of precision in the $\\mathbf{A}\\mathbf{x}=\\mathbf{b}$ calculation.\n",
    "\n",
    "Ill-conditioning is one reason why computing matrix inverses explicitly is frowned upon. For ill-conditioned matrices, calling functions like `np.inv(A)` can cause a large loss of precision, meaning you can't trust its calculation of the inverse.\n",
    "\n",
    "You can calculate the condition number of a matrix in numpy using `np.linalg.cond(A)`. Here's the condition number for the above matrix `A`, which seems to be solidly well-conditioned."
   ]
  },
  {
   "cell_type": "code",
   "execution_count": 34,
   "id": "56b8403a",
   "metadata": {},
   "outputs": [
    {
     "data": {
      "text/plain": [
       "12.302245504069207"
      ]
     },
     "execution_count": 34,
     "metadata": {},
     "output_type": "execute_result"
    }
   ],
   "source": [
    "np.linalg.cond(A)"
   ]
  },
  {
   "cell_type": "markdown",
   "id": "5d1535f6",
   "metadata": {},
   "source": [
    "### Matrix-Vector Equations [Optional]\n",
    "\n",
    "Just like we can have ordinary equations of scalar variables like $ax^2=x^2$, we can also have equations involving matrices and vectors. Solving these is more or less the same as solving regular algebraic equations except with some notable differences:\n",
    "- Matrix multiplication doesn't commute, $\\mathbf{A}\\mathbf{B} \\neq \\mathbf{B}\\mathbf{A}$.\n",
    "- Instead of dividing $\\mathbf{A}$ by $\\mathbf{B}$, multiply $\\mathbf{A}$ on the left or right by $\\mathbf{B}^{-1}$.\n",
    "- No dividing by vectors is allowed, only addition and scalar or matrix multiplication.\n",
    "- The identity matrix $\\mathbf{I}$ matrix multiplying anything is equivalent to multiplying by 1, hence we can insert or remove it anywhere at will.\n",
    "\n",
    "Here's an example of solving a matrix-vector equation. It's a famous problem called **least squares**. Let's look at the equation\n",
    "$$\\mathbf{A}\\mathbf{x} = \\mathbf{b},$$ \n",
    "where $\\mathbf{b} \\in \\mathbb{R}^m, \\mathbf{x} \\in \\mathbb{R}^n$ are vectors of different sizes, and $\\mathbf{A} \\in \\mathbb{R}^{m \\times n}$ is some non-square matrix. \n",
    "\n",
    "We want to solve this equation for the vector $\\mathbf{x}$. How would we do it? We'd *like* to be able to just invert the matrix $\\mathbf{A}$ and multiply on the both sides of the equation from the left with it like this,\n",
    "$$\\mathbf{A}^{-1} \\mathbf{b} = \\mathbf{A}^{-1}\\mathbf{A}\\mathbf{x} = \\mathbf{I}\\mathbf{x} = \\mathbf{x}.$$\n",
    "This would give $\\mathbf{x}$, but unfortunately we can't do this. Since $\\mathbf{A}$ isn't a square matrix, we can't just invert it. So what can we do? Here's a trick, akin to taking the pseudo-inverse. Let's instead multiply both sides on the left by $\\mathbf{A}^\\top$,\n",
    "$$\\mathbf{A}^\\top \\mathbf{b} = \\mathbf{A}^\\top \\mathbf{A}\\mathbf{x}.$$\n",
    "This equation is called the **normal equation**. What did we achieve here? It turns out that we just turned a non-square matrix $\\mathbf{A}$ of shape $(m,n)$ into a square matrix $\\mathbf{A}^{\\top}\\mathbf{A}$ of shape $(n,n)$. And, since this new matrix is square, we can (usually) invert it and solve for $\\mathbf{x}$,\n",
    "\n",
    "\\begin{align}\n",
    "\\mathbf{A}^{\\top} \\mathbf{b} &= \\mathbf{A}^{\\top}\\mathbf{A}\\mathbf{x} \\\\\n",
    "\\big( \\mathbf{A}^{\\top}\\mathbf{A} \\big)^{-1} \\mathbf{A}^{\\top} \\mathbf{b} &= \\big( \\mathbf{A}^{\\top}\\mathbf{A} \\big)^{-1} \\mathbf{A}^{\\top}\\mathbf{A} \\mathbf{x} \\\\\n",
    "\\big( \\mathbf{A}^{\\top}\\mathbf{A} \\big)^{-1} \\mathbf{A}^{\\top} \\mathbf{b} &= \\mathbf{I}\\mathbf{x} \\\\\n",
    "\\big( \\mathbf{A}^{\\top}\\mathbf{A} \\big)^{-1} \\mathbf{A}^{\\top} \\mathbf{b} &= \\mathbf{x}. \\\\\n",
    "\\end{align}\n",
    "\n",
    "\n",
    "As contrived as this example sounds, it actually shows up in machine learning and statistics. It's one method to solve for the parameters of a linear regression model given some training data. Here, the parameters are wrapped in the vector $\\mathbf{x}$, the input data in the matrix $\\mathbf{A}$, and the output targets in the vector $\\mathbf{b}$.\n",
    "\n",
    "**Note:** You wouldn't *actually* want to do this computation on a computer to find $\\mathbf{x}$, since taking the inverse $( \\mathbf{A}^{\\top}\\mathbf{A} )^{-1}$ numerically is a bad idea. A better option would be using a function like `np.linalg.solve` directly on the expression $\\mathbf{A}^{\\top} \\mathbf{b} = \\mathbf{A}^{\\top}\\mathbf{A}\\mathbf{x}$.\n",
    "\n",
    "This kind of algebraic manipulation is good to at least be vaguely familiar with, mainly for deriving some machine learning algorithms. However, it's not absolutely *essential* for machine learning purposes that you be good at this stuff."
   ]
  },
  {
   "cell_type": "markdown",
   "id": "d058ba7e",
   "metadata": {},
   "source": [
    "## Tensors\n",
    "\n",
    "Just as we considered rank-1 arrays (vectors) and rank-2 arrays (matrices), we can also consider rank-3 arrays, rank-4 arrays, etc. These more general-rank arrays are called **tensors**. As an example, a rank-3 tensor $\\textbf{T}$ is an array of shape $(n,m,p)$. Its elements are represented using 3 indices $T_{i,j,k}$. A rank-3 tensor will have $n \\cdot m \\cdot p$ total elements. \n",
    "\n",
    "Just as vectors are objects that live in a *vector space*, tensors are objects that live in a **tensor space**. An $(n,m,p)$ tensor $\\textbf{T}$ would live in the tensor space $\\mathbb{R}^{m \\times n \\times p}$, i.e. $\\textbf{T} \\in \\mathbb{R}^{m \\times n \\times p}$. Tensor spaces are pretty much just like vector spaces, but allow for more general shape and rank.\n",
    "\n",
    "Here's an example of a rank-3 tensor of all ones with shape $(2, 3, 2)$. We can quickly define such an array in numpy by using `np.ones` and passing in the shape of array we want to generate. Notice how the output essentially looks like 2 matrices of shape $(3,2)$ stacked on top of each other. Those 2 stackings are what the extra dimension gives you."
   ]
  },
  {
   "cell_type": "code",
   "execution_count": 35,
   "id": "62762055",
   "metadata": {},
   "outputs": [
    {
     "data": {
      "text/plain": [
       "(2, 3, 2)"
      ]
     },
     "execution_count": 35,
     "metadata": {},
     "output_type": "execute_result"
    },
    {
     "data": {
      "text/plain": [
       "array([[[1., 1.],\n",
       "        [1., 1.],\n",
       "        [1., 1.]],\n",
       "\n",
       "       [[1., 1.],\n",
       "        [1., 1.],\n",
       "        [1., 1.]]])"
      ]
     },
     "execution_count": 35,
     "metadata": {},
     "output_type": "execute_result"
    }
   ],
   "source": [
    "T = np.ones((2, 3, 2))\n",
    "T.shape\n",
    "T"
   ]
  },
  {
   "cell_type": "markdown",
   "id": "045e10a6",
   "metadata": {},
   "source": [
    "Indexing into tensors is done just like with matrices, except we have extra dimensions."
   ]
  },
  {
   "cell_type": "code",
   "execution_count": 36,
   "id": "00c46ac6",
   "metadata": {},
   "outputs": [
    {
     "data": {
      "text/plain": [
       "1.0"
      ]
     },
     "execution_count": 36,
     "metadata": {},
     "output_type": "execute_result"
    },
    {
     "data": {
      "text/plain": [
       "1.0"
      ]
     },
     "execution_count": 36,
     "metadata": {},
     "output_type": "execute_result"
    },
    {
     "data": {
      "text/plain": [
       "array([1., 1.])"
      ]
     },
     "execution_count": 36,
     "metadata": {},
     "output_type": "execute_result"
    }
   ],
   "source": [
    "T[0, 0, 0]\n",
    "T[-1, -1, -1]\n",
    "T[:, 0, 0]"
   ]
  },
  {
   "cell_type": "markdown",
   "id": "a32af086",
   "metadata": {},
   "source": [
    "Just like other arrays, tensors can have element-wise operations done on them. For example, if we have two rank-3 tensors $\\textbf{T}$ and $\\textbf{S}$ of the same shape we can add them together to get a new rank-3 tensor $\\textbf{T} + \\textbf{S}$. The same holds true for any other element-wise operation we've seen."
   ]
  },
  {
   "cell_type": "code",
   "execution_count": 37,
   "id": "138ac25a",
   "metadata": {},
   "outputs": [
    {
     "data": {
      "text/plain": [
       "array([[[2., 2.],\n",
       "        [2., 2.],\n",
       "        [2., 2.]],\n",
       "\n",
       "       [[2., 2.],\n",
       "        [2., 2.],\n",
       "        [2., 2.]]])"
      ]
     },
     "execution_count": 37,
     "metadata": {},
     "output_type": "execute_result"
    }
   ],
   "source": [
    "T = np.ones((2, 3, 2))\n",
    "S = np.ones((2, 3, 2))\n",
    "T + S"
   ]
  },
  {
   "cell_type": "markdown",
   "id": "273f606d",
   "metadata": {},
   "source": [
    "**Aside:** On top of element-wise operations, tensors have special forms of multiplication that are akin to the inner (dot) product $\\mathbf{x}^\\top \\mathbf{x}$ or outer product $\\mathbf{x} \\mathbf{y}^\\top$ of two vectors. The generalization of the inner product is called **tensor contraction**. Tensor contraction is a way of reducing a tensor's rank by setting two of its indices equal to each other and summing over them. The generalization of the outer product is called the **tensor product**. The tensor product essentially just concatenates the elements of two tensors together to give a higher-rank tensor. Though these products have interesting properties and show a lot about the nature of tensors, I don't see any real point in going into any depth into them in this book.\n",
    "\n",
    "Tensors can be thought of in many different ways depending on the application, but for now, just think of them as different-shaped arrays for storing data. For example, we can store color (RGB) images using a rank-3 tensor. We can also store a corpus of text as a rank-3 tensor, as well as a clip of multi-channel audio. We can store video using a rank-4 tensor. Etc. We'll come back to these more general objects in a future lesson when we get to deep learning, where we'll use generally use pytorch instead of numpy to work with these objects."
   ]
  }
 ],
 "metadata": {
  "kernelspec": {
   "display_name": "Python 3 (ipykernel)",
   "language": "python",
   "name": "python3"
  },
  "language_info": {
   "codemirror_mode": {
    "name": "ipython",
    "version": 3
   },
   "file_extension": ".py",
   "mimetype": "text/x-python",
   "name": "python",
   "nbconvert_exporter": "python",
   "pygments_lexer": "ipython3",
   "version": "3.10.4"
  },
  "toc": {
   "base_numbering": 1,
   "nav_menu": {},
   "number_sections": true,
   "sideBar": true,
   "skip_h1_title": false,
   "title_cell": "Table of Contents",
   "title_sidebar": "Contents",
   "toc_cell": false,
   "toc_position": {},
   "toc_section_display": true,
   "toc_window_display": false
  }
 },
 "nbformat": 4,
 "nbformat_minor": 5
}
