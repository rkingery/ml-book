{
 "cells": [
  {
   "cell_type": "markdown",
   "id": "0fcae3f4",
   "metadata": {},
   "source": [
    "# Math for ML: Calculus and Optimization\n",
    "\n",
    "In this part of the series on math for machine learning I'll focus just on the basic calculus needed to understand machine learning algorithms.\n",
    "\n",
    "Calculus is essentially the study of the continuum. Important things that calculus seeks to understand are:\n",
    "- Infinitesimals: How to manipulate numbers that are \"infinitely\" small or large.\n",
    "- Limits: What happens when numbers get arbitrarily close to each other.\n",
    "- Differentiation: How one variable changes continuously in response to one or more other variables. \n",
    "- Integration: How to add up infinitely many numbers to get a finite number, e.g. to calculate areas and volumes of things.\n",
    "\n",
    "Be advised that a lot of this lesson will be marked with terms like \"aside\" or \"optional\", and I'll frequently say \"you don't actually need to know the details of this, just the concepts of it\". It turns out relatively little calculus is actually needed to do machine learning. In fact, if you abstract away the ideas of probability distributions and neural network backpropagation, you don't *really* need to know any calculus at all. This section is most useful if you want to develop a deeper understanding of how the algorithms work, not just use them."
   ]
  },
  {
   "cell_type": "markdown",
   "id": "7b3c827e",
   "metadata": {},
   "source": [
    "## Infinitesimals\n",
    "\n",
    "Fundamental to the understanding of calculus is the idea of an \"infinitely small\" number. A number that's not 0 but so close to being 0 that you can't really tell it isn't 0. These small numbers are often written in math with letters like $\\varepsilon$ or $\\delta$. Think of them as *very very* tiny numbers, so tiny their square is basically 0:\n",
    "$$\\varepsilon > 0, \\quad \\varepsilon^2 \\approx 0.$$\n",
    "\n",
    "But what does this even mean? Here it might be helpful to recall our discussion of floating point numbers. Recall that we can't get infinite precision. In double precision, we only have 11 bits for an exponent and 52 bits for the mantissa. If we pick a number that uses 11 bits of binary exponent (a really small number), then if we square it its exponent would require more than 11 bits to represent, so it *literally* would have a square of zero as far as the computer is concerned.\n",
    "\n",
    "Just for fun let's look at the *really* tiny number $10^{-200}$, or `1e-200`. That's 200 decimal places of zeros before the 1 even shows up. Python thinks `1e-200` is just fine. But what happens if we square it? We should in theory get $10^{-400}$, or 400 decimal places of zeros followed by a 1. But as far as floating point is concerned, the square is zero!"
   ]
  },
  {
   "cell_type": "code",
   "execution_count": 15,
   "id": "ad33707c",
   "metadata": {},
   "outputs": [
    {
     "data": {
      "text/plain": [
       "(1e-200, 0.0)"
      ]
     },
     "execution_count": 15,
     "metadata": {},
     "output_type": "execute_result"
    }
   ],
   "source": [
    "epsilon = 1e-200\n",
    "epsilon, epsilon ** 2"
   ]
  },
  {
   "cell_type": "markdown",
   "id": "e69f1da2",
   "metadata": {},
   "source": [
    "Of course, you could argue that we could just go to a higher precision then. Use more bits. But eventually, if we keep making `epsilon` small enough we'll hit a point where `epsilon ** 2 = 0.0`. Thus, if it makes you feel better, when you see an infinitesimal just think \"$10^{-200}$ or `1e-200` in double precision\".\n",
    "\n",
    "In practice, when using infinitesimals on a computer we're more likely to use an `epsilon` like `1e-3` or `1e-5`. Yes, in those cases their square is non-zero, but they turn out to be much more numerical friendly to work with. Remember the whole weirdness involved with numerical roundoff when doing floating point arithmetic. While a larger number like `1e-5` will leave an error in the calculation, it's much nicer to add or multiply with another float than say `1e-300`. We have other ways of dealing with the errors arising from the fact that these numbers aren't small enough.\n",
    "\n",
    "Infinitesimals are especially interesting when added to regular numbers. For example, consider some number $x$. It could be 2 or -100 or whatever you want. Suppose now we add to it an infinitesimal number $\\varepsilon$. What's the square of this new number? We'd have\n",
    "$$(x + \\varepsilon)^2 = x^2 + 2x\\varepsilon + \\varepsilon^2.$$\n",
    "But since $\\varepsilon^2 \\approx 0$,\n",
    "$$(x + \\varepsilon)^2 \\approx x^2 + 2x\\varepsilon.$$\n",
    "\n",
    "Okay, but what does this mean? Well, I can reformulate the question as follows: \"If I change $x$ by a little bit, how much does the function $y=x^2$ change\"? If $x$ is nudged to a value close by of $x+\\varepsilon$, then $y$ necessarily gets nudged to a new value $(x+\\varepsilon)^2$. \n",
    "\n",
    "So how much does $y$ change? Evidently it's just\n",
    "$$(x+\\varepsilon)^2 - x^2 \\approx 2x\\varepsilon.$$\n",
    "That is, if we change $x$ by a small amount $\\varepsilon$, then $y$ itself changes by an amount $2x\\varepsilon$. Interestingly, how much $y$ changes actually depends on which $x$ we pick. If $x=1$ then $y$ changes by $2\\varepsilon$, just twice how much $x$ is nudged. If $x=1000$ though, then $y$ changes by $2000\\varepsilon$, a much bigger change.\n",
    "\n",
    "**Aside:** Pick some value $x=x_0$, say $x=2$. Observe that by setting $\\varepsilon=0$ directly in the above calculation gives the result $f(x_0)=x_0^2$. That is, it essentially just evaluates the function at $x_0^2$. This idea of setting $\\varepsilon=0$ is called taking the **limit**. You can imagine the idea of making $\\varepsilon$ smaller and smaller and smaller until you get the exact value of $f(x_0)=x_0^2$ at $x_0$. For technical reasons, when people do this they write\n",
    "$$\\lim_{x \\rightarrow x_0} f(x) = f(x_0),$$\n",
    "and say \"the limit of $f(x)$ as $x$ approaches $x_0$ is $f(x_0)$\". In my experience, limits don't really tend to show up in machine learning, so you really don't need to know this. Just for your own edification."
   ]
  },
  {
   "cell_type": "markdown",
   "id": "615a26e1",
   "metadata": {},
   "source": [
    "## Differentiation\n",
    "\n",
    "When talking about things like \"if we change $x$ a little bit, how much does $y$ change\", we typically use a special notation to make it clear what is a small change of what. Instead of writing $\\varepsilon$ we just write $dx$ to indicate \"a little bit of $x$\". For \"a little bit of $y$\" we'd write $dy$. Note that both $dx$ and $dy$ are always infinitesimals, but their *ratio* is not as we'll see in a second. When using this $d$ notation, the values $dx$ and $dy$ are sometimes called **differentials**.\n",
    "\n",
    "In this notation, we'd say \"if $x$ changes to $x+dx$, then $y$ changes to $y+dy$\". The small change we're solving for is then just $dy$, the amount $y$ changes if $x$ is changed by $dx$:\n",
    "$$y + dy = f(x+dx) = (x + dx)^2 = x^2 + 2xdx + dx^2 \\approx 2xdx.$$\n",
    "So $dy \\approx 2xdx$, or (re-writing just because I can),\n",
    "$$\\frac{dy}{dx} = 2x.$$\n",
    "\n",
    "This ratio of differentials $\\frac{dy}{dx}$ is called the **derivative** of the function $y=x^2$. The act of taking a derivative is called **differentiation**. Notice there's no infinitesimal ($dy$ or $dx$) on the right-hand side, hence the derivative is not a small number. In fact it's on the scale of $x$ in this case.\n",
    "\n",
    "Let's try to calculate this derivative for a specific value of $x$, say $x=1$, by taking the smaller and smaller values of $dx$ and seeing what the results look like. To do this, I'll define a loop over some values of $dx$ and see what the predicted derivative is. The exact answer at $x=1$ should be $\\frac{dy}{dx}\\big |_{x=1}=2(1)=2$. Read this as \"the derivative of $y$ with respect to $x$ evaluated at $x=1$ is $2$\". I'll also print out the error, which is the predicted value $2$ minus the calculated value. Smaller error is better, obviously."
   ]
  },
  {
   "cell_type": "code",
   "execution_count": 14,
   "id": "b2a320a7",
   "metadata": {},
   "outputs": [
    {
     "name": "stdout",
     "output_type": "stream",
     "text": [
      "dx =   1.0000 \t dydx = 3.000000 \t error = 1.000000\n",
      "dx =   0.1000 \t dydx = 2.100000 \t error = 0.100000\n",
      "dx =   0.0100 \t dydx = 2.010000 \t error = 0.010000\n",
      "dx =   0.0010 \t dydx = 2.001000 \t error = 0.001000\n",
      "dx =   0.0001 \t dydx = 2.000100 \t error = 0.000100\n"
     ]
    }
   ],
   "source": [
    "f = lambda x: x ** 2 # the function we want to differentiate\n",
    "x0 = 1 # the value of x to calculate the derivative at\n",
    "dydx_exact = 2 * x0 # the exact value of the derivative (if you have it)\n",
    "for dx in [1, 0.1, 0.01, 0.001, 0.0001]:\n",
    "    dydx1 = (f(x0 + dx) - f(x0)) / dx\n",
    "    error = dydx1 - dydx_exact\n",
    "    print(f'dx = {dx:8.4f} \\t dydx = {dydx1:4f} \\t error = {error:4f}')"
   ]
  },
  {
   "cell_type": "markdown",
   "id": "62d67a4f",
   "metadata": {},
   "source": [
    "Starting with `dx=1` is a bad choice with a huge error of `1.0`. We're way off. Shrinking to `dx=0.1` puts us in the ball park with a value `dydx = 2.1`. You can see that making `dx` successively smaller and smaller makes the error successively smaller, in this case by a factor of 10 each time. This is essentially how derivatives are calculated on a computer. We choose a small value of `dx` and just apply the formula above, with some minor tweaks to get better accuracy in fewer steps. Feel free to play with different functions and values to get a feel for it.\n",
    "\n",
    "**Aside:** What happens above if you pick a `dx` value that's really small, say our infinitesimal value of $10^{-200}$. Try it out. This is why in practice it's good to pick larger values for `dx` when actually calculating these derivatives on a computer (called *numerical differentiation*).\n",
    "\n",
    "We can talk about any function $f(x)$ having a derivative like this (provided it's reasonably well behaved). If $y=f(x)$ and we nudge $x$ to a close by value $x+dx$, then $y$ gets nudged by $y+dy=f(x+dx)$. The amount $y=f(x)$ changes *per amount* $dx$ is then the derivative\n",
    "$$\\frac{dy}{dx} = \\frac{f(x+dx)-f(x)}{dx}.$$\n",
    "Note this definition is only exact when $dx$ is infinitesimal. For finite values of $dx$ like what we'd code up on a computer this equality is only approximately true.\n",
    "\n",
    "The derivative has an interesting and useful geometric interpretation as the **slope** of the curve $y=f(x)$ at the point $x$. To see this, imagine a right triangle with length $dx$ and height $dy$. The slope of its hypotenuse is just the rise over over the run, i.e. the ratio $\\frac{dy}{dx}$. Since $dy$ is a function of $x$, the shape of the triangle will change for each $x$, hence so will the slope.\n",
    "\n",
    "Conceptually, the derivative captures the rate at which changing an input changes the output. If the derivative is small, changing the input doesn't change the output much. If it's high, changing the input a little will change the output a lot. A positive derivative will make the output larger if the input increases. A negative derivative will make the output smaller if the input increases. If the derivative is zero, the output won't respond at all to changes in the input.\n",
    "\n",
    "Here's an example to help you visualize what derivatives are. I'll plot the function $y=x^2$ and its *tangent* at a point $x_0=2$ on the x-axis. The corresponding $y$ value at $x_0$ is just $y_0=x_0^2=4$. The tangent is then the line of slope $\\frac{dy}{dx}$ centered at the point of interest $(x_0,y_0)$, i.e. the line given by\n",
    "$$y = y_0 + \\frac{dy}{dx}\\bigg|_{x=x_0}(x - x_0).$$\n",
    "The notation with the vertical line with $x=x_0$ at the bottom is just a way of saying \"pick out the value of the derivative specifically when $x=x_0$\". Again, pay no attention yet to the plot function, as we'll cover that stuff more later. The tangent line calculation in the code below is \n",
    "```\n",
    "y_tangent = y0 + dydx0 * (x - x0).\n",
    "```\n",
    "\n",
    "Feel free to adjust the value of `x0` though and observe how the slope changes with the value you pick. In all cases, the line should hug the curve of the function and stay tangent to it. If you're used to numpy already you can play around with the function itself as well by changing the line `y = x ** 2` to any other function you want."
   ]
  },
  {
   "cell_type": "code",
   "execution_count": 2,
   "id": "a3c2d8c2",
   "metadata": {},
   "outputs": [],
   "source": [
    "import numpy as np\n",
    "import matplotlib.pyplot as plt\n",
    "from utils import *"
   ]
  },
  {
   "cell_type": "code",
   "execution_count": 3,
   "id": "229f6909",
   "metadata": {},
   "outputs": [
    {
     "data": {
      "image/png": "[encoded data removed]",
      "text/plain": [
       "<Figure size 400x300 with 1 Axes>"
      ]
     },
     "metadata": {},
     "output_type": "display_data"
    }
   ],
   "source": [
    "x0 = 2 # the point we want the tangent at\n",
    "\n",
    "x = np.arange(-10, 10, 0.1)\n",
    "y = x ** 2\n",
    "\n",
    "dx = 1e-5\n",
    "x_nudged = x + dx\n",
    "y_nudged = x_nudged ** 2\n",
    "dy = y_nudged - y\n",
    "\n",
    "idx_x_eq_x0 = np.where(np.abs(x - x0) < dx)[0].item()\n",
    "y0, dydx0 = y[idx_x_eq_x0], (dy / dx)[idx_x_eq_x0].flatten()\n",
    "\n",
    "y_tangent = y0 + dydx0 * (x - x0)\n",
    "\n",
    "plot_function(x, (y, y_tangent), (-5, 5), (0, 10), title=f'Tangent of $y=x^2$ at $x={x0}$')"
   ]
  },
  {
   "cell_type": "markdown",
   "id": "87baf604",
   "metadata": {},
   "source": [
    "Derivatives obey several laws that you can easily derive from our infinitesimal definition above. For example, here's a derivation of the additive law of derivatives, which states that if $u=g(x)$ and $v=h(x)$ are two different functions, then the derivative of their *sum* $y = f(x) = g(x)+h(x)$ is the sum of their individual derivatives:\n",
    "$$\\frac{d(u+v)}{dx} = \\frac{du}{dx} + \\frac{dv}{dx}.$$\n",
    "\n",
    "Let $y=u+v$. Using the rule $y + dy = f(x+dx)$, we have\n",
    "$$\n",
    "\\begin{align}\n",
    "dy &= f(x+dx)-f(x) \\\\\n",
    "&= \\big(g(x+dx)+h(x+dx)\\big)-\\big(g(x)+h(x)\\big) \\\\\n",
    "&= \\big(g(x+dx)-g(x)\\big)+\\big(h(x+dx)-h(x)\\big) \\\\\n",
    "&= du + dv.\n",
    "\\end{align}\n",
    "$$\n",
    "Dividing both sides through by $dx$ gives the additive law for derivatives. Q.E.D.\n",
    "\n",
    "Here are some other laws. For machine learning you don't really need to memorize any of these except *maybe* the chain rule, which is the backbone of the backpropagation algorithm we'll see later. To save space I'll state them in differential form, i.e. not dividing through by $dx$.\n",
    "\n",
    "Derivative Laws:\n",
    "- Additive Rule: $d(u + v) = du + dv$ for any two functions $u=f(x)$ and $v=g(x)$,\n",
    "- Constant Rule: $d(cy) = c dy$ for any constant $c$,\n",
    "- Product Rule: $d(uv)=udv + vdu$ for any two functions $u=f(x)$ and $v=g(x)$,\n",
    "- Quotient Rule: $v^2 d(\\frac{u}{v}) = vdu-udv$ for any two functions $u=f(x)$ and $v=g(x)$,\n",
    "- Chain Rule: $dy = \\frac{dy}{dz} dz$ for any compositional function $y=f(z)$ and $z=g(x)$, i.e. $y=f(g(x))$.\n",
    "\n",
    "**Begin Optional Content**\n",
    "\n",
    "For the sake of completeness I'll list the derivatives of a few common classes of functions as well. You don't need to memorize these either. I'll again write them in differential form to save space. It's completely equivalent.\n",
    "\n",
    "Common Derivatives:\n",
    "- $d(c) = 0$ for any constant $c$,\n",
    "- $d(x^n) = nx^{n-1}dx$ for any real number $n \\neq 0$\n",
    "- $d(e^x) = e^xdx$,\n",
    "- $d(\\log(x)) = \\frac{1}{x}dx$,\n",
    "- $d(\\sin(x)) = \\cos(x)dx$,\n",
    "- $d(\\cos(x)) = -\\sin(x)dx$,\n",
    "- $d(\\text{sigmoid}(x)) = \\text{sigmoid}(x)\\big(1-\\text{sigmoid}(x)\\big)dx$,\n",
    "- $d(\\tanh(x)) = \\big(1 - \\tanh^2(x)\\big)dx$.\n",
    "\n",
    "**Aside:** Annoyingly there are many different notations for the derivative. I find the ratio of differentials notation the most intuitive since it tells you exactly what it is. Other notations for the derivative of a function $y=f(x)$ are $f'(x)$, $y'$, $\\dot y$, $\\nabla y$, and $D f(x)$. I'll try to avoid these in this book for the most part.\n",
    "\n",
    "**Tangent:** One of my favorite tools for calculating derivatives symbolically is [WolframAlpha](https://www.wolframalpha.com/). You can just type what you want to take the derivative of in more or less natural language and it'll usually figure out what you mean and instantly give you the right answer. It's usually easier to go to their website and type your query in the search bar. But it turns out you can use WolframAlpha as an API too. This neat trick lets me show a couple of examples without having to leave the notebook. Note that WolframAlpha can do *far* more than just calculate derivatives. See their documentation for more info.\n",
    "\n",
    "Here are the derivatives of a couple of functions I typed in.\n",
    "\n",
    "**Note:** If you want to play with WolframAlpha it's probably easier to just go to their webpage via the above link. If you want to keep things in the notebook too you'll need to create an account and register for a free API key [here](https://products.wolframalpha.com/api). You'll also need to `pip install wolframalpha` in your environment and be connected to the internet."
   ]
  },
  {
   "cell_type": "code",
   "execution_count": 4,
   "id": "e6c55870",
   "metadata": {},
   "outputs": [
    {
     "data": {
      "text/plain": [
       "'d/dx(e^x + x^2 - log(x)) = 2 x + e^x - 1/x'"
      ]
     },
     "execution_count": 4,
     "metadata": {},
     "output_type": "execute_result"
    }
   ],
   "source": [
    "query_wolfram_alpha('d/dx e^x + x^2 - log(x)')"
   ]
  },
  {
   "cell_type": "code",
   "execution_count": 5,
   "id": "2abf5db0",
   "metadata": {},
   "outputs": [
    {
     "data": {
      "text/plain": [
       "'d/dx((x^5 - 5 sin(x))/(e^x + log(x))) = (5 (e^x + log(x)) (x^4 - cos(x)) - (e^x + 1/x) (x^5 - 5 sin(x)))/(e^x + log(x))^2'"
      ]
     },
     "execution_count": 5,
     "metadata": {},
     "output_type": "execute_result"
    }
   ],
   "source": [
    "query_wolfram_alpha('d/dx (x^5 - 5*sin(x)) / (e^x + log(x))')"
   ]
  },
  {
   "cell_type": "markdown",
   "id": "fd5049ae",
   "metadata": {},
   "source": [
    "Note that you don't need to memorize any of these rules in practice. It's more important to have a conceptual understanding of them than a rigorous understanding. A couple reasons for this.\n",
    "- Modern day ML uses a trick called autodifferentiation to get around having to actually calculate derivatives. \n",
    "- There are tools that will automatically calculate derivatives for you when you need them. \n",
    "\n",
    "**End Optional Content**"
   ]
  },
  {
   "cell_type": "markdown",
   "id": "6726db0d",
   "metadata": {},
   "source": [
    "## Integration\n",
    "\n",
    "The other half of calculus is essentially about summing up small things to get big things. By small things of course we again mean infinitesimals. Suppose we have a bunch of infinitesimals $\\varepsilon_1, \\varepsilon_2, \\cdots, \\varepsilon_n$. Like any other number we can add them together to get a new infinitesimal\n",
    "$$\\varepsilon = \\varepsilon_1 + \\varepsilon_2 + \\cdots + \\varepsilon_n.$$\n",
    "\n",
    "Take $\\varepsilon=10^{-200}$ for example. We showed that as far as a computer is concerned $\\varepsilon^2=0$. But what happens if we instead start adding up a bunch of $\\varepsilon$? Suppose we add up $\\varepsilon$ $N$ times. If $N$ is any reasonably sized finite number, a number like $N=1000$, $\\varepsilon$ will still be infinitesimal. But what about if we make $N$ *huge*, infinite for practical purposes, say $N=10^{200}$? Then we just get $N\\varepsilon=1$, a finite number."
   ]
  },
  {
   "cell_type": "code",
   "execution_count": 1,
   "id": "1059c879",
   "metadata": {},
   "outputs": [
    {
     "data": {
      "text/plain": [
       "(1e-197, 0.0)"
      ]
     },
     "execution_count": 1,
     "metadata": {},
     "output_type": "execute_result"
    }
   ],
   "source": [
    "epsilon = 1e-200\n",
    "N = 1000\n",
    "N * epsilon, (N * epsilon) ** 2"
   ]
  },
  {
   "cell_type": "code",
   "execution_count": 2,
   "id": "345715d9",
   "metadata": {},
   "outputs": [
    {
     "data": {
      "text/plain": [
       "(1.0, 1.0)"
      ]
     },
     "execution_count": 2,
     "metadata": {},
     "output_type": "execute_result"
    }
   ],
   "source": [
    "epsilon = 1e-200\n",
    "N = 1e200\n",
    "N * epsilon, (N * epsilon) ** 2"
   ]
  },
  {
   "cell_type": "markdown",
   "id": "c8f0b4fe",
   "metadata": {},
   "source": [
    "If we add up only a *finite* number of infinitesimals we'll again get an infinitesimal, so in the case above $\\varepsilon$ is again an infinitesimal assuming $n$ is finite. But if we add up *infinitely* many infinitesimals we'll get something finite. This is the idea behind integration.\n",
    "\n",
    "Suppose we have again a function $y=f(x)$. For example, $y=\\sqrt{x}$."
   ]
  },
  {
   "cell_type": "code",
   "execution_count": 3,
   "id": "50c2197b",
   "metadata": {},
   "outputs": [
    {
     "data": {
      "image/png": "[encoded data removed]",
      "text/plain": [
       "<Figure size 400x300 with 1 Axes>"
      ]
     },
     "metadata": {},
     "output_type": "display_data"
    }
   ],
   "source": [
    "x = np.arange(0, 10, 0.1)\n",
    "y = np.sqrt(x)\n",
    "plot_function(x, y, (0, 10), (0, 4), title='$y=\\sqrt{x}$')"
   ]
  },
  {
   "cell_type": "code",
   "execution_count": 51,
   "id": "3303ce0a",
   "metadata": {},
   "outputs": [
    {
     "name": "stdout",
     "output_type": "stream",
     "text": [
      "Approximate Area: 22.468278186204103\n"
     ]
    },
    {
     "data": {
      "image/png": "[encoded data removed]",
      "text/plain": [
       "<Figure size 400x300 with 1 Axes>"
      ]
     },
     "metadata": {},
     "output_type": "display_data"
    }
   ],
   "source": [
    "def plot_area_under_curve(x, y, dx=1, title='', all_ticks=True):\n",
    "    x_rect = np.arange(min(x), max(x), dx) + dx / 2\n",
    "    n_rects = len(x_rect)\n",
    "    y_rect = np.sqrt(x_rect + dx / 2)\n",
    "    print(f'Approximate Area: {np.sum(y_rect * dx)}')\n",
    "    plt.figure(figsize=(4, 3))\n",
    "    plt.plot(x, y, color='red')\n",
    "    plt.bar(x_rect, y_rect, width=dx, alpha=1, edgecolor='black', facecolor='none', linewidth=1)\n",
    "    plt.title(f'Approximating Area: {n_rects} Rectangles')\n",
    "    if all_ticks:\n",
    "        plt.xticks(np.arange(min(x), max(x) + 1))\n",
    "    plt.show()\n",
    "    \n",
    "plot_area_under_curve(x, y, dx=1.0)"
   ]
  },
  {
   "cell_type": "code",
   "execution_count": 52,
   "id": "8b9eee73",
   "metadata": {},
   "outputs": [
    {
     "name": "stdout",
     "output_type": "stream",
     "text": [
      "Approximate Area: 21.380011968222313\n"
     ]
    },
    {
     "data": {
      "image/png": "[encoded data removed]",
      "text/plain": [
       "<Figure size 400x300 with 1 Axes>"
      ]
     },
     "metadata": {},
     "output_type": "display_data"
    }
   ],
   "source": [
    "plot_area_under_curve(x, y, dx=0.2, title=f'Approximating Area: {n_rects} Rectangles')"
   ]
  },
  {
   "cell_type": "markdown",
   "id": "4415f7ba",
   "metadata": {},
   "source": [
    "Suppose for whatever reason we're interested in the area bounded by the curve $y=\\sqrt{x}$ and the $x$ axis, say from $x=0$ to $x=10$. How would we calculate this? One idea might be to approximate the function with rectangles of width $dx=1$ and height $f(x)$, where $x$ is taken at each integer value $x=1,2,3,\\cdots,10$. Then approximately speaking the area would just be the sum of all these rectangles:\n",
    "\n",
    "$$\n",
    "\\begin{align}\n",
    "\\text{area} &\\approx f(1)dx + f(2)dx + f(3)dx + \\cdots + f(10)dx \\\\\n",
    "&= f(1) + f(2) + f(3) + \\cdots + f(10) \\\\\n",
    "&= \\sqrt{1} + \\sqrt{2} + \\sqrt{3} + \\cdots + \\sqrt{10} \\\\\n",
    "&\\approx 22.468\n",
    "\\end{align}\n",
    "$$\n",
    "\n",
    "Unfortunately there's an error in this answer. These rectangles tend to *overestimate* the area. The exact answer turns out to be $\\frac{20}{3}\\sqrt{10} \\approx 21.082$. How can we improve this estimate? Use more rectangles! Our problem was that the rectangles we used were too coarse. What we need to do is make $dx$ smaller and the number of rectangles used bigger.\n",
    "\n",
    "Suppose $N$ is the number or rectangles. We'll take the heights of the function at each equal length point $x_1,x_2,\\cdots,x_N$, each of width $dx$. Then\n",
    "$$\\text{area} \\approx f(x_1)dx + f(x_2)dx + f(x_3)dx + \\cdots + f(x_N)dx.$$\n",
    "It's annoying to write out these sums like this, so we have a shorthand for it using the capital sigma, $\\sum$:\n",
    "$$ \\text{area} \\approx \\sum_{n=1}^{N} f(x_n) dx.$$\n",
    "Read the righthand side of this expression as \"the **sum** of $f(x_n)dx$ from $n=1$ to $n=N$\" (in integer steps). It means exactly the same thing as the longhand form $f(x_1)dx + \\cdots + f(x_N)dx$, except it's more compact. \n",
    "\n",
    "If we keep making these rectangles smaller and smaller until $dx$ is infinitesimal and the number or rectangles is infinite, we'll get the *exact* area. In this situation we use a different symbol, $\\int$, a long S that looks like the S in \"sum\". It basically means the same thing that $\\Sigma$ does above, except it's understood that we're summing over infinitely many infinitesimal terms $f(x)dx$:\n",
    "$$\\text{area} = \\int_0^{10} f(x) dx.$$\n",
    "The right-hand side is called the (definite) **integral** of $y=f(x)$, and is read as \"the integral of $f(x)$ from $x=0$ to $x=10$\". The act of taking an integral of a function is called **integration**.\n",
    "\n",
    "Let's try to calculate these areas using smaller and smaller rectangles and see how close we can get to the exact answer. To do this, I'll define a lambda function for $f(x)=\\sqrt{x}$, and use a loop to calculate the area for successively smaller values of $dx$. Note $N$ follows from the choice of $dx$ since we must have $N=\\frac{b-a}{dx}$, which in this case is just $N=\\frac{10-0}{dx}$."
   ]
  },
  {
   "cell_type": "code",
   "execution_count": 7,
   "id": "ce0d32e4",
   "metadata": {},
   "outputs": [
    {
     "name": "stdout",
     "output_type": "stream",
     "text": [
      "N =     10 \t dx =   1.0000 \t area = 22.468278\n",
      "N =    100 \t dx =   0.1000 \t area = 21.233523\n",
      "N =   1000 \t dx =   0.0100 \t area = 21.097456\n",
      "N =  10000 \t dx =   0.0010 \t area = 21.083426\n",
      "N = 100000 \t dx =   0.0001 \t area = 21.082009\n"
     ]
    }
   ],
   "source": [
    "f = lambda x: np.sqrt(x)\n",
    "\n",
    "for dx in [1, 0.1, 0.01, 0.001, 0.0001]:\n",
    "    N = int(10 / dx)\n",
    "    xs = np.cumsum(dx * np.ones(N))\n",
    "    area = np.sum([f(x)*dx for x in xs])\n",
    "    print(f'N = {N:6d} \\t dx = {dx:8.4f} \\t area = {area:4f}')"
   ]
  },
  {
   "cell_type": "markdown",
   "id": "b75c5c2b",
   "metadata": {},
   "source": [
    "It looks like if we want to get the correct answer $21.082$ to 3 decimal places we'd need to use $N=100,000$ rectangles of width $dx=10^{-4}$. In practice, that's pretty horrible. There are better ways to actually calculate these integrals numerically on a computer than just using the above definition (look up [Simpson's Rule](https://en.wikipedia.org/wiki/Simpson%27s_rule) for example), but these aren't really important to know for machine learning.\n",
    "\n",
    "For an arbitrary function $y=f(x)$, the integral from a left-hand point $x=a$ to a right-hand point $x=b$ is given similarly by\n",
    "$$\\int_a^b y dx = \\int_a^b f(x) dx = \\sum_{n=1}^{N} f(x_n) dx,$$\n",
    "where $dx$ is taken to be infinitesimal and $N$ to be infinitely large in proportion, so that $x_n-x_{n-1}=dx$ for each $n=1,\\cdots,N$. That is, the integral is defined as the sum of infinitely small non-overlapping rectangles under the curve $f(x)$, each of width $dx$ and height $f(x_n)$.\n",
    "\n",
    "It's not at all clear from this definition how we'd get the *exact* answer $\\frac{20}{3}\\sqrt{10}$ shown above. We can get to it approximately by summing rectangles, but to actually be able to *calculate* the exact value we'd need a few integral laws. I'll state them, but again, you don't need to know them for machine learning. \n",
    "\n",
    "Before doing so I'll define the *indefinite* integral, which is the *function* $F(x)$ such that $f(x)=\\frac{d}{dx} F(x)$. That is, the indefinite integral is a function whose derivative is $y=f(x)$ (up to an additive constant). \n",
    "\n",
    "The definite integral defined above using rectangles can be easily evaluated from knowing $F(x)$ by using the rule\n",
    "$$\\int_a^b f(x) dx = F(b) - F(a).$$ This says intuitively that the area bound between $x=a$ and $x=b$ is just the area under the entire curve *up to* $x=b$, that is F(b), *minus* the area under the entire curve *before* $x=a$, that is F(a).\n",
    "\n",
    "Typically, the indefinite integral is written as an integral without the limits at the end, i.e.\n",
    "$$F(x) = \\int f(x) dx.$$ \n",
    "\n",
    "Here are the main integral laws. Notice that the laws below look a lot like the derivative laws defined above. That's not a coincidence. It all has to do with the fundamental theorem.\n",
    "\n",
    "Integral Laws:\n",
    "- Additive Rule: $\\int (u + v)dx = \\int udx + \\int vdx$ for any two functions $u=f(x)$ and $v=g(x)$,\n",
    "- Constant Rule: $\\int cy dx = c \\int y dx$ for any constant $c$,\n",
    "- Integration By Parts: $\\int u dv = uv - \\int v du$ for any two functions $u=f(x)$ and $v=g(x)$,\n",
    "- Change of Variables: $\\int f(u) du = \\int f(g(x)) \\frac{du}{dx} dx$ for any compositional function $y=f(u)$, $u=g(x)$, so $y=f(g(x))$.\n",
    "- Swapping Limits of Integration: $\\int_a^b f(x) dx = -\\int_b^a f(x) dx$.\n",
    "- Fundamental Theorem of Calculus: $\\frac{dF(x)}{dx}$ = $f(x)$, where $F(x) = \\int f(x) dx$.\n",
    "\n",
    "Here are some indefinite integrals of common functions:\n",
    "- $\\int c dx = cx$ for any constant $c$,\n",
    "- $\\int x^n dx = \\frac{x^{n+1}}{n+1}$ for any $n \\neq -1$\n",
    "- $\\int e^x dx = e^x$,\n",
    "- $\\int \\frac{1}{x}dx = \\log(x)$,\n",
    "- $\\int \\sin(x)dx = -\\cos(x)$,\n",
    "- $\\int \\cos(x)dx = \\sin(x)$,\n",
    "- $\\int \\text{sigmoid}(x)dx = \\log(1+e^x)$,\n",
    "- $\\int\\tanh(x)dx = \\log(\\cosh(x))$.\n",
    "\n",
    "\n",
    "Again, don't worry too much about this stuff. In practice it mainly suffices to know what an integral *is*, which is a the area under the curve $y=f(x)$ (at least for univariate functions). The calculational details aren't that important. WolframAlpha can handle those too. Here's an example, using it to calculate our definite integral above."
   ]
  },
  {
   "cell_type": "code",
   "execution_count": 8,
   "id": "c0ee2df5",
   "metadata": {},
   "outputs": [
    {
     "data": {
      "text/plain": [
       "'integral_0^10 sqrt(x)dx = (20 sqrt(10))/3≈21.082'"
      ]
     },
     "execution_count": 8,
     "metadata": {},
     "output_type": "execute_result"
    }
   ],
   "source": [
    "query_wolfram_alpha('integral sqrt(x) dx from 0 to 10')"
   ]
  },
  {
   "cell_type": "markdown",
   "id": "45b9d69c",
   "metadata": {},
   "source": [
    "Note: Despite appearing to be just like derivatives, integrals turn out to be *much* harder to calculate exactly. Not all functions even have an indefinite integral form. A famous example that we'll work with over and over is the Gaussian function or bell curve $y=e^{-x^2}$. There is no $F(x)$ such that $f(x)=e^{-x^2}$. This turns out to be true of all but the simplest functions. This isn't a real barrier in practice however, since we can always calculate definite integrals approximately by summing rectangles up just like we did above."
   ]
  },
  {
   "cell_type": "code",
   "execution_count": null,
   "id": "9ea49990",
   "metadata": {},
   "outputs": [],
   "source": []
  },
  {
   "cell_type": "code",
   "execution_count": null,
   "id": "349865ae",
   "metadata": {},
   "outputs": [],
   "source": []
  }
 ],
 "metadata": {
  "kernelspec": {
   "display_name": "Python 3 (ipykernel)",
   "language": "python",
   "name": "python3"
  },
  "language_info": {
   "codemirror_mode": {
    "name": "ipython",
    "version": 3
   },
   "file_extension": ".py",
   "mimetype": "text/x-python",
   "name": "python",
   "nbconvert_exporter": "python",
   "pygments_lexer": "ipython3",
   "version": "3.10.4"
  }
 },
 "nbformat": 4,
 "nbformat_minor": 5
}
