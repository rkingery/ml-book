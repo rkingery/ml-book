{
 "cells": [
  {
   "cell_type": "markdown",
   "id": "d528eb0d",
   "metadata": {},
   "source": [
    "# Linear Regression\n",
    "\n",
    "- Housing price prediction (sq ft -> price): $\\hat y = \\theta_0 + \\theta_1 x_1$\n",
    "- Housing price prediction (sq ft, # bedrooms, ... -> price): $\\hat y = \\theta_0 + \\theta_1 x_1 + \\cdots + \\theta_n x_n$\n",
    "- Definitions: \n",
    "    - inputs $x$ are \"features\"\n",
    "    - outputs $y$ are \"targets\"\n",
    "    - the $\\hat y$ are \"predictions\"\n",
    "    - the pairs $(x,y)$ are \"training examples\"\n",
    "    - coefficients $\\boldsymbol{\\theta} = \\theta_0,\\cdots,\\theta_n$ are \"parameters\"\n",
    "    - $\\theta_0$ is the \"bias\"\n",
    "    - $\\theta_1,\\cdots,\\theta_n$ are the \"weights\n",
    "    - loss function $L(\\hat y, y) = J(\\boldsymbol{\\theta})$\n",
    "- Notation zoo:\n",
    "    - $m$: # training examples\n",
    "    - $n$: # features\n",
    "    - i<sup>th</sup> training example: $\\boldsymbol{x}^{(i)}$\n",
    "    - j<sup>th</sup> feature vector: $\\boldsymbol{x}_j$\n",
    "    - data matrix: $\\boldsymbol{X}$ of shape $(m,n+1)$ if we take $\\boldsymbol{x}_0 = (1, \\cdots, 1)$\n",
    "    - target vector: $\\boldsymbol{y}$ of shape $(m,1)$\n",
    "- Goal: Choose \"best\" function $f(\\boldsymbol{x})$ such that $y \\approx \\hat y = f(\\boldsymbol{x})$, in the sense that some loss function $J(\\boldsymbol{\\theta}) = L(\\hat y, y)$ is minimized, where in this case\n",
    "$$J(\\boldsymbol{\\theta}) = \\frac{1}{2}||f(\\boldsymbol{X}|\\boldsymbol{\\theta}) - \\boldsymbol{y}||_2^2$$\n",
    "- Least Squares: Goal is to solve for the optimal $\\boldsymbol{\\hat \\theta}$ solving the problem\n",
    "$$\\underset{\\boldsymbol{\\theta}}{\\text{minimize}} \\ \\frac{1}{2}\\big(f(\\boldsymbol{X}|\\boldsymbol{\\theta}) - \\boldsymbol{y}\\big)^\\top \\big(f(\\boldsymbol{X}|\\boldsymbol{\\theta}) - \\boldsymbol{y}\\big).$$\n",
    "- Supposing $f(\\boldsymbol{X}|\\boldsymbol{\\theta}) = \\boldsymbol{X}^{\\top}\\boldsymbol{\\theta}$, the gradient $\\frac{d}{d\\boldsymbol{\\theta}} J(\\boldsymbol{\\theta})$ is just\n",
    "$$\\frac{d}{d\\boldsymbol{\\theta}} J( \\boldsymbol{\\theta}) = \\big(f(\\boldsymbol{X}|\\boldsymbol{\\theta}) - \\boldsymbol{y}\\big)^{\\top} \\boldsymbol{X}.$$\n",
    "- Using gradient descent, solve for $\\boldsymbol{\\hat \\theta}$ by making updates\n",
    "$$\\boldsymbol{\\theta} \\leftarrow \\boldsymbol{\\theta} - \\alpha \\cdot \\big(f(\\boldsymbol{X}|\\boldsymbol{\\theta}) - \\boldsymbol{y}\\big)^{\\top} \\boldsymbol{X}.$$\n",
    "- Another way to solve is by solving for $\\boldsymbol{\\hat \\theta}$ analytically, which gives the normal equation\n",
    "$$\\boldsymbol{X}^{\\top}\\boldsymbol{y} = \\boldsymbol{X}^{\\top}\\boldsymbol{X}\\boldsymbol{\\hat \\theta},$$\n",
    "$$\\boldsymbol{\\hat \\theta} = \\big(\\boldsymbol{X}^{\\top}\\boldsymbol{X} \\big)^{-1} \\boldsymbol{X}^{\\top}\\boldsymbol{y}.$$\n",
    "- Consider showing gradient descent work interactively here, for both 2D and 3D situations.\n",
    "- Trying to model the random variable $\\boldsymbol{y} = f(\\boldsymbol{X}) + \\boldsymbol{\\varepsilon}$, where $\\boldsymbol{\\varepsilon} \\sim p(\\boldsymbol{x})$ with mean zero.\n",
    "    - Common choice (Gauss-Markov): $\\boldsymbol{\\varepsilon} \\overset{iid}{\\sim} \\mathcal{N}(\\boldsymbol{0}, \\sigma^2\\boldsymbol{I})$"
   ]
  },
  {
   "cell_type": "code",
   "execution_count": null,
   "id": "399614e7",
   "metadata": {},
   "outputs": [],
   "source": []
  },
  {
   "cell_type": "code",
   "execution_count": null,
   "id": "87d7ed2a",
   "metadata": {},
   "outputs": [],
   "source": []
  },
  {
   "cell_type": "code",
   "execution_count": null,
   "id": "b72d1d53",
   "metadata": {},
   "outputs": [],
   "source": []
  }
 ],
 "metadata": {
  "kernelspec": {
   "display_name": "Python 3 (ipykernel)",
   "language": "python",
   "name": "python3"
  },
  "language_info": {
   "codemirror_mode": {
    "name": "ipython",
    "version": 3
   },
   "file_extension": ".py",
   "mimetype": "text/x-python",
   "name": "python",
   "nbconvert_exporter": "python",
   "pygments_lexer": "ipython3",
   "version": "3.10.4"
  }
 },
 "nbformat": 4,
 "nbformat_minor": 5
}
