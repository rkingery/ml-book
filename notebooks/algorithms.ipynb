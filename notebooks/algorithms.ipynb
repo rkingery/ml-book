{
 "cells": [
  {
   "cell_type": "markdown",
   "id": "c9c9ff26",
   "metadata": {},
   "source": [
    "# Programming and Algorithms\n",
    "\n",
    "I'll begin this book by introducing the most fundamentally important background topics to know to be able to read the rest of this book and any future material on machine learning. Specifically, I'll briefly review the basics of computer programming in python before moving on to talk about the basic theory of algorithms. Let's get started.\n",
    "\n",
    "\n",
    "- Briefly cover the basics of programming in python: statements, operations, variables, conditionals, loops, functions\n",
    "- Describe what an algorithm is (sequence of instructions that terminate in finite time)\n",
    "- Give a crude model of a computer (von Neumann architecture)\n",
    "- Talk informally about big-O notation as it pertains to algorithmic runtime and memory\n",
    "- Show a simple example of how to improve an algorithm's runtime and memory, with useful tips on ways to do that\n",
    "- Talk about profiling both time and memory and how at the end of the day that's what really matters (plus correctness)"
   ]
  },
  {
   "cell_type": "code",
   "execution_count": null,
   "id": "438fdc90",
   "metadata": {},
   "outputs": [],
   "source": []
  },
  {
   "cell_type": "code",
   "execution_count": null,
   "id": "385ae138",
   "metadata": {},
   "outputs": [],
   "source": []
  },
  {
   "cell_type": "code",
   "execution_count": null,
   "id": "ade2ac70",
   "metadata": {},
   "outputs": [],
   "source": []
  },
  {
   "cell_type": "code",
   "execution_count": null,
   "id": "9ee0fcc9",
   "metadata": {},
   "outputs": [],
   "source": []
  },
  {
   "cell_type": "code",
   "execution_count": null,
   "id": "28dada83",
   "metadata": {},
   "outputs": [],
   "source": []
  },
  {
   "cell_type": "code",
   "execution_count": null,
   "id": "a69dfa87",
   "metadata": {},
   "outputs": [],
   "source": []
  },
  {
   "cell_type": "code",
   "execution_count": null,
   "id": "083f4b0f",
   "metadata": {},
   "outputs": [],
   "source": []
  },
  {
   "cell_type": "code",
   "execution_count": null,
   "id": "5bda2f49",
   "metadata": {},
   "outputs": [],
   "source": []
  },
  {
   "cell_type": "code",
   "execution_count": null,
   "id": "9b593311",
   "metadata": {},
   "outputs": [],
   "source": []
  },
  {
   "cell_type": "code",
   "execution_count": null,
   "id": "a93e1b95",
   "metadata": {},
   "outputs": [],
   "source": []
  },
  {
   "cell_type": "code",
   "execution_count": null,
   "id": "726b1422",
   "metadata": {},
   "outputs": [],
   "source": []
  },
  {
   "cell_type": "code",
   "execution_count": null,
   "id": "bc66dbcd",
   "metadata": {},
   "outputs": [],
   "source": []
  },
  {
   "cell_type": "code",
   "execution_count": null,
   "id": "cddddb42",
   "metadata": {},
   "outputs": [],
   "source": []
  },
  {
   "cell_type": "code",
   "execution_count": null,
   "id": "974f8134",
   "metadata": {},
   "outputs": [],
   "source": []
  },
  {
   "cell_type": "code",
   "execution_count": null,
   "id": "a6f944d1",
   "metadata": {},
   "outputs": [],
   "source": []
  },
  {
   "cell_type": "code",
   "execution_count": null,
   "id": "c7e57209",
   "metadata": {},
   "outputs": [],
   "source": []
  },
  {
   "cell_type": "code",
   "execution_count": null,
   "id": "ca3a874a",
   "metadata": {},
   "outputs": [],
   "source": []
  },
  {
   "cell_type": "code",
   "execution_count": null,
   "id": "523fba3a",
   "metadata": {},
   "outputs": [],
   "source": []
  },
  {
   "cell_type": "code",
   "execution_count": null,
   "id": "c1888dc9",
   "metadata": {},
   "outputs": [],
   "source": []
  },
  {
   "cell_type": "code",
   "execution_count": null,
   "id": "9b683072",
   "metadata": {},
   "outputs": [],
   "source": []
  },
  {
   "cell_type": "code",
   "execution_count": null,
   "id": "a387d54e",
   "metadata": {},
   "outputs": [],
   "source": []
  },
  {
   "cell_type": "markdown",
   "id": "f6d02a02",
   "metadata": {},
   "source": [
    "Before finishing up, I'll mention that notions like FLOPs and words of memory are only abstractions to the real things we care about, how long a function *actually* takes to run (like in seconds), and how much memory is *actually* being used (like in bytes). When in doubt, if a function is running too slow, your best bet will be to run a **profiler** on the function to see how long it's taking and how much memory it's using. In jupyter, you can profile your code using one of the following magic commands:\n",
    "\n",
    "- `%timeit`: Runs the code a bunch of times and returns the average time it takes for the line to run. This is useful when you just want to get an idea how long something takes to run.\n",
    "- `%prun`: Runs a profiler on the code and reports various timing statistics on the entire function.\n",
    "- `%lprun`: Runs a profiler on the code, but reports timing statistics line-by-line, so you can see which lines of code are running slow. \n",
    "    - This is the most useful profiler in my opinion since you can see which actual lines are running slow.\n",
    "    - Need to install the `line_profiler` library first and load in the notebook with `%load_ext line_profiler`\n",
    "- `%memit`: Runs a memory profiler on the code, returning statistics on how much memory is being taken up.\n",
    "    - Need to install the `memory_profiler` library first and load in the notebook with `%load_ext memory_profiler`\n",
    "- `%mprun`: Runs a memory profiler on the code, giving line-by-line statistics on how much memory each line is taking up.\n",
    "    - Annoyingly, this only works for functions defined from a python script, not from a notebook\n",
    "    - Need to install the `memory_profiler` library first and load in the notebook with`%load_ext memory_profiler`\n",
    "\n",
    "I'll run each of these profilers on the above function `element_wise_multiply` so you can see how they work. To run it, you first need to pass in some inputs. I'll define some reasonably large arrays for this. Notice, as you'd expect, it's the line defining `z` that's the worst offender. This is the idea that FLOPs and memory complexity already were capturing.\n"
   ]
  },
  {
   "cell_type": "code",
   "execution_count": null,
   "id": "21fa6227",
   "metadata": {},
   "outputs": [],
   "source": []
  },
  {
   "cell_type": "code",
   "execution_count": null,
   "id": "2a87b8a6",
   "metadata": {},
   "outputs": [],
   "source": []
  },
  {
   "cell_type": "code",
   "execution_count": null,
   "id": "a550092d",
   "metadata": {},
   "outputs": [],
   "source": [
    "#| echo: false\n",
    "\n",
    "# def element_wise_multiply(x, y):\n",
    "#     n = len(x)\n",
    "#     z = [x[i] * y[i] for i in range(n)]\n",
    "#     return z\n",
    "\n",
    "# n = 10000\n",
    "# x = np.ones(n).tolist()\n",
    "# y = np.ones(n).tolist()\n",
    "\n",
    "# %load_ext line_profiler\n",
    "# %load_ext memory_profiler\n",
    "\n",
    "# %timeit element_wise_multiply\n",
    "\n",
    "# a = %prun -r -s tottime element_wise_multiply(x, y);\n",
    "# a.print_stats()\n",
    "\n",
    "# a = %lprun -r -f element_wise_multiply element_wise_multiply(x, y);\n",
    "# a.print_stats()\n",
    "\n",
    "# %memit element_wise_multiply(x, y);"
   ]
  },
  {
   "cell_type": "code",
   "execution_count": null,
   "id": "c317d69e",
   "metadata": {},
   "outputs": [],
   "source": []
  },
  {
   "cell_type": "code",
   "execution_count": null,
   "id": "b664f38b",
   "metadata": {},
   "outputs": [],
   "source": []
  },
  {
   "cell_type": "code",
   "execution_count": null,
   "id": "f6e1363a",
   "metadata": {},
   "outputs": [],
   "source": []
  },
  {
   "cell_type": "code",
   "execution_count": null,
   "id": "93682952",
   "metadata": {},
   "outputs": [],
   "source": []
  },
  {
   "cell_type": "code",
   "execution_count": null,
   "id": "5974ec5e",
   "metadata": {},
   "outputs": [],
   "source": []
  },
  {
   "cell_type": "code",
   "execution_count": null,
   "id": "25815014",
   "metadata": {},
   "outputs": [],
   "source": []
  },
  {
   "cell_type": "code",
   "execution_count": null,
   "id": "a8305222",
   "metadata": {},
   "outputs": [],
   "source": []
  },
  {
   "cell_type": "code",
   "execution_count": null,
   "id": "3974ae02",
   "metadata": {},
   "outputs": [],
   "source": []
  },
  {
   "cell_type": "code",
   "execution_count": null,
   "id": "632181ad",
   "metadata": {},
   "outputs": [],
   "source": []
  },
  {
   "cell_type": "code",
   "execution_count": null,
   "id": "2ead45f9",
   "metadata": {},
   "outputs": [],
   "source": []
  },
  {
   "cell_type": "code",
   "execution_count": null,
   "id": "fa057513",
   "metadata": {},
   "outputs": [],
   "source": []
  },
  {
   "cell_type": "code",
   "execution_count": null,
   "id": "da9b7190",
   "metadata": {},
   "outputs": [],
   "source": []
  },
  {
   "cell_type": "code",
   "execution_count": null,
   "id": "00f7933d",
   "metadata": {},
   "outputs": [],
   "source": []
  },
  {
   "cell_type": "code",
   "execution_count": null,
   "id": "5cddef41",
   "metadata": {},
   "outputs": [],
   "source": []
  },
  {
   "cell_type": "code",
   "execution_count": null,
   "id": "bddf6876",
   "metadata": {},
   "outputs": [],
   "source": []
  },
  {
   "cell_type": "code",
   "execution_count": null,
   "id": "18e1fe45",
   "metadata": {},
   "outputs": [],
   "source": []
  },
  {
   "cell_type": "code",
   "execution_count": null,
   "id": "d16c3dc4",
   "metadata": {},
   "outputs": [],
   "source": []
  },
  {
   "cell_type": "code",
   "execution_count": null,
   "id": "e89c966f",
   "metadata": {},
   "outputs": [],
   "source": []
  },
  {
   "cell_type": "code",
   "execution_count": null,
   "id": "19753b8a",
   "metadata": {},
   "outputs": [],
   "source": []
  }
 ],
 "metadata": {
  "kernelspec": {
   "display_name": "Python 3 (ipykernel)",
   "language": "python",
   "name": "python3"
  },
  "language_info": {
   "codemirror_mode": {
    "name": "ipython",
    "version": 3
   },
   "file_extension": ".py",
   "mimetype": "text/x-python",
   "name": "python",
   "nbconvert_exporter": "python",
   "pygments_lexer": "ipython3",
   "version": "3.10.8"
  }
 },
 "nbformat": 4,
 "nbformat_minor": 5
}
